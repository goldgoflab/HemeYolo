{
 "cells": [
  {
   "cell_type": "code",
   "execution_count": 1,
   "id": "22fd8634",
   "metadata": {},
   "outputs": [
    {
     "name": "stderr",
     "output_type": "stream",
     "text": [
      "/home/aa-ssun2-cmp/anaconda3/envs/heme_seg/lib/python3.8/site-packages/tqdm/auto.py:22: TqdmWarning: IProgress not found. Please update jupyter and ipywidgets. See https://ipywidgets.readthedocs.io/en/stable/user_install.html\n",
      "  from .autonotebook import tqdm as notebook_tqdm\n"
     ]
    },
    {
     "name": "stdout",
     "output_type": "stream",
     "text": [
      "./yolov3-custom.cfg\n",
      "./yolov3-custom.cfg\n",
      "did you get activated?\n",
      "length of model list\n",
      "107\n"
     ]
    }
   ],
   "source": [
    "\n",
    "import cv2\n",
    "from pytorchyolo import detect, models\n",
    "import matplotlib.pyplot as plt\n",
    "import numpy as np\n",
    "# Load the YOLO model\n",
    "model = models.load_model(\n",
    "  \"./yolov3-custom.cfg\", \n",
    "  \"./checkpoints512.pth\")\n",
    "import glob\n",
    "from Classification.Heme_classifer import DeepHeme\n",
    "from tqdm import tqdm\n",
    "import os\n",
    "import pandas as pd\n",
    "from Visualization.Draw_box_dots import drawer\n",
    "# Output will be a numpy array in the following format:\n",
    "# [[x1, y1, x2, y2, confidence, class]]"
   ]
  },
  {
   "cell_type": "code",
   "execution_count": 37,
   "id": "e929d0a5",
   "metadata": {},
   "outputs": [
    {
     "name": "stdout",
     "output_type": "stream",
     "text": [
      "  adding: data/AML_M1/ (stored 0%)\n",
      "  adding: data/AML_M1/1082320222029011x335y63.png (deflated 0%)\n",
      "  adding: data/AML_M1/1102620210134511x108y227.png (deflated 0%)\n",
      "  adding: data/AML_M1/1102620210134511x340y428.png (deflated 0%)\n",
      "  adding: data/AML_M1/1082320222029011x212y180.png (deflated 0%)\n",
      "  adding: data/AML_M1/1102620210134511x350y319.png (deflated 0%)\n",
      "  adding: data/AML_M1/1102620210134511x408y443.png (deflated 0%)\n",
      "  adding: data/AML_M1/1102620210134511x104y135.png (deflated 0%)\n",
      "  adding: data/AML_M1/1082320222029011x337y391.png (deflated 0%)\n",
      "  adding: data/AML_M1/1082320222029011x200y280.png (deflated 1%)\n",
      "  adding: data/AML_M1/1082320222029011x115y366.png (deflated 0%)\n",
      "  adding: data/AML_M1/1082320222029011x102y427.png (deflated 0%)\n",
      "  adding: data/AML_M1/1082320222029011x423y228.png (deflated 0%)\n",
      "  adding: data/AML_M1/1082320222029011x413y162.png (deflated 0%)\n",
      "  adding: data/AML_M1/1082320222029011x68y224.png (deflated 0%)\n",
      "  adding: data/AML_M1/1102620210134511x323y307.png (deflated 0%)\n",
      "  adding: data/AML_M1/1082320222029011x359y439.png (deflated 0%)\n",
      "  adding: data/AML_M1/1102620210134511x170y378.png (deflated 0%)\n",
      "  adding: data/AML_M1/1082320222029011x248y300.png (deflated 0%)\n",
      "  adding: data/AML_M1/1102620210134511x322y268.png (deflated 0%)\n",
      "  adding: data/AML_M1/1102620210134511x428y378.png (deflated 0%)\n",
      "  adding: data/AML_M1/1102620210134511x362y426.png (deflated 1%)\n",
      "  adding: data/AML_M1/1082320222029011x308y111.png (deflated 0%)\n",
      "  adding: data/AML_M1/1082320222029011x111y69.png (deflated 0%)\n",
      "  adding: data/AML_M1/1082320222029011x127y74.png (deflated 0%)\n",
      "  adding: data/AML_M1/1082320222029011x261y154.png (deflated 0%)\n",
      "  adding: data/AML_M1/1082320222029011x222y423.png (deflated 0%)\n",
      "  adding: data/AML_M1/1082320222029011x283y108.png (deflated 0%)\n",
      "  adding: data/AML_M1/1082320222029011x89y333.png (deflated 0%)\n",
      "  adding: data/AML_M1/1082320222029011x420y440.png (deflated 0%)\n",
      "  adding: data/AML_M1/1082320222029011x402y105.png (deflated 0%)\n",
      "  adding: data/AML_M1/1082320222029011x369y320.png (stored 0%)\n",
      "  adding: data/AML_M1/1082320222029011x284y185.png (deflated 0%)\n",
      "  adding: data/AML_M1/1082320222029011x139y311.png (stored 0%)\n",
      "  adding: data/AML_M1/1102620210134511x281y151.png (deflated 0%)\n",
      "  adding: data/AML_M1/1082320222029011x104y226.png (deflated 0%)\n",
      "  adding: data/AML_M1/1082320222029011x258y451.png (deflated 0%)\n",
      "  adding: data/AML_M1/1082320222029011x398y439.png (deflated 0%)\n",
      "  adding: data/AML_M1/1102620210134511x386y400.png (deflated 1%)\n",
      "  adding: data/AML_M1/1102620210134511x298y99.png (deflated 0%)\n",
      "  adding: data/AML_M1/1102620210134511x296y321.png (deflated 0%)\n",
      "  adding: data/AML_M1/1082320222029011x391y101.png (deflated 0%)\n",
      "  adding: data/AML_M1/1082320222029011x91y191.png (deflated 0%)\n",
      "  adding: data/AML_M1/1102620210134511x72y350.png (stored 0%)\n",
      "  adding: data/AML_M1/1082320222029011x413y113.png (deflated 0%)\n",
      "  adding: data/AML_M1/1082320222029011x281y325.png (deflated 0%)\n",
      "  adding: data/AML_M1/1082320222029011x350y423.png (deflated 0%)\n",
      "  adding: data/AML_M1/1082320222029011x463y428.png (deflated 0%)\n",
      "  adding: data/AML_M1/1082320222029011x220y108.png (deflated 0%)\n",
      "  adding: data/AML_M1/1082320222029011x142y152.png (deflated 0%)\n",
      "  adding: data/AML_M1/1082320222029011x364y310.png (stored 0%)\n",
      "  adding: data/AML_M1/1082320222029011x341y310.png (deflated 0%)\n",
      "  adding: data/AML_M1/1082320222029011x121y323.png (deflated 0%)\n",
      "  adding: data/AML_M1/1082320222029011x210y457.png (deflated 0%)\n",
      "  adding: data/AML_M1/1102620210134511x438y263.png (deflated 1%)\n",
      "  adding: data/AML_M1/1082320222029011x287y112.png (deflated 0%)\n",
      "  adding: data/AML_M1/1082320222029011x291y186.png (deflated 0%)\n",
      "  adding: data/AML_M1/1082320222029011x184y241.png (deflated 0%)\n",
      "  adding: data/AML_M1/1082320222029011x52y102.png (deflated 0%)\n",
      "  adding: data/AML_M1/1102620210134511x213y263.png (deflated 0%)\n",
      "  adding: data/AML_M1/1082320222029011x384y384.png (deflated 0%)\n",
      "  adding: data/AML_M1/1082320222029011x161y170.png (deflated 0%)\n",
      "  adding: data/AML_M1/1082320222029011x209y258.png (deflated 0%)\n",
      "  adding: data/AML_M1/1082320222029011x268y424.png (deflated 0%)\n",
      "  adding: data/AML_M1/1082320222029011x416y383.png (deflated 0%)\n",
      "  adding: data/AML_M1/1082320222029011x267y326.png (deflated 0%)\n",
      "  adding: data/AML_M1/1082320222029011x96y381.png (deflated 0%)\n",
      "  adding: data/AML_M1/1082320222029011x260y190.png (deflated 0%)\n",
      "  adding: data/AML_M1/1102620210134511x290y381.png (deflated 1%)\n",
      "  adding: data/AML_M1/1102620210134511x245y387.png (deflated 0%)\n",
      "  adding: data/AML_M1/1082320222029011x383y412.png (deflated 0%)\n",
      "  adding: data/AML_M1/1102620210134511x454y427.png (deflated 1%)\n",
      "  adding: data/AML_M1/1102620210134511x416y350.png (deflated 0%)\n",
      "  adding: data/AML_M1/1082320222029011x224y454.png (deflated 0%)\n",
      "  adding: data/AML_M1/1102620210134511x139y124.png (deflated 0%)\n",
      "  adding: data/AML_M1/1102620210134511x424y168.png (deflated 1%)\n",
      "  adding: data/AML_M1/1082320222029011x91y140.png (deflated 0%)\n",
      "  adding: data/AML_M1/1082320222029011x224y451.png (deflated 0%)\n",
      "  adding: data/AML_M1/1082320222029011x424y427.png (deflated 0%)\n",
      "  adding: data/AML_M1/1102620210134511x127y248.png (deflated 0%)\n",
      "  adding: data/AML_M1/1082320222029011x425y247.png (deflated 0%)\n",
      "  adding: data/AML_M1/1102620210134511x107y70.png (deflated 0%)\n",
      "  adding: data/AML_M1/1082320222029011x302y145.png (deflated 0%)\n",
      "  adding: data/AML_M1/1082320222029011x304y188.png (deflated 0%)\n",
      "  adding: data/AML_M1/1102620210134511x248y181.png (deflated 0%)\n",
      "  adding: data/AML_M1/1082320222029011x220y345.png (deflated 0%)\n",
      "  adding: data/AML_M1/1102620210134511x341y318.png (deflated 1%)\n",
      "  adding: data/AML_M1/1082320222029011x261y346.png (deflated 0%)\n",
      "  adding: data/AML_M1/1082320222029011x271y131.png (deflated 0%)\n",
      "  adding: data/AML_M1/1082320222029011x222y245.png (deflated 0%)\n",
      "  adding: data/AML_M1/1082320222029011x244y72.png (deflated 0%)\n",
      "  adding: data/AML_M1/1082320222029011x210y111.png (deflated 0%)\n",
      "  adding: data/AML_M1/1082320222029011x329y385.png (deflated 0%)\n",
      "  adding: data/AML_M1/1082320222029011x175y113.png (deflated 0%)\n",
      "  adding: data/AML_M1/1102620210134511x379y153.png (deflated 1%)\n",
      "  adding: data/AML_M1/1082320222029011x113y415.png (stored 0%)\n",
      "  adding: data/AML_M1/1102620210134511x63y164.png (deflated 1%)\n",
      "  adding: data/AML_M1/1082320222029011x460y320.png (deflated 0%)\n",
      "  adding: data/AML_M1/1082320222029011x92y422.png (deflated 0%)\n",
      "  adding: data/AML_M1/1102620210134511x420y386.png (deflated 0%)\n",
      "  adding: data/AML_M1/1082320222029011x108y271.png (deflated 0%)\n",
      "  adding: data/AML_M1/1082320222029011x55y111.png (deflated 0%)\n",
      "  adding: data/AML_M1/1082320222029011x264y213.png (deflated 0%)\n",
      "  adding: data/AML_M1/1082320222029011x374y137.png (deflated 0%)\n",
      "  adding: data/AML_M1/1082320222029011x130y103.png (deflated 0%)\n",
      "  adding: data/AML_M1/1082320222029011x188y108.png (deflated 0%)\n",
      "  adding: data/AML_M1/1082320222029011x200y282.png (deflated 0%)\n",
      "  adding: data/AML_M1/1082320222029011x51y181.png (deflated 0%)\n",
      "  adding: data/AML_M1/1082320222029011x357y130.png (deflated 0%)\n",
      "  adding: data/AML_M1/1082320222029011x230y269.png (deflated 0%)\n",
      "  adding: data/AML_M1/1082320222029011x440y74.png (deflated 0%)\n",
      "  adding: data/AML_M1/1082320222029011x70y376.png (deflated 0%)\n",
      "  adding: data/AML_M1/1082320222029011x417y287.png (deflated 0%)\n",
      "  adding: data/AML_M1/1082320222029011x148y337.png (deflated 0%)\n",
      "  adding: data/AML_M1/1082320222029011x180y387.png (deflated 0%)\n",
      "  adding: data/AML_M1/1082320222029011x429y168.png (deflated 0%)\n",
      "  adding: data/AML_M1/1102620210134511x51y267.png (deflated 0%)\n",
      "  adding: data/AML_M1/1082320222029011x186y383.png (deflated 0%)\n",
      "  adding: data/AML_M1/1082320222029011x263y66.png (deflated 0%)\n",
      "  adding: data/AML_M1/1102620210134511x84y49.png (deflated 0%)\n",
      "  adding: data/AML_M1/1082320222029011x280y85.png (deflated 0%)\n",
      "  adding: data/AML_M1/1082320222029011x310y132.png (deflated 0%)\n",
      "  adding: data/AML_M1/1082320222029011x266y144.png (deflated 0%)\n",
      "  adding: data/AML_M1/1082320222029011x216y233.png (deflated 0%)\n",
      "  adding: data/AML_M1/1082320222029011x330y162.png (deflated 0%)\n",
      "  adding: data/AML_M1/1082320222029011x192y84.png (deflated 0%)\n",
      "  adding: data/AML_M1/1102620210134511x422y287.png (deflated 0%)\n",
      "  adding: data/AML_M1/1082320222029011x293y292.png (deflated 0%)\n",
      "  adding: data/AML_M1/1082320222029011x257y439.png (deflated 0%)\n",
      "  adding: data/AML_M1/1082320222029011x260y322.png (deflated 0%)\n",
      "  adding: data/AML_M1/1082320222029011x141y347.png (deflated 0%)\n",
      "  adding: data/AML_M1/1082320222029011x227y188.png (deflated 0%)\n",
      "  adding: data/AML_M1/1082320222029011x372y107.png (deflated 0%)\n",
      "  adding: data/AML_M1/1082320222029011x438y267.png (deflated 0%)\n",
      "  adding: data/AML_M1/1082320222029011x50y373.png (deflated 0%)\n",
      "  adding: data/AML_M1/1082320222029011x67y423.png (deflated 0%)\n",
      "  adding: data/AML_M1/1082320222029011x130y386.png (deflated 0%)\n",
      "  adding: data/AML_M1/1082320222029011x103y128.png (deflated 0%)\n",
      "  adding: data/AML_M1/1082320222029011x169y423.png (deflated 0%)\n",
      "  adding: data/AML_M1/1082320222029011x460y88.png (deflated 0%)\n",
      "  adding: data/AML_M1/1102620210134511x380y270.png (deflated 0%)\n",
      "  adding: data/AML_M1/1082320222029011x346y376.png (deflated 0%)\n",
      "  adding: data/AML_M1/1082320222029011x165y143.png (deflated 0%)\n",
      "  adding: data/AML_M1/1102620210134511x325y299.png (deflated 1%)\n",
      "  adding: data/AML_M1/1102620210134511x262y405.png (deflated 0%)\n",
      "  adding: data/AML_M1/1082320222029011x85y99.png (deflated 0%)\n",
      "  adding: data/AML_M1/1082320222029011x105y310.png (deflated 0%)\n",
      "  adding: data/AML_M1/1082320222029011x387y112.png (deflated 0%)\n",
      "  adding: data/AML_M1/1082320222029011x401y84.png (deflated 0%)\n",
      "  adding: data/AML_M1/1102620210134511x176y145.png (deflated 0%)\n",
      "  adding: data/AML_M1/1102620210134511x229y257.png (deflated 0%)\n",
      "  adding: data/AML_M1/1102620210134511x110y383.png (deflated 0%)\n",
      "  adding: data/AML_M1/1102620210134511x242y307.png (deflated 0%)\n",
      "  adding: data/AML_M1/1082320222029011x310y144.png (deflated 0%)\n",
      "  adding: data/AML_M1/1082320222029011x374y116.png (deflated 0%)\n",
      "  adding: data/AML_M1/1082320222029011x257y107.png (deflated 0%)\n",
      "  adding: data/AML_M1/1102620210134511x104y252.png (deflated 0%)\n",
      "  adding: data/AML_M1/1102620210134511x415y175.png (deflated 0%)\n",
      "  adding: data/AML_M1/1082320222029011x323y113.png (deflated 0%)\n",
      "  adding: data/AML_M1/1082320222029011x180y384.png (deflated 0%)\n",
      "  adding: data/AML_M1/1082320222029011x53y244.png (deflated 0%)\n",
      "  adding: data/AML_M1/1082320222029011x152y88.png (deflated 0%)\n",
      "  adding: data/AML_M1/1082320222029011x161y208.png (deflated 0%)\n",
      "  adding: data/AML_M1/1102620210134511x92y146.png (deflated 1%)\n",
      "  adding: data/AML_M1/1082320222029011x332y209.png (deflated 0%)\n",
      "  adding: data/AML_M1/1102620210134511x65y233.png (deflated 1%)\n",
      "  adding: data/AML_M1/1102620210134511x319y326.png (deflated 0%)\n",
      "  adding: data/AML_M1/1082320222029011x186y332.png (deflated 0%)\n",
      "  adding: data/AML_M1/1082320222029011x370y439.png (deflated 0%)\n",
      "  adding: data/AML_M1/1082320222029011x188y65.png (stored 0%)\n",
      "  adding: data/AML_M1/1082320222029011x441y427.png (deflated 0%)\n",
      "  adding: data/AML_M1/1082320222029011x387y290.png (deflated 0%)\n",
      "  adding: data/AML_M1/1102620210134511x245y201.png (deflated 1%)\n",
      "  adding: data/AML_M1/1082320222029011x172y67.png (deflated 0%)\n",
      "  adding: data/AML_M1/1082320222029011x410y267.png (deflated 0%)\n",
      "  adding: data/AML_M1/1082320222029011x414y369.png (deflated 0%)\n",
      "  adding: data/AML_M1/1082320222029011x350y85.png (deflated 0%)\n",
      "  adding: data/AML_M1/1102620210134511x167y418.png (deflated 0%)\n",
      "  adding: data/AML_M1/1102620210134511x441y342.png (deflated 0%)\n",
      "  adding: data/AML_M1/1082320222029011x340y426.png (stored 0%)\n",
      "  adding: data/AML_M1/1082320222029011x172y85.png (deflated 0%)\n",
      "  adding: data/AML_M1/1082320222029011x438y307.png (stored 0%)\n",
      "  adding: data/AML_M1/1082320222029011x419y89.png (deflated 0%)\n",
      "  adding: data/AML_M1/1102620210134511x300y289.png (deflated 0%)\n",
      "  adding: data/AML_M1/1102620210134511x386y96.png (deflated 0%)\n",
      "  adding: data/AML_M1/1082320222029011x229y240.png (deflated 0%)\n",
      "  adding: data/AML_M1/1102620210134511x310y302.png (deflated 0%)\n",
      "  adding: data/AML_M1/1102620210134511x218y269.png (deflated 0%)\n",
      "  adding: data/AML_M1/1082320222029011x180y444.png (deflated 0%)\n",
      "  adding: data/AML_M1/1102620210134511x174y166.png (deflated 0%)\n",
      "  adding: data/AML_M1/1082320222029011x188y463.png (deflated 0%)\n",
      "  adding: data/AML_M1/1082320222029011x246y279.png (deflated 0%)\n",
      "  adding: data/AML_M1/1082320222029011x106y350.png (deflated 0%)\n",
      "  adding: data/AML_M1/1082320222029011x283y72.png (deflated 0%)\n",
      "  adding: data/AML_M1/1102620210134511x115y248.png (deflated 0%)\n",
      "  adding: data/AML_M1/1082320222029011x424y327.png (deflated 1%)\n",
      "  adding: data/AML_M1/1102620210134511x190y444.png (deflated 0%)\n",
      "  adding: data/AML_M1/1082320222029011x364y424.png (deflated 0%)\n",
      "  adding: data/AML_M1/1082320222029011x222y403.png (deflated 0%)\n",
      "  adding: data/AML_M1/1082320222029011x409y226.png (deflated 0%)\n",
      "  adding: data/AML_M1/1102620210134511x312y202.png (deflated 0%)\n",
      "  adding: data/AML_M1/1102620210134511x365y70.png (deflated 0%)\n",
      "  adding: data/AML_M1/1102620210134511x83y418.png (deflated 0%)\n",
      "  adding: data/AML_M1/1082320222029011x381y185.png (stored 0%)\n",
      "  adding: data/AML_M1/1082320222029011x216y226.png (deflated 0%)\n",
      "  adding: data/AML_M1/1082320222029011x309y161.png (deflated 0%)\n",
      "  adding: data/AML_M1/1082320222029011x251y423.png (deflated 0%)\n",
      "  adding: data/AML_M1/1082320222029011x178y229.png (deflated 0%)\n",
      "  adding: data/AML_M1/1102620210134511x303y111.png (deflated 0%)\n",
      "  adding: data/AML_M1/1082320222029011x141y268.png (deflated 0%)\n",
      "  adding: data/AML_M1/1082320222029011x362y384.png (deflated 0%)\n",
      "  adding: data/AML_M1/1082320222029011x163y425.png (stored 0%)\n",
      "  adding: data/AML_M1/1102620210134511x209y253.png (deflated 0%)\n",
      "  adding: data/AML_M1/1082320222029011x251y376.png (deflated 0%)\n",
      "  adding: data/AML_M1/1082320222029011x246y259.png (deflated 0%)\n",
      "  adding: data/AML_M1/1082320222029011x362y107.png (deflated 0%)\n",
      "  adding: data/AML_M1/1082320222029011x192y310.png (deflated 0%)\n",
      "  adding: data/AML_M1/1082320222029011x438y200.png (deflated 0%)\n",
      "  adding: data/AML_M1/1082320222029011x265y331.png (deflated 0%)\n",
      "  adding: data/AML_M1/1082320222029011x415y137.png (deflated 0%)\n",
      "  adding: data/AML_M1/1082320222029011x258y385.png (deflated 0%)\n",
      "  adding: data/AML_M1/1102620210134511x427y399.png (deflated 0%)\n",
      "  adding: data/AML_M1/1082320222029011x348y324.png (deflated 0%)\n",
      "  adding: data/AML_M1/1082320222029011x134y366.png (deflated 0%)\n",
      "  adding: data/AML_M1/1082320222029011x125y233.png (deflated 0%)\n",
      "  adding: data/AML_M1/1082320222029011x258y338.png (deflated 0%)\n",
      "  adding: data/AML_M1/1102620210134511x288y99.png (deflated 0%)\n",
      "  adding: data/AML_M1/1102620210134511x217y76.png (deflated 0%)\n",
      "  adding: data/AML_M1/1082320222029011x250y400.png (deflated 0%)\n",
      "  adding: data/AML_M1/1082320222029011x210y231.png (deflated 0%)\n",
      "  adding: data/AML_M1/1082320222029011x373y111.png (deflated 0%)\n",
      "  adding: data/AML_M1/1102620210134511x440y104.png (deflated 0%)\n",
      "  adding: data/AML_M1/1082320222029011x299y265.png (deflated 0%)\n",
      "  adding: data/AML_M1/1102620210134511x252y69.png (deflated 0%)\n",
      "  adding: data/AML_M1/1102620210134511x367y341.png (deflated 1%)\n",
      "  adding: data/AML_M1/1082320222029011x92y205.png (deflated 0%)\n",
      "  adding: data/AML_M1/1082320222029011x219y347.png (deflated 0%)\n",
      "  adding: data/AML_M1/1082320222029011x141y346.png (deflated 0%)\n",
      "  adding: data/AML_M1/1102620210134511x364y66.png (deflated 0%)\n",
      "  adding: data/AML_M1/1102620210134511x319y89.png (deflated 0%)\n",
      "  adding: data/AML_M1/1102620210134511x403y268.png (deflated 0%)\n",
      "  adding: data/AML_M1/1102620210134511x100y146.png (deflated 0%)\n",
      "  adding: data/AML_M1/1082320222029011x457y190.png (deflated 0%)\n",
      "  adding: data/AML_M1/1082320222029011x165y104.png (deflated 0%)\n",
      "  adding: data/AML_M1/1082320222029011x127y420.png (deflated 0%)\n",
      "  adding: data/AML_M1/1102620210134511x204y437.png (deflated 1%)\n",
      "  adding: data/AML_M1/1082320222029011x62y252.png (deflated 0%)\n",
      "  adding: data/AML_M1/1082320222029011x103y134.png (deflated 0%)\n",
      "  adding: data/AML_M1/1082320222029011x268y223.png (deflated 0%)\n",
      "  adding: data/AML_M1/1082320222029011x308y340.png (deflated 0%)\n",
      "  adding: data/AML_M1/1082320222029011x283y191.png (deflated 0%)\n",
      "  adding: data/AML_M1/1082320222029011x308y220.png (deflated 0%)\n",
      "  adding: data/AML_M1/1102620210134511x246y153.png (deflated 0%)\n",
      "  adding: data/AML_M1/1102620210134511x440y375.png (deflated 1%)\n"
     ]
    },
    {
     "name": "stdout",
     "output_type": "stream",
     "text": [
      "  adding: data/AML_M1/1082320222029011x269y380.png (deflated 0%)\n",
      "  adding: data/AML_M1/1082320222029011x322y348.png (deflated 0%)\n",
      "  adding: data/AML_M1/1102620210134511x64y161.png (deflated 1%)\n",
      "  adding: data/AML_M1/1102620210134511x382y59.png (deflated 0%)\n",
      "  adding: data/AML_M1/1082320222029011x206y307.png (deflated 0%)\n",
      "  adding: data/AML_M1/1082320222029011x271y189.png (deflated 0%)\n",
      "  adding: data/AML_M1/1082320222029011x397y48.png (deflated 0%)\n",
      "  adding: data/AML_M1/1102620210134511x421y398.png (deflated 0%)\n",
      "  adding: data/AML_M1/1102620210134511x285y210.png (deflated 1%)\n",
      "  adding: data/AML_M1/1082320222029011x263y114.png (deflated 0%)\n",
      "  adding: data/AML_M1/1082320222029011x59y309.png (deflated 0%)\n",
      "  adding: data/AML_M1/1082320222029011x54y347.png (deflated 0%)\n",
      "  adding: data/AML_M1/1082320222029011x448y423.png (deflated 0%)\n",
      "  adding: data/AML_M1/1082320222029011x269y349.png (deflated 0%)\n",
      "  adding: data/AML_M1/1082320222029011x296y301.png (deflated 0%)\n",
      "  adding: data/AML_M1/1082320222029011x145y174.png (deflated 0%)\n",
      "  adding: data/AML_M1/1102620210134511x83y321.png (deflated 0%)\n",
      "  adding: data/AML_M1/1082320222029011x280y122.png (deflated 0%)\n",
      "  adding: data/AML_M1/1082320222029011x141y254.png (deflated 0%)\n",
      "  adding: data/AML_M1/1082320222029011x56y180.png (deflated 0%)\n",
      "  adding: data/AML_M1/1082320222029011x359y307.png (deflated 0%)\n",
      "  adding: data/AML_M1/1082320222029011x307y185.png (deflated 0%)\n",
      "  adding: data/AML_M1/1082320222029011x441y415.png (deflated 1%)\n",
      "  adding: data/AML_M1/1082320222029011x221y102.png (deflated 0%)\n",
      "  adding: data/AML_M1/1102620210134511x335y381.png (deflated 0%)\n",
      "  adding: data/AML_M1/1102620210134511x366y83.png (deflated 0%)\n",
      "  adding: data/AML_M1/1082320222029011x309y403.png (deflated 0%)\n",
      "  adding: data/AML_M1/1102620210134511x405y124.png (deflated 0%)\n",
      "  adding: data/AML_M1/1082320222029011x70y311.png (deflated 0%)\n",
      "  adding: data/AML_M1/1082320222029011x272y203.png (deflated 0%)\n",
      "  adding: data/AML_M1/1082320222029011x309y262.png (deflated 0%)\n",
      "  adding: data/AML_M1/1082320222029011x87y193.png (deflated 0%)\n",
      "  adding: data/AML_M1/1082320222029011x146y320.png (deflated 0%)\n",
      "  adding: data/AML_M1/1082320222029011x112y221.png (deflated 0%)\n",
      "  adding: data/AML_M1/1082320222029011x245y422.png (deflated 0%)\n",
      "  adding: data/AML_M1/1082320222029011x105y318.png (deflated 0%)\n",
      "  adding: data/AML_M1/1082320222029011x65y82.png (deflated 0%)\n",
      "  adding: data/AML_M1/1082320222029011x379y64.png (deflated 0%)\n",
      "  adding: data/AML_M1/1082320222029011x189y382.png (deflated 0%)\n",
      "  adding: data/AML_M1/1102620210134511x401y289.png (stored 0%)\n",
      "  adding: data/AML_M1/1102620210134511x427y360.png (deflated 0%)\n",
      "  adding: data/AML_M1/1102620210134511x427y207.png (deflated 0%)\n",
      "  adding: data/AML_M1/1082320222029011x307y175.png (deflated 0%)\n",
      "  adding: data/AML_M1/1082320222029011x282y100.png (deflated 0%)\n",
      "  adding: data/AML_M1/1082320222029011x458y71.png (deflated 0%)\n",
      "  adding: data/AML_M1/1082320222029011x321y271.png (deflated 0%)\n",
      "  adding: data/AML_M1/1082320222029011x105y167.png (deflated 0%)\n",
      "  adding: data/AML_M1/1082320222029011x379y258.png (deflated 0%)\n",
      "  adding: data/AML_M1/1082320222029011x457y111.png (deflated 0%)\n",
      "  adding: data/AML_M1/1082320222029011x147y399.png (deflated 0%)\n",
      "  adding: data/AML_M1/1082320222029011x100y290.png (deflated 0%)\n",
      "  adding: data/AML_M1/1082320222029011x461y122.png (deflated 0%)\n",
      "  adding: data/AML_M1/1082320222029011x84y84.png (deflated 0%)\n",
      "  adding: data/AML_M1/1082320222029011x350y329.png (deflated 0%)\n",
      "  adding: data/AML_M1/1082320222029011x310y123.png (deflated 0%)\n",
      "  adding: data/AML_M1/1102620210134511x416y441.png (deflated 0%)\n",
      "  adding: data/AML_M1/1082320222029011x64y229.png (deflated 0%)\n",
      "  adding: data/AML_M1/1082320222029011x378y391.png (deflated 0%)\n",
      "  adding: data/AML_M1/1102620210134511x50y381.png (deflated 1%)\n",
      "  adding: data/AML_M1/1082320222029011x454y376.png (deflated 0%)\n",
      "  adding: data/AML_M1/1102620210134511x86y125.png (deflated 0%)\n",
      "  adding: data/AML_M1/1082320222029011x184y267.png (deflated 0%)\n",
      "  adding: data/AML_M1/1082320222029011x191y243.png (deflated 0%)\n",
      "  adding: data/AML_M1/1082320222029011x191y267.png (deflated 0%)\n",
      "  adding: data/AML_M1/1102620210134511x382y255.png (deflated 0%)\n",
      "  adding: data/AML_M1/1102620210134511x220y415.png (deflated 0%)\n",
      "  adding: data/AML_M1/1082320222029011x424y462.png (deflated 0%)\n",
      "  adding: data/AML_M1/1102620210134511x446y255.png (deflated 0%)\n",
      "  adding: data/AML_M1/1082320222029011x231y49.png (deflated 0%)\n",
      "  adding: data/AML_M1/1082320222029011x104y295.png (deflated 0%)\n",
      "  adding: data/AML_M1/1082320222029011x376y298.png (deflated 0%)\n",
      "  adding: data/AML_M1/1102620210134511x282y139.png (deflated 0%)\n",
      "  adding: data/AML_M1/1102620210134511x68y123.png (deflated 0%)\n",
      "  adding: data/AML_M1/1082320222029011x139y136.png (deflated 0%)\n",
      "  adding: data/AML_M1/1082320222029011x411y441.png (deflated 0%)\n",
      "  adding: data/AML_M1/1082320222029011x409y70.png (deflated 0%)\n",
      "  adding: data/AML_M1/1082320222029011x348y103.png (deflated 0%)\n",
      "  adding: data/AML_M1/1082320222029011x222y51.png (deflated 0%)\n",
      "  adding: data/AML_M1/1082320222029011x384y366.png (deflated 0%)\n",
      "  adding: data/AML_M1/1082320222029011x340y280.png (deflated 0%)\n",
      "  adding: data/AML_M1/1082320222029011x231y213.png (deflated 0%)\n",
      "  adding: data/AML_M1/1102620210134511x342y449.png (deflated 0%)\n",
      "  adding: data/AML_M1/1082320222029011x150y190.png (deflated 0%)\n",
      "  adding: data/AML_M1/1082320222029011x173y153.png (deflated 0%)\n",
      "  adding: data/AML_M1/1102620210134511x91y462.png (deflated 0%)\n",
      "  adding: data/AML_M1/1082320222029011x265y231.png (deflated 0%)\n",
      "  adding: data/AML_M1/1102620210134511x53y187.png (deflated 0%)\n",
      "  adding: data/AML_M1/1082320222029011x100y461.png (deflated 0%)\n",
      "  adding: data/AML_M1/1082320222029011x376y302.png (deflated 0%)\n",
      "  adding: data/AML_M1/1082320222029011x338y366.png (deflated 0%)\n",
      "  adding: data/AML_M1/1102620210134511x231y265.png (deflated 0%)\n",
      "  adding: data/AML_M1/1102620210134511x264y264.png (deflated 1%)\n",
      "  adding: data/AML_M1/1102620210134511x85y308.png (deflated 0%)\n",
      "  adding: data/AML_M1/1082320222029011x111y389.png (deflated 0%)\n",
      "  adding: data/AML_M1/1082320222029011x389y166.png (deflated 0%)\n",
      "  adding: data/AML_M1/1082320222029011x285y459.png (deflated 0%)\n",
      "  adding: data/AML_M1/1082320222029011x333y116.png (deflated 0%)\n",
      "  adding: data/AML_M1/1082320222029011x71y64.png (deflated 0%)\n",
      "  adding: data/AML_M1/1082320222029011x373y136.png (deflated 0%)\n",
      "  adding: data/AML_M1/1082320222029011x183y424.png (deflated 0%)\n",
      "  adding: data/AML_M1/1102620210134511x189y341.png (deflated 1%)\n",
      "  adding: data/AML_M1/1102620210134511x201y438.png (deflated 0%)\n",
      "  adding: data/AML_M1/1102620210134511x384y229.png (deflated 0%)\n",
      "  adding: data/AML_M1/1082320222029011x412y312.png (deflated 0%)\n",
      "  adding: data/AML_M1/1082320222029011x90y112.png (deflated 0%)\n",
      "  adding: data/AML_M1/1082320222029011x177y267.png (deflated 0%)\n",
      "  adding: data/AML_M1/1082320222029011x257y340.png (deflated 0%)\n",
      "  adding: data/AML_M1/1082320222029011x92y364.png (deflated 0%)\n",
      "  adding: data/AML_M1/1082320222029011x227y398.png (deflated 0%)\n",
      "  adding: data/AML_M1/1102620210134511x429y240.png (deflated 0%)\n",
      "  adding: data/AML_M1/1082320222029011x455y414.png (deflated 0%)\n",
      "  adding: data/AML_M1/1082320222029011x214y225.png (deflated 0%)\n",
      "  adding: data/AML_M1/1082320222029011x179y72.png (deflated 0%)\n",
      "  adding: data/AML_M1/1082320222029011x184y357.png (deflated 0%)\n",
      "  adding: data/AML_M1/1082320222029011x55y265.png (deflated 0%)\n",
      "  adding: data/AML_M1/1082320222029011x426y458.png (deflated 0%)\n",
      "  adding: data/AML_M1/1082320222029011x262y245.png (deflated 0%)\n",
      "  adding: data/AML_M1/1082320222029011x348y250.png (deflated 0%)\n",
      "  adding: data/AML_M1/1102620210134511x442y267.png (deflated 0%)\n",
      "  adding: data/AML_M1/1082320222029011x359y249.png (deflated 1%)\n",
      "  adding: data/AML_M1/1082320222029011x255y148.png (deflated 0%)\n",
      "  adding: data/AML_M1/1102620210134511x462y108.png (deflated 0%)\n",
      "  adding: data/AML_M1/1082320222029011x100y62.png (deflated 0%)\n",
      "  adding: data/AML_M1/1082320222029011x250y63.png (stored 0%)\n",
      "  adding: data/AML_M1/1102620210134511x185y134.png (deflated 0%)\n",
      "  adding: data/AML_M1/1102620210134511x185y385.png (deflated 0%)\n",
      "  adding: data/AML_M1/1102620210134511x222y320.png (deflated 0%)\n",
      "  adding: data/AML_M1/1082320222029011x324y387.png (deflated 0%)\n",
      "  adding: data/AML_M1/1082320222029011x128y422.png (deflated 0%)\n",
      "  adding: data/AML_M1/1082320222029011x192y267.png (deflated 0%)\n",
      "  adding: data/AML_M1/1082320222029011x429y373.png (deflated 0%)\n",
      "  adding: data/AML_M1/1082320222029011x285y266.png (deflated 0%)\n",
      "  adding: data/AML_M1/1082320222029011x346y86.png (deflated 0%)\n",
      "  adding: data/AML_M1/1082320222029011x413y270.png (deflated 0%)\n",
      "  adding: data/AML_M1/1102620210134511x175y338.png (deflated 0%)\n",
      "  adding: data/AML_M1/1082320222029011x456y450.png (deflated 0%)\n",
      "  adding: data/AML_M1/1082320222029011x201y285.png (deflated 0%)\n",
      "  adding: data/AML_M1/1102620210134511x335y105.png (deflated 0%)\n",
      "  adding: data/AML_M1/1082320222029011x217y428.png (stored 0%)\n",
      "  adding: data/AML_M1/1082320222029011x266y114.png (deflated 0%)\n",
      "  adding: data/AML_M1/1102620210134511x130y241.png (deflated 0%)\n",
      "  adding: data/AML_M1/1102620210134511x421y96.png (deflated 0%)\n",
      "  adding: data/AML_M1/1102620210134511x219y384.png (deflated 1%)\n",
      "  adding: data/AML_M1/1102620210134511x390y124.png (deflated 0%)\n",
      "  adding: data/AML_M1/1082320222029011x370y344.png (deflated 0%)\n",
      "  adding: data/AML_M1/1102620210134511x369y307.png (deflated 0%)\n",
      "  adding: data/AML_M1/1102620210134511x463y402.png (deflated 0%)\n",
      "  adding: data/AML_M1/1102620210134511x105y63.png (deflated 0%)\n",
      "  adding: data/AML_M1/1082320222029011x347y150.png (deflated 0%)\n",
      "  adding: data/AML_M1/1082320222029011x72y346.png (deflated 0%)\n",
      "  adding: data/AML_M1/1102620210134511x306y301.png (deflated 0%)\n",
      "  adding: data/AML_M1/1082320222029011x321y171.png (deflated 0%)\n",
      "  adding: data/AML_M1/1082320222029011x326y108.png (deflated 0%)\n",
      "  adding: data/AML_M1/1082320222029011x422y438.png (deflated 0%)\n",
      "  adding: data/AML_M1/1082320222029011x268y183.png (deflated 0%)\n",
      "  adding: data/AML_M1/1082320222029011x108y301.png (deflated 0%)\n",
      "  adding: data/AML_M1/1082320222029011x55y351.png (deflated 0%)\n",
      "  adding: data/AML_M1/1102620210134511x407y312.png (deflated 0%)\n",
      "  adding: data/AML_M1/1082320222029011x218y430.png (deflated 0%)\n",
      "  adding: data/AML_M1/1102620210134511x177y209.png (deflated 1%)\n",
      "  adding: data/AML_M1/1082320222029011x239y273.png (deflated 0%)\n",
      "  adding: data/AML_M1/1082320222029011x269y72.png (deflated 0%)\n",
      "  adding: data/AML_M1/1102620210134511x89y92.png (deflated 0%)\n",
      "  adding: data/AML_M1/1082320222029011x131y225.png (deflated 0%)\n",
      "  adding: data/AML_M1/1082320222029011x48y88.png (deflated 0%)\n",
      "  adding: data/AML_M1/1102620210134511x426y107.png (deflated 0%)\n",
      "  adding: data/AML_M1/1082320222029011x428y365.png (deflated 0%)\n",
      "  adding: data/AML_M1/1082320222029011x60y281.png (deflated 0%)\n",
      "  adding: data/AML_M1/1082320222029011x191y264.png (deflated 0%)\n",
      "  adding: data/AML_M1/1082320222029011x242y164.png (deflated 0%)\n",
      "  adding: data/AML_M1/1082320222029011x186y386.png (deflated 0%)\n",
      "  adding: data/AML_M1/1102620210134511x407y424.png (deflated 0%)\n",
      "  adding: data/AML_M1/1082320222029011x425y202.png (deflated 0%)\n",
      "  adding: data/AML_M1/1082320222029011x306y358.png (deflated 0%)\n",
      "  adding: data/AML_M1/1102620210134511x299y425.png (deflated 0%)\n",
      "  adding: data/AML_M1/1082320222029011x86y51.png (deflated 0%)\n",
      "  adding: data/AML_M1/1082320222029011x150y69.png (deflated 0%)\n",
      "  adding: data/AML_M1/1082320222029011x412y262.png (deflated 0%)\n",
      "  adding: data/AML_M1/1082320222029011x220y387.png (deflated 0%)\n",
      "  adding: data/AML_M1/1102620210134511x210y334.png (deflated 0%)\n",
      "  adding: data/AML_M1/1082320222029011x410y268.png (deflated 0%)\n",
      "  adding: data/AML_M1/1082320222029011x191y192.png (deflated 0%)\n",
      "  adding: data/AML_M1/1082320222029011x165y265.png (deflated 0%)\n",
      "  adding: data/AML_M1/1082320222029011x170y65.png (deflated 0%)\n",
      "  adding: data/AML_M1/1102620210134511x287y190.png (deflated 0%)\n",
      "  adding: data/AML_M1/1082320222029011x100y388.png (deflated 0%)\n",
      "  adding: data/AML_M1/1082320222029011x105y163.png (deflated 0%)\n",
      "  adding: data/AML_M1/1082320222029011x247y418.png (deflated 0%)\n",
      "  adding: data/AML_M1/1082320222029011x324y64.png (deflated 0%)\n",
      "  adding: data/AML_M1/1082320222029011x229y415.png (deflated 0%)\n",
      "  adding: data/AML_M1/1082320222029011x442y227.png (deflated 0%)\n",
      "  adding: data/AML_M1/1102620210134511x302y265.png (deflated 0%)\n",
      "  adding: data/AML_M1/1102620210134511x133y298.png (deflated 0%)\n",
      "  adding: data/AML_M1/1102620210134511x52y100.png (deflated 0%)\n",
      "  adding: data/AML_M1/1082320222029011x127y429.png (deflated 0%)\n",
      "  adding: data/AML_M1/1082320222029011x360y130.png (deflated 0%)\n",
      "  adding: data/AML_M1/1082320222029011x303y269.png (deflated 1%)\n",
      "  adding: data/AML_M1/1082320222029011x383y357.png (deflated 0%)\n",
      "  adding: data/AML_M1/1082320222029011x110y386.png (deflated 0%)\n",
      "  adding: data/AML_M1/1082320222029011x406y184.png (deflated 0%)\n",
      "  adding: data/AML_M1/1102620210134511x72y112.png (deflated 0%)\n",
      "  adding: data/AML_M1/1102620210134511x382y254.png (deflated 0%)\n",
      "  adding: data/AML_M1/1082320222029011x149y344.png (deflated 0%)\n",
      "  adding: data/AML_M1/1082320222029011x60y172.png (deflated 0%)\n",
      "  adding: data/AML_M1/1082320222029011x99y72.png (deflated 0%)\n",
      "  adding: data/AML_M1/1102620210134511x335y100.png (deflated 0%)\n",
      "  adding: data/AML_M1/1082320222029011x445y427.png (deflated 0%)\n",
      "  adding: data/AML_M1/1102620210134511x266y68.png (deflated 0%)\n",
      "  adding: data/AML_M1/1102620210134511x105y339.png (deflated 1%)\n",
      "  adding: data/AML_M1/1082320222029011x375y459.png (deflated 0%)\n",
      "  adding: data/AML_M1/1082320222029011x268y106.png (deflated 0%)\n",
      "  adding: data/AML_M1/1082320222029011x368y189.png (deflated 0%)\n",
      "  adding: data/AML_M1/1102620210134511x454y399.png (deflated 1%)\n",
      "  adding: data/AML_M1/1102620210134511x310y409.png (deflated 1%)\n",
      "  adding: data/AML_M1/1082320222029011x162y437.png (deflated 0%)\n",
      "  adding: data/AML_M1/1082320222029011x89y364.png (deflated 0%)\n",
      "  adding: data/AML_M1/1102620210134511x256y388.png (deflated 0%)\n",
      "  adding: data/AML_M1/1082320222029011x440y449.png (deflated 0%)\n",
      "  adding: data/AML_M1/1102620210134511x138y374.png (deflated 1%)\n",
      "  adding: data/AML_M1/1082320222029011x348y240.png (deflated 0%)\n",
      "  adding: data/AML_M1/1082320222029011x72y187.png (deflated 0%)\n",
      "  adding: data/AML_M1/1102620210134511x330y273.png (deflated 0%)\n",
      "  adding: data/AML_M1/1082320222029011x144y385.png (deflated 0%)\n",
      "  adding: data/AML_M1/1082320222029011x347y245.png (deflated 0%)\n",
      "  adding: data/AML_M1/1082320222029011x109y221.png (deflated 0%)\n",
      "  adding: data/AML_M1/1082320222029011x459y311.png (deflated 0%)\n",
      "  adding: data/AML_M1/1082320222029011x250y357.png (deflated 1%)\n",
      "  adding: data/AML_M1/1082320222029011x348y187.png (deflated 0%)\n",
      "  adding: data/AML_M1/1082320222029011x438y420.png (deflated 0%)\n",
      "  adding: data/AML_M1/1102620210134511x402y244.png (deflated 0%)\n",
      "  adding: data/AML_M1/1082320222029011x252y252.png (deflated 0%)\n",
      "  adding: data/AML_M1/1082320222029011x75y133.png (deflated 0%)\n",
      "  adding: data/AML_M1/1082320222029011x306y387.png (deflated 0%)\n",
      "  adding: data/AML_M1/1082320222029011x59y460.png (deflated 1%)\n",
      "  adding: data/AML_M1/1102620210134511x462y378.png (deflated 0%)\n",
      "  adding: data/AML_M1/1102620210134511x152y303.png (deflated 0%)\n",
      "  adding: data/AML_M1/1082320222029011x452y260.png (deflated 0%)\n",
      "  adding: data/AML_M1/1102620210134511x349y253.png (deflated 1%)\n",
      "  adding: data/AML_M1/1102620210134511x305y72.png (deflated 1%)\n",
      "  adding: data/AML_M1/1102620210134511x289y229.png (deflated 0%)\n",
      "  adding: data/AML_M1/1082320222029011x181y111.png (deflated 0%)\n",
      "  adding: data/AML_M1/1082320222029011x264y232.png (deflated 0%)\n",
      "  adding: data/AML_M1/1082320222029011x385y207.png (deflated 1%)\n",
      "  adding: data/AML_M1/1102620210134511x406y271.png (deflated 0%)\n",
      "  adding: data/AML_M1/1082320222029011x48y319.png (deflated 0%)\n",
      "  adding: data/AML_M1/1102620210134511x132y185.png (deflated 1%)\n",
      "  adding: data/AML_M1/1102620210134511x86y297.png (deflated 0%)\n",
      "  adding: data/AML_M1/1102620210134511x129y135.png (deflated 0%)\n",
      "  adding: data/AML_M1/1102620210134511x411y176.png (deflated 1%)\n",
      "  adding: data/AML_M1/1082320222029011x438y362.png (deflated 0%)\n",
      "  adding: data/AML_M1/1102620210134511x136y225.png (deflated 1%)\n",
      "  adding: data/AML_M1/1102620210134511x457y173.png (deflated 0%)\n"
     ]
    },
    {
     "name": "stdout",
     "output_type": "stream",
     "text": [
      "  adding: data/AML_M1/1082320222029011x373y191.png (deflated 0%)\r\n",
      "  adding: data/AML_M1/1082320222029011x349y69.png (deflated 0%)\r\n",
      "  adding: data/AML_M1/1082320222029011x104y144.png (deflated 0%)\r\n",
      "  adding: data/AML_M1/1082320222029011x65y97.png (deflated 0%)\r\n",
      "  adding: data/AML_M1/1102620210134511x248y190.png (deflated 0%)\r\n",
      "  adding: data/AML_M1/1082320222029011x326y227.png (deflated 0%)\r\n",
      "  adding: data/AML_M1/1102620210134511x181y324.png (deflated 0%)\r\n",
      "  adding: data/AML_M1/1082320222029011x251y422.png (deflated 0%)\r\n",
      "  adding: data/AML_M1/1082320222029011x260y271.png (deflated 0%)\r\n",
      "  adding: data/AML_M1/1082320222029011x48y193.png (deflated 0%)\r\n",
      "  adding: data/AML_M1/1082320222029011x345y154.png (deflated 0%)\r\n",
      "  adding: data/AML_M1/1082320222029011x68y188.png (deflated 0%)\r\n",
      "  adding: data/AML_M1/1082320222029011x251y227.png (deflated 0%)\r\n",
      "  adding: data/AML_M1/1082320222029011x166y72.png (deflated 0%)\r\n",
      "  adding: data/AML_M1/1082320222029011x224y111.png (deflated 0%)\r\n",
      "  adding: data/AML_M1/1082320222029011x342y387.png (deflated 0%)\r\n",
      "  adding: data/AML_M1/1082320222029011x369y307.png (deflated 0%)\r\n",
      "  adding: data/AML_M1/1082320222029011x75y217.png (deflated 0%)\r\n",
      "  adding: data/AML_M1/1102620210134511x283y186.png (deflated 0%)\r\n",
      "  adding: data/AML_M1/1082320222029011x285y418.png (deflated 0%)\r\n",
      "  adding: data/AML_M1/1082320222029011x322y68.png (deflated 0%)\r\n",
      "  adding: data/AML_M1/1082320222029011x225y300.png (deflated 0%)\r\n",
      "  adding: data/AML_M1/1082320222029011x169y387.png (deflated 0%)\r\n",
      "  adding: data/AML_M1/1102620210134511x115y371.png (deflated 0%)\r\n",
      "  adding: data/AML_M1/1082320222029011x259y400.png (deflated 0%)\r\n",
      "  adding: data/AML_M1/1082320222029011x301y279.png (deflated 0%)\r\n",
      "  adding: data/AML_M1/1102620210134511x211y300.png (deflated 0%)\r\n",
      "  adding: data/AML_M1/1102620210134511x373y292.png (deflated 0%)\r\n",
      "  adding: data/AML_M1/1082320222029011x400y71.png (deflated 0%)\r\n",
      "  adding: data/AML_M1/1102620210134511x266y442.png (deflated 0%)\r\n",
      "  adding: data/AML_M1/1082320222029011x367y293.png (deflated 0%)\r\n",
      "  adding: data/AML_M1/1102620210134511x347y104.png (deflated 0%)\r\n",
      "  adding: data/AML_M1/1082320222029011x269y402.png (deflated 0%)\r\n",
      "  adding: data/AML_M1/1102620210134511x254y300.png (deflated 0%)\r\n",
      "  adding: data/AML_M1/1082320222029011x414y181.png (deflated 0%)\r\n",
      "  adding: data/AML_M1/1102620210134511x147y233.png (deflated 0%)\r\n",
      "  adding: data/AML_M1/1102620210134511x385y264.png (deflated 1%)\r\n",
      "  adding: data/AML_M1/1102620210134511x140y426.png (deflated 0%)\r\n",
      "  adding: data/AML_M1/1082320222029011x270y220.png (stored 0%)\r\n",
      "  adding: data/AML_M1/1082320222029011x150y213.png (deflated 0%)\r\n",
      "  adding: data/AML_M1/1102620210134511x150y67.png (deflated 0%)\r\n",
      "  adding: data/AML_M1/1082320222029011x224y87.png (deflated 0%)\r\n",
      "  adding: data/AML_M1/1082320222029011x107y272.png (deflated 0%)\r\n",
      "  adding: data/AML_M1/1102620210134511x124y161.png (deflated 0%)\r\n",
      "  adding: data/AML_M1/1082320222029011x321y72.png (deflated 0%)\r\n",
      "  adding: data/AML_M1/1082320222029011x458y398.png (deflated 0%)\r\n",
      "  adding: data/AML_M1/1102620210134511x52y231.png (deflated 0%)\r\n",
      "  adding: data/AML_M1/1102620210134511x178y273.png (deflated 0%)\r\n",
      "  adding: data/AML_M1/1082320222029011x151y287.png (deflated 0%)\r\n",
      "  adding: data/AML_M1/1082320222029011x163y291.png (deflated 0%)\r\n",
      "  adding: data/AML_M1/1082320222029011x179y71.png (deflated 0%)\r\n",
      "  adding: data/AML_M1/1082320222029011x123y52.png (deflated 0%)\r\n",
      "  adding: data/AML_M1/1102620210134511x244y188.png (deflated 0%)\r\n",
      "  adding: data/AML_M1/1102620210134511x50y365.png (deflated 0%)\r\n",
      "  adding: data/AML_M1/1102620210134511x340y75.png (deflated 0%)\r\n",
      "  adding: data/AML_M1/1102620210134511x427y385.png (stored 0%)\r\n",
      "  adding: data/AML_M1/1082320222029011x49y312.png (deflated 0%)\r\n",
      "  adding: data/AML_M1/1102620210134511x339y461.png (deflated 0%)\r\n",
      "  adding: data/AML_M1/1082320222029011x209y365.png (deflated 0%)\r\n",
      "  adding: data/AML_M1/1082320222029011x366y217.png (deflated 0%)\r\n",
      "  adding: data/AML_M1/1082320222029011x140y387.png (deflated 0%)\r\n",
      "  adding: data/AML_M1/1102620210134511x411y344.png (deflated 0%)\r\n",
      "  adding: data/AML_M1/1102620210134511x145y456.png (deflated 1%)\r\n",
      "  adding: data/AML_M1/1082320222029011x61y94.png (deflated 0%)\r\n",
      "  adding: data/AML_M1/1102620210134511x152y139.png (deflated 0%)\r\n",
      "  adding: data/AML_M1/1102620210134511x224y92.png (deflated 0%)\r\n",
      "  adding: data/AML_M1/1082320222029011x292y416.png (deflated 0%)\r\n",
      "  adding: data/AML_M1/1082320222029011x265y148.png (deflated 0%)\r\n",
      "  adding: data/AML_M1/1082320222029011x408y110.png (deflated 1%)\r\n",
      "  adding: data/AML_M1/1082320222029011x144y327.png (stored 0%)\r\n",
      "  adding: data/AML_M1/1082320222029011x96y463.png (deflated 0%)\r\n",
      "  adding: data/AML_M1/1082320222029011x54y268.png (deflated 0%)\r\n",
      "  adding: data/AML_M1/1082320222029011x303y411.png (deflated 0%)\r\n",
      "  adding: data/AML_M1/1102620210134511x172y390.png (deflated 0%)\r\n",
      "  adding: data/AML_M1/1102620210134511x305y240.png (deflated 0%)\r\n",
      "  adding: data/AML_M1/1082320222029011x151y222.png (deflated 0%)\r\n",
      "  adding: data/AML_M1/1082320222029011x399y73.png (deflated 0%)\r\n",
      "  adding: data/AML_M1/1102620210134511x51y203.png (deflated 0%)\r\n",
      "  adding: data/AML_M1/1102620210134511x302y312.png (deflated 0%)\r\n",
      "  adding: data/AML_M1/1102620210134511x258y268.png (deflated 0%)\r\n",
      "  adding: data/AML_M1/1082320222029011x105y323.png (deflated 0%)\r\n",
      "  adding: data/AML_M1/1082320222029011x222y108.png (deflated 0%)\r\n",
      "  adding: data/AML_M1/1082320222029011x351y220.png (stored 0%)\r\n",
      "  adding: data/AML_M1/1082320222029011x221y165.png (deflated 0%)\r\n",
      "  adding: data/AML_M1/1082320222029011x92y265.png (deflated 0%)\r\n",
      "  adding: data/AML_M1/1082320222029011x362y215.png (deflated 0%)\r\n",
      "  adding: data/AML_M1/1082320222029011x150y123.png (deflated 0%)\r\n",
      "  adding: data/AML_M1/1082320222029011x450y242.png (deflated 0%)\r\n",
      "  adding: data/AML_M1/1082320222029011x222y411.png (deflated 0%)\r\n",
      "  adding: data/AML_M1/1082320222029011x218y325.png (deflated 0%)\r\n",
      "  adding: data/AML_M1/1082320222029011x463y154.png (deflated 0%)\r\n",
      "  adding: data/AML_M1/1082320222029011x263y323.png (deflated 0%)\r\n",
      "  adding: data/AML_M1/1082320222029011x218y459.png (deflated 0%)\r\n",
      "  adding: data/AML_M1/1082320222029011x164y344.png (deflated 0%)\r\n",
      "  adding: data/AML_M1/1102620210134511x336y391.png (deflated 0%)\r\n",
      "  adding: data/AML_M1/1082320222029011x342y89.png (deflated 0%)\r\n",
      "  adding: data/AML_M1/1082320222029011x154y189.png (deflated 1%)\r\n",
      "  adding: data/AML_M1/1082320222029011x161y440.png (deflated 0%)\r\n",
      "  adding: data/AML_M1/1102620210134511x136y190.png (deflated 0%)\r\n",
      "  adding: data/AML_M1/1102620210134511x458y226.png (deflated 1%)\r\n",
      "  adding: data/AML_M1/1082320222029011x266y296.png (deflated 0%)\r\n",
      "  adding: data/AML_M1/1082320222029011x66y256.png (stored 0%)\r\n",
      "  adding: data/AML_M1/1082320222029011x330y340.png (deflated 0%)\r\n",
      "  adding: data/AML_M1/1082320222029011x401y402.png (deflated 0%)\r\n",
      "  adding: data/AML_M1/1082320222029011x190y96.png (deflated 0%)\r\n",
      "  adding: data/AML_M1/1082320222029011x68y427.png (deflated 1%)\r\n",
      "  adding: data/AML_M1/1082320222029011x422y308.png (deflated 0%)\r\n",
      "  adding: data/AML_M1/1082320222029011x368y301.png (deflated 0%)\r\n",
      "  adding: data/AML_M1/1082320222029011x59y187.png (deflated 0%)\r\n",
      "  adding: data/AML_M1/1102620210134511x417y463.png (deflated 0%)\r\n",
      "  adding: data/AML_M1/1082320222029011x204y142.png (deflated 0%)\r\n",
      "  adding: data/AML_M1/1102620210134511x359y280.png (deflated 0%)\r\n",
      "  adding: data/AML_M1/1082320222029011x217y455.png (deflated 0%)\r\n",
      "  adding: data/AML_M1/1082320222029011x282y99.png (deflated 0%)\r\n",
      "  adding: data/AML_M1/1082320222029011x231y127.png (deflated 0%)\r\n",
      "  adding: data/AML_M1/1082320222029011x246y217.png (deflated 0%)\r\n",
      "  adding: data/AML_M1/1082320222029011x49y89.png (deflated 0%)\r\n",
      "  adding: data/AML_M1/1082320222029011x319y324.png (deflated 0%)\r\n",
      "  adding: data/AML_M1/1082320222029011x85y358.png (deflated 0%)\r\n",
      "  adding: data/AML_M1/1082320222029011x324y227.png (deflated 0%)\r\n",
      "  adding: data/AML_M1/1082320222029011x70y350.png (deflated 0%)\r\n",
      "  adding: data/AML_M1/1082320222029011x424y424.png (deflated 0%)\r\n",
      "  adding: data/AML_M1/1082320222029011x461y85.png (deflated 0%)\r\n",
      "  adding: data/AML_M1/1082320222029011x342y63.png (deflated 0%)\r\n",
      "  adding: data/AML_M1/1082320222029011x111y227.png (deflated 0%)\r\n",
      "  adding: data/AML_M1/1082320222029011x349y68.png (deflated 0%)\r\n",
      "  adding: data/AML_M1/1082320222029011x153y339.png (deflated 0%)\r\n",
      "  adding: data/AML_M1/1082320222029011x88y229.png (deflated 0%)\r\n",
      "  adding: data/AML_M1/1102620210134511x218y50.png (deflated 0%)\r\n",
      "  adding: data/AML_M1/1102620210134511x269y308.png (deflated 0%)\r\n",
      "  adding: data/AML_M1/1082320222029011x143y73.png (deflated 0%)\r\n",
      "  adding: data/AML_M1/1102620210134511x250y419.png (deflated 0%)\r\n",
      "  adding: data/AML_M1/1082320222029011x256y63.png (deflated 0%)\r\n",
      "  adding: data/AML_M1/1082320222029011x244y261.png (deflated 0%)\r\n",
      "  adding: data/AML_M1/1082320222029011x342y203.png (deflated 0%)\r\n",
      "  adding: data/AML_M1/1082320222029011x68y232.png (deflated 0%)\r\n",
      "  adding: data/AML_M1/1102620210134511x293y250.png (deflated 0%)\r\n",
      "  adding: data/AML_M1/1102620210134511x185y386.png (deflated 0%)\r\n"
     ]
    },
    {
     "name": "stdout",
     "output_type": "stream",
     "text": [
      "  adding: data/AML_M1/1082320222029011x429y172.png (deflated 0%)\n",
      "  adding: data/AML_M1/1102620210134511x249y343.png (deflated 0%)\n",
      "  adding: data/AML_M1/1102620210134511x140y184.png (deflated 0%)\n",
      "  adding: data/AML_M1/1082320222029011x349y172.png (deflated 1%)\n",
      "  adding: data/AML_M1/1082320222029011x88y190.png (deflated 0%)\n",
      "  adding: data/AML_M1/1082320222029011x99y250.png (deflated 0%)\n",
      "  adding: data/AML_M1/1082320222029011x148y386.png (deflated 0%)\n",
      "  adding: data/AML_M1/1082320222029011x320y438.png (deflated 0%)\n",
      "  adding: data/AML_M1/1082320222029011x101y261.png (deflated 0%)\n",
      "  adding: data/AML_M1/1082320222029011x307y366.png (stored 0%)\n",
      "  adding: data/AML_M1/1082320222029011x447y372.png (deflated 0%)\n",
      "  adding: data/AML_M1/1102620210134511x172y97.png (deflated 1%)\n",
      "  adding: data/AML_M1/1102620210134511x241y138.png (deflated 0%)\n",
      "  adding: data/AML_M1/1082320222029011x300y293.png (deflated 0%)\n",
      "  adding: data/AML_M1/1082320222029011x211y305.png (deflated 0%)\n",
      "  adding: data/AML_M1/1082320222029011x299y209.png (deflated 0%)\n",
      "  adding: data/AML_M1/1082320222029011x289y145.png (deflated 0%)\n",
      "  adding: data/AML_M1/1082320222029011x58y55.png (deflated 0%)\n",
      "  adding: data/AML_M1/1082320222029011x101y191.png (deflated 0%)\n",
      "  adding: data/AML_M1/1082320222029011x67y200.png (deflated 0%)\n",
      "  adding: data/AML_M1/1102620210134511x226y267.png (deflated 0%)\n",
      "  adding: data/AML_M1/1082320222029011x418y189.png (deflated 0%)\n",
      "  adding: data/AML_M1/1082320222029011x86y456.png (deflated 0%)\n",
      "  adding: data/AML_M1/1082320222029011x294y123.png (deflated 0%)\n",
      "  adding: data/AML_M1/1082320222029011x200y151.png (deflated 0%)\n",
      "  adding: data/AML_M1/1082320222029011x166y189.png (deflated 0%)\n",
      "  adding: data/AML_M1/1082320222029011x417y181.png (deflated 0%)\n",
      "  adding: data/AML_M1/1082320222029011x370y441.png (deflated 0%)\n",
      "  adding: data/AML_M1/1082320222029011x154y83.png (deflated 0%)\n",
      "  adding: data/AML_M1/1082320222029011x76y123.png (deflated 0%)\n",
      "  adding: data/AML_M1/1102620210134511x349y150.png (deflated 0%)\n",
      "  adding: data/AML_M1/1082320222029011x174y192.png (deflated 0%)\n",
      "  adding: data/AML_M1/1102620210134511x303y164.png (deflated 1%)\n",
      "  adding: data/AML_M1/1102620210134511x210y234.png (deflated 0%)\n",
      "  adding: data/AML_M1/1082320222029011x112y182.png (deflated 0%)\n",
      "  adding: data/AML_M1/1082320222029011x170y346.png (deflated 0%)\n",
      "  adding: data/AML_M1/1082320222029011x149y271.png (deflated 0%)\n",
      "  adding: data/AML_M1/1102620210134511x383y111.png (deflated 1%)\n",
      "  adding: data/AML_M1/1082320222029011x181y347.png (deflated 0%)\n",
      "  adding: data/AML_M1/1082320222029011x251y311.png (deflated 0%)\n",
      "  adding: data/AML_M1/1082320222029011x247y443.png (stored 0%)\n",
      "  adding: data/AML_M1/1082320222029011x415y72.png (deflated 0%)\n",
      "  adding: data/AML_M1/1082320222029011x102y437.png (deflated 0%)\n",
      "  adding: data/AML_M1/1102620210134511x333y163.png (deflated 1%)\n",
      "  adding: data/AML_M1/1082320222029011x97y230.png (deflated 0%)\n",
      "  adding: data/AML_M1/1082320222029011x309y266.png (deflated 0%)\n",
      "  adding: data/AML_M1/1102620210134511x88y338.png (deflated 0%)\n",
      "  adding: data/AML_M1/1082320222029011x383y347.png (deflated 0%)\n",
      "  adding: data/AML_M1/1082320222029011x108y389.png (deflated 0%)\n",
      "  adding: data/AML_M1/1082320222029011x96y215.png (deflated 0%)\n",
      "  adding: data/AML_M1/1082320222029011x425y457.png (deflated 0%)\n",
      "  adding: data/AML_M1/1082320222029011x330y181.png (deflated 0%)\n",
      "  adding: data/AML_M1/1082320222029011x97y183.png (deflated 0%)\n",
      "  adding: data/AML_M1/1102620210134511x68y63.png (deflated 1%)\n",
      "  adding: data/AML_M1/1082320222029011x305y65.png (deflated 0%)\n",
      "  adding: data/AML_M1/1082320222029011x178y56.png (deflated 0%)\n",
      "  adding: data/AML_M1/1082320222029011x309y331.png (stored 0%)\n",
      "  adding: data/AML_M1/1082320222029011x271y295.png (deflated 0%)\n",
      "  adding: data/AML_M1/1082320222029011x144y391.png (deflated 0%)\n",
      "  adding: data/AML_M1/1082320222029011x129y226.png (stored 0%)\n",
      "  adding: data/AML_M1/1082320222029011x452y460.png (deflated 0%)\n",
      "  adding: data/AML_M1/1082320222029011x189y456.png (stored 0%)\n",
      "  adding: data/AML_M1/1082320222029011x283y299.png (deflated 0%)\n",
      "  adding: data/AML_M1/1082320222029011x201y191.png (deflated 0%)\n",
      "  adding: data/AML_M1/1082320222029011x127y270.png (deflated 0%)\n",
      "  adding: data/AML_M1/1082320222029011x170y148.png (deflated 0%)\n",
      "  adding: data/AML_M1/1082320222029011x453y211.png (deflated 0%)\n",
      "  adding: data/AML_M1/1082320222029011x440y256.png (deflated 0%)\n",
      "  adding: data/AML_M1/1102620210134511x227y452.png (deflated 0%)\n",
      "  adding: data/AML_M1/1102620210134511x323y461.png (deflated 0%)\n",
      "  adding: data/AML_M1/1082320222029011x113y265.png (deflated 0%)\n",
      "  adding: data/AML_M1/1102620210134511x300y147.png (deflated 0%)\n",
      "  adding: data/AML_M1/1102620210134511x361y343.png (deflated 0%)\n",
      "  adding: data/AML_M1/1082320222029011x451y251.png (deflated 0%)\n",
      "  adding: data/AML_M1/1082320222029011x297y401.png (deflated 0%)\n",
      "  adding: data/AML_M1/1082320222029011x173y133.png (deflated 0%)\n",
      "  adding: data/AML_M1/1082320222029011x245y440.png (deflated 0%)\n",
      "  adding: data/AML_M1/1082320222029011x57y266.png (deflated 0%)\n",
      "  adding: data/AML_M1/1082320222029011x382y260.png (deflated 0%)\n",
      "  adding: data/AML_M1/1082320222029011x362y348.png (deflated 0%)\n",
      "  adding: data/AML_M1/1082320222029011x109y220.png (stored 0%)\n",
      "  adding: data/AML_M1/1082320222029011x231y89.png (deflated 0%)\n",
      "  adding: data/AML_M1/1102620210134511x185y108.png (deflated 0%)\n",
      "  adding: data/AML_M1/1082320222029011x62y283.png (deflated 0%)\n",
      "  adding: data/AML_M1/1102620210134511x430y206.png (deflated 0%)\n",
      "  adding: data/AML_M1/1102620210134511x369y179.png (deflated 0%)\n",
      "  adding: data/AML_M1/1102620210134511x151y289.png (deflated 0%)\n",
      "  adding: data/AML_M1/1082320222029011x101y350.png (stored 0%)\n",
      "  adding: data/AML_M1/1082320222029011x387y427.png (deflated 0%)\n",
      "  adding: data/AML_M1/1082320222029011x95y416.png (deflated 0%)\n",
      "  adding: data/AML_M1/1102620210134511x101y427.png (deflated 1%)\n",
      "  adding: data/AML_M1/1082320222029011x162y243.png (deflated 0%)\n",
      "  adding: data/AML_M1/1082320222029011x418y365.png (stored 0%)\n",
      "  adding: data/AML_M1/1102620210134511x382y398.png (deflated 0%)\n",
      "  adding: data/AML_M1/1082320222029011x440y190.png (deflated 0%)\n",
      "  adding: data/AML_M1/1082320222029011x304y425.png (deflated 0%)\n",
      "  adding: data/AML_M1/1082320222029011x91y295.png (deflated 0%)\n",
      "  adding: data/AML_M1/1082320222029011x325y272.png (deflated 0%)\n",
      "  adding: data/AML_M1/1082320222029011x409y283.png (stored 0%)\n",
      "  adding: data/AML_M1/1082320222029011x342y109.png (deflated 0%)\n",
      "  adding: data/AML_M1/1082320222029011x304y461.png (deflated 0%)\n",
      "  adding: data/AML_M1/1102620210134511x319y167.png (deflated 0%)\n",
      "  adding: data/AML_M1/1082320222029011x376y350.png (deflated 0%)\n",
      "  adding: data/AML_M1/1082320222029011x335y311.png (deflated 0%)\n",
      "  adding: data/AML_M1/1102620210134511x248y376.png (deflated 0%)\n",
      "  adding: data/AML_M1/1102620210134511x403y48.png (deflated 0%)\n",
      "  adding: data/AML_M1/1102620210134511x244y310.png (deflated 0%)\n",
      "  adding: data/AML_M1/1082320222029011x401y267.png (deflated 0%)\n",
      "  adding: data/AML_M1/1082320222029011x368y452.png (deflated 0%)\n",
      "  adding: data/AML_M1/1082320222029011x122y126.png (deflated 0%)\n",
      "  adding: data/AML_M1/1082320222029011x126y74.png (deflated 0%)\n",
      "  adding: data/AML_M1/1082320222029011x204y418.png (deflated 0%)\n",
      "  adding: data/AML_M1/1082320222029011x66y422.png (deflated 0%)\n",
      "  adding: data/AML_M1/1082320222029011x191y241.png (deflated 0%)\n",
      "  adding: data/AML_M1/1082320222029011x51y312.png (deflated 0%)\n",
      "  adding: data/AML_M1/1082320222029011x105y424.png (stored 0%)\n",
      "  adding: data/AML_M1/1082320222029011x367y184.png (deflated 0%)\n",
      "  adding: data/AML_M1/1082320222029011x253y109.png (deflated 0%)\n",
      "  adding: data/AML_M1/1082320222029011x290y417.png (stored 0%)\n",
      "  adding: data/AML_M1/1102620210134511x138y262.png (deflated 0%)\n",
      "  adding: data/AML_M1/1102620210134511x346y352.png (deflated 0%)\n",
      "  adding: data/AML_M1/1102620210134511x335y439.png (deflated 0%)\n",
      "  adding: data/AML_M1/1082320222029011x430y146.png (deflated 0%)\n",
      "  adding: data/AML_M1/1082320222029011x462y230.png (deflated 0%)\n",
      "  adding: data/AML_M1/1102620210134511x206y109.png (deflated 0%)\n",
      "  adding: data/AML_M1/1082320222029011x380y390.png (stored 0%)\n",
      "  adding: data/AML_M1/1082320222029011x139y215.png (deflated 0%)\n",
      "  adding: data/AML_M1/1082320222029011x306y346.png (deflated 0%)\n",
      "  adding: data/AML_M1/1082320222029011x263y82.png (deflated 0%)\n",
      "  adding: data/AML_M1/1082320222029011x374y411.png (deflated 0%)\n",
      "  adding: data/AML_M1/1102620210134511x310y113.png (deflated 0%)\n",
      "  adding: data/AML_M1/1082320222029011x204y221.png (deflated 0%)\n",
      "  adding: data/AML_M1/1082320222029011x413y149.png (deflated 1%)\n",
      "  adding: data/AML_M1/1102620210134511x360y202.png (deflated 0%)\n",
      "  adding: data/AML_M1/1082320222029011x207y89.png (deflated 0%)\n",
      "  adding: data/AML_M1/1102620210134511x218y459.png (deflated 0%)\n",
      "  adding: data/AML_M1/1082320222029011x206y154.png (deflated 0%)\n",
      "  adding: data/AML_M1/1102620210134511x65y405.png (deflated 0%)\n",
      "  adding: data/AML_M1/1082320222029011x243y351.png (deflated 0%)\n",
      "  adding: data/AML_M1/1102620210134511x338y75.png (deflated 0%)\n",
      "  adding: data/AML_M1/1082320222029011x380y58.png (deflated 0%)\n",
      "  adding: data/AML_M1/1102620210134511x250y161.png (deflated 0%)\n",
      "  adding: data/AML_M1/1082320222029011x153y290.png (deflated 0%)\n",
      "  adding: data/AML_M1/1082320222029011x342y437.png (deflated 0%)\n",
      "  adding: data/AML_M1/1082320222029011x244y269.png (deflated 0%)\n",
      "  adding: data/AML_M1/1082320222029011x374y416.png (deflated 0%)\n",
      "  adding: data/AML_M1/1102620210134511x368y425.png (deflated 1%)\n",
      "  adding: data/AML_M1/1102620210134511x327y423.png (deflated 0%)\n",
      "  adding: data/AML_M1/1082320222029011x445y227.png (deflated 0%)\n",
      "  adding: data/AML_M1/1082320222029011x99y448.png (deflated 0%)\n",
      "  adding: data/AML_M1/1102620210134511x407y309.png (deflated 1%)\n",
      "  adding: data/AML_M1/1082320222029011x295y458.png (deflated 0%)\n",
      "  adding: data/AML_M1/1102620210134511x220y114.png (deflated 0%)\n",
      "  adding: data/AML_M1/1082320222029011x366y165.png (deflated 0%)\n",
      "  adding: data/AML_M1/1082320222029011x335y85.png (deflated 0%)\n",
      "  adding: data/AML_M1/1082320222029011x297y107.png (deflated 0%)\n",
      "  adding: data/AML_M1/1082320222029011x142y301.png (deflated 0%)\n",
      "  adding: data/AML_M1/1102620210134511x216y367.png (deflated 0%)\n",
      "  adding: data/AML_M1/1102620210134511x307y148.png (deflated 0%)\n",
      "  adding: data/AML_M1/1082320222029011x217y66.png (deflated 0%)\n",
      "  adding: data/AML_M1/1102620210134511x247y231.png (deflated 0%)\n",
      "  adding: data/AML_M1/1082320222029011x455y288.png (deflated 0%)\n",
      "  adding: data/AML_M1/1082320222029011x295y400.png (deflated 0%)\n",
      "  adding: data/AML_M1/1102620210134511x232y69.png (deflated 0%)\n",
      "  adding: data/AML_M1/1082320222029011x113y437.png (deflated 0%)\n",
      "  adding: data/AML_M1/1082320222029011x101y268.png (deflated 0%)\n",
      "  adding: data/AML_M1/1082320222029011x224y83.png (deflated 0%)\n",
      "  adding: data/AML_M1/1082320222029011x431y326.png (deflated 0%)\n",
      "  adding: data/AML_M1/1102620210134511x185y383.png (deflated 0%)\n",
      "  adding: data/AML_M1/1082320222029011x57y438.png (deflated 1%)\n",
      "  adding: data/AML_M1/1102620210134511x384y59.png (deflated 0%)\n",
      "  adding: data/AML_M1/1082320222029011x207y232.png (deflated 0%)\n",
      "  adding: data/AML_M1/1082320222029011x82y282.png (deflated 0%)\n",
      "  adding: data/AML_M1/1082320222029011x416y186.png (deflated 0%)\n",
      "  adding: data/AML_M1/1082320222029011x417y247.png (deflated 0%)\n",
      "  adding: data/AML_M1/1102620210134511x328y226.png (deflated 0%)\n",
      "  adding: data/AML_M1/1082320222029011x230y423.png (deflated 0%)\n",
      "  adding: data/AML_M1/1102620210134511x371y379.png (deflated 0%)\n",
      "  adding: data/AML_M1/1082320222029011x224y332.png (deflated 0%)\n",
      "  adding: data/AML_M1/1082320222029011x182y305.png (deflated 1%)\n",
      "  adding: data/AML_M1/1082320222029011x323y348.png (deflated 0%)\n",
      "  adding: data/AML_M1/1082320222029011x110y303.png (deflated 0%)\n",
      "  adding: data/AML_M1/1102620210134511x205y103.png (deflated 0%)\n",
      "  adding: data/AML_M1/1082320222029011x428y216.png (deflated 0%)\n",
      "  adding: data/AML_M1/1082320222029011x221y164.png (deflated 0%)\n",
      "  adding: data/AML_M1/1082320222029011x429y254.png (deflated 1%)\n",
      "  adding: data/AML_M1/1082320222029011x415y143.png (deflated 0%)\n",
      "  adding: data/AML_M1/1082320222029011x135y261.png (deflated 0%)\n",
      "  adding: data/AML_M1/1082320222029011x297y245.png (deflated 0%)\n",
      "  adding: data/AML_M1/1102620210134511x416y323.png (deflated 0%)\n",
      "  adding: data/AML_M1/1082320222029011x389y303.png (deflated 0%)\n",
      "  adding: data/AML_M1/1082320222029011x381y206.png (deflated 0%)\n",
      "  adding: data/AML_M1/1102620210134511x256y61.png (deflated 0%)\n",
      "  adding: data/AML_M1/1082320222029011x177y55.png (deflated 0%)\n",
      "  adding: data/AML_M1/1082320222029011x295y126.png (deflated 0%)\n",
      "  adding: data/AML_M1/1082320222029011x58y322.png (deflated 0%)\n",
      "  adding: data/AML_M1/1082320222029011x273y163.png (deflated 0%)\n",
      "  adding: data/AML_M1/1082320222029011x225y425.png (deflated 0%)\n",
      "  adding: data/AML_M1/1082320222029011x145y129.png (deflated 0%)\n",
      "  adding: data/AML_M1/1082320222029011x166y223.png (deflated 0%)\n",
      "  adding: data/AML_M1/1082320222029011x380y463.png (deflated 0%)\n",
      "  adding: data/AML_M1/1102620210134511x421y426.png (deflated 0%)\n",
      "  adding: data/AML_M1/1102620210134511x102y220.png (deflated 1%)\n"
     ]
    },
    {
     "name": "stdout",
     "output_type": "stream",
     "text": [
      "  adding: data/AML_M1/1082320222029011x67y149.png (deflated 0%)\r\n",
      "  adding: data/AML_M1/1082320222029011x282y424.png (deflated 0%)\r\n",
      "  adding: data/AML_M1/1082320222029011x148y377.png (deflated 0%)\r\n",
      "  adding: data/AML_M1/1102620210134511x299y437.png (deflated 0%)\r\n",
      "  adding: data/AML_M1/1082320222029011x262y424.png (deflated 0%)\r\n",
      "  adding: data/AML_M1/1082320222029011x361y71.png (deflated 0%)\r\n",
      "  adding: data/AML_M1/1102620210134511x64y400.png (deflated 0%)\r\n",
      "  adding: data/AML_M1/1082320222029011x167y105.png (deflated 0%)\r\n",
      "  adding: data/AML_M1/1102620210134511x181y269.png (deflated 0%)\r\n",
      "  adding: data/AML_M1/1082320222029011x162y49.png (deflated 0%)\r\n",
      "  adding: data/AML_M1/1082320222029011x175y311.png (deflated 0%)\r\n",
      "  adding: data/AML_M1/1082320222029011x206y306.png (deflated 0%)\r\n",
      "  adding: data/AML_M1/1082320222029011x305y388.png (deflated 0%)\r\n",
      "  adding: data/AML_M1/1082320222029011x107y413.png (deflated 0%)\r\n",
      "  adding: data/AML_M1/1082320222029011x456y145.png (deflated 0%)\r\n",
      "  adding: data/AML_M1/1082320222029011x255y204.png (deflated 0%)\r\n",
      "  adding: data/AML_M1/1082320222029011x405y387.png (deflated 0%)\r\n",
      "  adding: data/AML_M1/1082320222029011x349y140.png (deflated 0%)\r\n",
      "  adding: data/AML_M1/1082320222029011x227y461.png (deflated 0%)\r\n",
      "  adding: data/AML_M1/1082320222029011x453y106.png (deflated 0%)\r\n",
      "  adding: data/AML_M1/1102620210134511x204y390.png (deflated 0%)\r\n",
      "  adding: data/AML_M1/1082320222029011x65y351.png (deflated 0%)\r\n",
      "  adding: data/AML_M1/1082320222029011x122y397.png (deflated 0%)\r\n",
      "  adding: data/AML_M1/1082320222029011x225y99.png (stored 0%)\r\n",
      "  adding: data/AML_M1/1082320222029011x225y186.png (deflated 0%)\r\n",
      "  adding: data/AML_M1/1102620210134511x253y269.png (deflated 0%)\r\n",
      "  adding: data/AML_M1/1082320222029011x446y332.png (deflated 0%)\r\n",
      "  adding: data/AML_M1/1082320222029011x52y226.png (deflated 0%)\r\n",
      "  adding: data/AML_M1/1082320222029011x442y375.png (deflated 0%)\r\n",
      "  adding: data/AML_M1/1102620210134511x419y151.png (deflated 0%)\r\n",
      "  adding: data/AML_M1/1082320222029011x387y309.png (deflated 0%)\r\n",
      "  adding: data/AML_M1/1082320222029011x339y75.png (deflated 0%)\r\n",
      "  adding: data/AML_M1/1082320222029011x364y397.png (deflated 0%)\r\n",
      "  adding: data/AML_M1/1082320222029011x86y279.png (deflated 0%)\r\n",
      "  adding: data/AML_M1/1082320222029011x150y141.png (deflated 0%)\r\n",
      "  adding: data/AML_M1/1082320222029011x306y345.png (deflated 0%)\r\n",
      "  adding: data/AML_M1/1082320222029011x148y64.png (deflated 0%)\r\n",
      "  adding: data/AML_M1/1082320222029011x300y122.png (deflated 0%)\r\n",
      "  adding: data/AML_M1/1082320222029011x384y207.png (deflated 0%)\r\n",
      "  adding: data/AML_M1/1082320222029011x151y273.png (deflated 0%)\r\n",
      "  adding: data/AML_M1/1082320222029011x379y232.png (deflated 0%)\r\n",
      "  adding: data/AML_M1/1082320222029011x222y371.png (deflated 0%)\r\n",
      "  adding: data/AML_M1/1082320222029011x210y383.png (deflated 0%)\r\n",
      "  adding: data/AML_M1/1082320222029011x150y387.png (deflated 0%)\r\n",
      "  adding: data/AML_M1/1082320222029011x64y240.png (deflated 0%)\r\n",
      "  adding: data/AML_M1/1082320222029011x442y305.png (deflated 0%)\r\n",
      "  adding: data/AML_M1/1082320222029011x363y64.png (deflated 0%)\r\n",
      "  adding: data/AML_M1/1102620210134511x205y114.png (deflated 0%)\r\n",
      "  adding: data/AML_M1/1082320222029011x382y362.png (deflated 0%)\r\n",
      "  adding: data/AML_M1/1102620210134511x190y92.png (deflated 0%)\r\n",
      "  adding: data/AML_M1/1082320222029011x302y267.png (deflated 0%)\r\n",
      "  adding: data/AML_M1/1082320222029011x246y267.png (deflated 0%)\r\n",
      "  adding: data/AML_M1/1082320222029011x338y454.png (deflated 0%)\r\n",
      "  adding: data/AML_M1/1082320222029011x222y168.png (deflated 0%)\r\n",
      "  adding: data/AML_M1/1082320222029011x71y225.png (deflated 0%)\r\n",
      "  adding: data/AML_M1/1082320222029011x256y347.png (deflated 0%)\r\n",
      "  adding: data/AML_M1/1082320222029011x342y217.png (deflated 0%)\r\n",
      "  adding: data/AML_M1/1082320222029011x247y463.png (deflated 0%)\r\n",
      "  adding: data/AML_M1/1082320222029011x53y255.png (deflated 0%)\r\n",
      "  adding: data/AML_M1/1082320222029011x233y67.png (deflated 0%)\r\n",
      "  adding: data/AML_M1/1102620210134511x145y217.png (deflated 0%)\r\n",
      "  adding: data/AML_M1/1102620210134511x370y71.png (deflated 0%)\r\n",
      "  adding: data/AML_M1/1082320222029011x106y358.png (deflated 0%)\r\n",
      "  adding: data/AML_M1/1082320222029011x85y426.png (deflated 0%)\r\n",
      "  adding: data/AML_M1/1082320222029011x190y283.png (deflated 0%)\r\n",
      "  adding: data/AML_M1/1082320222029011x408y428.png (deflated 0%)\r\n",
      "  adding: data/AML_M1/1082320222029011x330y425.png (deflated 0%)\r\n",
      "  adding: data/AML_M1/1082320222029011x60y421.png (stored 0%)\r\n",
      "  adding: data/AML_M1/1082320222029011x169y302.png (deflated 0%)\r\n",
      "  adding: data/AML_M1/1082320222029011x414y384.png (deflated 0%)\r\n",
      "  adding: data/AML_M1/1082320222029011x101y384.png (deflated 0%)\r\n",
      "  adding: data/AML_M1/1102620210134511x463y385.png (deflated 0%)\r\n",
      "  adding: data/AML_M1/1082320222029011x412y73.png (deflated 0%)\r\n",
      "  adding: data/AML_M1/1102620210134511x51y281.png (deflated 0%)\r\n",
      "  adding: data/AML_M1/1082320222029011x180y418.png (stored 0%)\r\n",
      "  adding: data/AML_M1/1082320222029011x61y268.png (deflated 0%)\r\n",
      "  adding: data/AML_M1/1082320222029011x166y423.png (deflated 0%)\r\n",
      "  adding: data/AML_M1/1082320222029011x262y362.png (deflated 0%)\r\n",
      "  adding: data/AML_M1/1082320222029011x208y349.png (deflated 0%)\r\n",
      "  adding: data/AML_M1/1082320222029011x377y70.png (stored 0%)\r\n",
      "  adding: data/AML_M1/1082320222029011x59y52.png (deflated 0%)\r\n",
      "  adding: data/AML_M1/1082320222029011x208y449.png (deflated 0%)\r\n",
      "  adding: data/AML_M1/1102620210134511x440y70.png (deflated 0%)\r\n",
      "  adding: data/AML_M1/1082320222029011x93y251.png (deflated 0%)\r\n",
      "  adding: data/AML_M1/1082320222029011x211y357.png (deflated 0%)\r\n",
      "  adding: data/AML_M1/1082320222029011x311y446.png (deflated 0%)\r\n",
      "  adding: data/AML_M1/1082320222029011x266y428.png (deflated 0%)\r\n",
      "  adding: data/AML_M1/1082320222029011x441y346.png (deflated 0%)\r\n",
      "  adding: data/AML_M1/1102620210134511x388y343.png (deflated 0%)\r\n",
      "  adding: data/AML_M1/1082320222029011x447y134.png (deflated 0%)\r\n",
      "  adding: data/AML_M1/1082320222029011x257y267.png (deflated 0%)\r\n",
      "  adding: data/AML_M1/1102620210134511x165y152.png (deflated 0%)\r\n",
      "  adding: data/AML_M1/1082320222029011x83y209.png (deflated 0%)\r\n",
      "  adding: data/AML_M1/1082320222029011x85y321.png (deflated 0%)\r\n",
      "  adding: data/AML_M1/1082320222029011x375y456.png (stored 0%)\r\n",
      "  adding: data/AML_M1/1082320222029011x141y146.png (deflated 0%)\r\n",
      "  adding: data/AML_M1/1082320222029011x300y83.png (deflated 0%)\r\n",
      "  adding: data/AML_M1/1082320222029011x177y190.png (deflated 0%)\r\n",
      "  adding: data/AML_M1/1082320222029011x178y218.png (deflated 0%)\r\n",
      "  adding: data/AML_M1/1102620210134511x306y82.png (deflated 0%)\r\n",
      "  adding: data/AML_M1/1082320222029011x294y193.png (deflated 0%)\r\n",
      "  adding: data/AML_M1/1082320222029011x261y309.png (deflated 0%)\r\n",
      "  adding: data/AML_M1/1082320222029011x456y102.png (stored 0%)\r\n",
      "  adding: data/AML_M1/1102620210134511x124y227.png (deflated 1%)\r\n",
      "  adding: data/AML_M1/1102620210134511x455y373.png (deflated 0%)\r\n",
      "  adding: data/AML_M1/1082320222029011x184y438.png (deflated 0%)\r\n",
      "  adding: data/AML_M1/1082320222029011x417y220.png (deflated 0%)\r\n",
      "  adding: data/AML_M1/1102620210134511x59y386.png (deflated 0%)\r\n",
      "  adding: data/AML_M1/1082320222029011x444y111.png (deflated 0%)\r\n",
      "  adding: data/AML_M1/1082320222029011x291y72.png (deflated 0%)\r\n",
      "  adding: data/AML_M1/1082320222029011x171y366.png (deflated 0%)\r\n",
      "  adding: data/AML_M1/1082320222029011x450y163.png (deflated 0%)\r\n",
      "  adding: data/AML_M1/1082320222029011x443y150.png (deflated 0%)\r\n",
      "  adding: data/AML_M1/1082320222029011x425y455.png (deflated 0%)\r\n",
      "  adding: data/AML_M1/1082320222029011x403y152.png (deflated 0%)\r\n",
      "  adding: data/AML_M1/1082320222029011x456y129.png (deflated 0%)\r\n",
      "  adding: data/AML_M1/1082320222029011x48y272.png (deflated 0%)\r\n",
      "  adding: data/AML_M1/1082320222029011x93y347.png (deflated 0%)\r\n",
      "  adding: data/AML_M1/1082320222029011x226y255.png (stored 0%)\r\n",
      "  adding: data/AML_M1/1082320222029011x131y292.png (deflated 0%)\r\n",
      "  adding: data/AML_M1/1082320222029011x357y208.png (deflated 0%)\r\n",
      "  adding: data/AML_M1/1082320222029011x365y221.png (deflated 0%)\r\n",
      "  adding: data/AML_M1/1082320222029011x380y403.png (deflated 0%)\r\n",
      "  adding: data/AML_M1/1082320222029011x369y266.png (deflated 0%)\r\n",
      "  adding: data/AML_M1/1082320222029011x58y265.png (deflated 0%)\r\n",
      "  adding: data/AML_M1/1082320222029011x107y399.png (deflated 0%)\r\n",
      "  adding: data/AML_M1/1082320222029011x54y201.png (deflated 0%)\r\n",
      "  adding: data/AML_M1/1102620210134511x382y350.png (deflated 0%)\r\n",
      "  adding: data/AML_M1/1082320222029011x224y168.png (deflated 0%)\r\n",
      "  adding: data/AML_M1/1082320222029011x319y240.png (deflated 0%)\r\n",
      "  adding: data/AML_M1/1082320222029011x133y82.png (deflated 0%)\r\n",
      "  adding: data/AML_M1/1102620210134511x438y364.png (deflated 0%)\r\n"
     ]
    },
    {
     "name": "stdout",
     "output_type": "stream",
     "text": [
      "  adding: data/AML_M1/1082320222029011x86y446.png (deflated 0%)\r\n",
      "  adding: data/AML_M1/1102620210134511x55y109.png (deflated 1%)\r\n",
      "  adding: data/AML_M1/1082320222029011x69y321.png (deflated 0%)\r\n",
      "  adding: data/AML_M1/1082320222029011x283y179.png (deflated 0%)\r\n",
      "  adding: data/AML_M1/1082320222029011x229y177.png (deflated 0%)\r\n",
      "  adding: data/AML_M1/1102620210134511x368y192.png (deflated 0%)\r\n",
      "  adding: data/AML_M1/1082320222029011x425y343.png (deflated 0%)\r\n",
      "  adding: data/AML_M1/1082320222029011x363y416.png (deflated 0%)\r\n",
      "  adding: data/AML_M1/1082320222029011x85y207.png (deflated 0%)\r\n",
      "  adding: data/AML_M1/1102620210134511x215y339.png (deflated 0%)\r\n",
      "  adding: data/AML_M1/1102620210134511x75y399.png (deflated 0%)\r\n",
      "  adding: data/AML_M1/1082320222029011x133y451.png (deflated 0%)\r\n",
      "  adding: data/AML_M1/1082320222029011x226y449.png (deflated 0%)\r\n",
      "  adding: data/AML_M1/1082320222029011x312y136.png (deflated 0%)\r\n",
      "  adding: data/AML_M1/1082320222029011x304y424.png (deflated 0%)\r\n",
      "  adding: data/AML_M1/1082320222029011x57y459.png (deflated 0%)\r\n",
      "  adding: data/AML_M1/1082320222029011x248y191.png (deflated 0%)\r\n",
      "  adding: data/AML_M1/1082320222029011x269y221.png (deflated 0%)\r\n",
      "  adding: data/AML_M1/1102620210134511x101y245.png (stored 0%)\r\n",
      "  adding: data/AML_M1/1102620210134511x245y427.png (deflated 0%)\r\n",
      "  adding: data/AML_M1/1082320222029011x365y343.png (stored 0%)\r\n",
      "  adding: data/AML_M1/1102620210134511x331y382.png (deflated 0%)\r\n",
      "  adding: data/AML_M1/1082320222029011x105y173.png (deflated 0%)\r\n",
      "  adding: data/AML_M1/1102620210134511x114y125.png (deflated 0%)\r\n",
      "  adding: data/AML_M1/1082320222029011x189y349.png (deflated 0%)\r\n",
      "  adding: data/AML_M1/1082320222029011x425y388.png (deflated 0%)\r\n",
      "  adding: data/AML_M1/1102620210134511x361y147.png (deflated 0%)\r\n",
      "  adding: data/AML_M1/1102620210134511x409y311.png (deflated 0%)\r\n",
      "  adding: data/AML_M1/1082320222029011x286y349.png (deflated 0%)\r\n",
      "  adding: data/AML_M1/1082320222029011x227y111.png (deflated 0%)\r\n",
      "  adding: data/AML_M1/1082320222029011x387y323.png (deflated 0%)\r\n",
      "  adding: data/AML_M1/1102620210134511x167y389.png (deflated 0%)\r\n",
      "  adding: data/AML_M1/1082320222029011x379y210.png (deflated 0%)\r\n",
      "  adding: data/AML_M1/1082320222029011x179y206.png (deflated 0%)\r\n",
      "  adding: data/AML_M1/1102620210134511x104y153.png (deflated 0%)\r\n",
      "  adding: data/AML_M1/1082320222029011x299y186.png (deflated 0%)\r\n",
      "  adding: data/AML_M1/1102620210134511x287y262.png (deflated 0%)\r\n",
      "  adding: data/AML_M1/1082320222029011x59y267.png (deflated 0%)\r\n",
      "  adding: data/AML_M1/1102620210134511x186y181.png (deflated 0%)\r\n",
      "  adding: data/AML_M1/1082320222029011x93y288.png (deflated 0%)\r\n",
      "  adding: data/AML_M1/1082320222029011x253y94.png (stored 0%)\r\n",
      "  adding: data/AML_M1/1082320222029011x415y179.png (deflated 0%)\r\n",
      "  adding: data/AML_M1/1082320222029011x149y229.png (deflated 0%)\r\n",
      "  adding: data/AML_M1/1082320222029011x402y345.png (deflated 0%)\r\n",
      "  adding: data/AML_M1/1082320222029011x145y324.png (deflated 0%)\r\n",
      "  adding: data/AML_M1/1082320222029011x415y192.png (deflated 0%)\r\n",
      "  adding: data/AML_M1/1102620210134511x320y209.png (deflated 0%)\r\n",
      "  adding: data/AML_M1/1102620210134511x222y255.png (deflated 1%)\r\n",
      "  adding: data/AML_M1/1082320222029011x150y167.png (deflated 0%)\r\n",
      "  adding: data/AML_M1/1082320222029011x193y128.png (deflated 0%)\r\n",
      "  adding: data/AML_M1/1082320222029011x107y301.png (deflated 0%)\r\n",
      "  adding: data/AML_M1/1102620210134511x221y369.png (deflated 0%)\r\n",
      "  adding: data/AML_M1/1082320222029011x72y441.png (deflated 0%)\r\n",
      "  adding: data/AML_M1/1102620210134511x270y366.png (deflated 0%)\r\n",
      "  adding: data/AML_M1/1082320222029011x363y193.png (deflated 0%)\r\n",
      "  adding: data/AML_M1/1082320222029011x141y345.png (deflated 0%)\r\n",
      "  adding: data/AML_M1/1102620210134511x364y385.png (deflated 0%)\r\n",
      "  adding: data/AML_M1/1082320222029011x385y261.png (deflated 0%)\r\n",
      "  adding: data/AML_M1/1082320222029011x185y282.png (deflated 0%)\r\n",
      "  adding: data/AML_M1/1082320222029011x257y169.png (deflated 0%)\r\n",
      "  adding: data/AML_M1/1102620210134511x291y405.png (deflated 0%)\r\n",
      "  adding: data/AML_M1/1102620210134511x95y113.png (deflated 0%)\r\n",
      "  adding: data/AML_M1/1082320222029011x285y191.png (deflated 0%)\r\n",
      "  adding: data/AML_M1/1082320222029011x105y152.png (deflated 0%)\r\n",
      "  adding: data/AML_M1/1082320222029011x128y181.png (deflated 0%)\r\n",
      "  adding: data/AML_M1/1102620210134511x102y360.png (deflated 0%)\r\n",
      "  adding: data/AML_M1/1082320222029011x453y174.png (deflated 0%)\r\n",
      "  adding: data/AML_M1/1082320222029011x340y231.png (deflated 0%)\r\n",
      "  adding: data/AML_M1/1102620210134511x425y383.png (deflated 0%)\r\n",
      "  adding: data/AML_M1/1082320222029011x403y446.png (deflated 0%)\r\n",
      "  adding: data/AML_M1/1082320222029011x193y301.png (deflated 0%)\r\n",
      "  adding: data/AML_M1/1102620210134511x427y426.png (deflated 0%)\r\n",
      "  adding: data/AML_M1/1082320222029011x208y363.png (stored 0%)\r\n",
      "  adding: data/AML_M1/1082320222029011x103y426.png (deflated 0%)\r\n",
      "  adding: data/AML_M1/1102620210134511x232y319.png (deflated 0%)\r\n",
      "  adding: data/AML_M1/1102620210134511x443y70.png (deflated 0%)\r\n",
      "  adding: data/AML_M1/1082320222029011x209y109.png (deflated 0%)\r\n",
      "  adding: data/AML_M1/1102620210134511x109y142.png (deflated 1%)\r\n",
      "  adding: data/AML_M1/1082320222029011x176y190.png (deflated 0%)\r\n",
      "  adding: data/AML_M1/1082320222029011x460y154.png (deflated 0%)\r\n",
      "  adding: data/AML_M1/1102620210134511x385y193.png (deflated 0%)\r\n",
      "  adding: data/AML_M1/1082320222029011x424y189.png (deflated 0%)\r\n",
      "  adding: data/AML_M1/1082320222029011x224y173.png (deflated 0%)\r\n",
      "  adding: data/AML_M1/1102620210134511x306y346.png (deflated 0%)\r\n",
      "  adding: data/AML_M1/1082320222029011x365y454.png (stored 0%)\r\n",
      "  adding: data/AML_M1/1082320222029011x321y151.png (deflated 0%)\r\n",
      "  adding: data/AML_M1/1082320222029011x100y230.png (deflated 0%)\r\n",
      "  adding: data/AML_M1/1082320222029011x419y420.png (deflated 0%)\r\n",
      "  adding: data/AML_M1/1102620210134511x382y370.png (deflated 1%)\r\n",
      "  adding: data/AML_M1/1102620210134511x302y153.png (deflated 0%)\r\n",
      "  adding: data/AML_M1/1082320222029011x260y348.png (deflated 0%)\r\n",
      "  adding: data/AML_M1/1102620210134511x338y178.png (deflated 0%)\r\n",
      "  adding: data/AML_M1/1102620210134511x224y125.png (deflated 0%)\r\n",
      "  adding: data/AML_M1/1102620210134511x419y351.png (deflated 0%)\r\n",
      "  adding: data/AML_M1/1102620210134511x380y347.png (deflated 0%)\r\n",
      "  adding: data/AML_M1/1082320222029011x182y285.png (deflated 0%)\r\n",
      "  adding: data/AML_M1/1082320222029011x140y339.png (deflated 0%)\r\n",
      "  adding: data/AML_M1/1082320222029011x227y148.png (deflated 0%)\r\n",
      "  adding: data/AML_M1/1082320222029011x60y447.png (deflated 0%)\r\n",
      "  adding: data/AML_M1/1082320222029011x344y311.png (deflated 0%)\r\n",
      "  adding: data/AML_M1/1102620210134511x220y69.png (deflated 0%)\r\n",
      "  adding: data/AML_M1/1082320222029011x83y202.png (deflated 0%)\r\n",
      "  adding: data/AML_M1/1082320222029011x342y267.png (deflated 0%)\r\n",
      "  adding: data/AML_M1/1082320222029011x389y307.png (deflated 0%)\r\n",
      "  adding: data/AML_M1/1082320222029011x279y205.png (deflated 0%)\r\n",
      "  adding: data/AML_M1/1082320222029011x206y111.png (deflated 0%)\r\n",
      "  adding: data/AML_M1/1082320222029011x210y425.png (deflated 0%)\r\n",
      "  adding: data/AML_M1/1102620210134511x363y404.png (deflated 0%)\r\n",
      "  adding: data/AML_M1/1082320222029011x191y266.png (deflated 0%)\r\n",
      "  adding: data/AML_M1/1082320222029011x380y50.png (deflated 0%)\r\n",
      "  adding: data/AML_M1/1082320222029011x301y349.png (deflated 0%)\r\n",
      "  adding: data/AML_M1/1082320222029011x448y272.png (deflated 0%)\r\n",
      "  adding: data/AML_M1/1082320222029011x381y143.png (deflated 0%)\r\n",
      "  adding: data/AML_M1/1082320222029011x220y330.png (deflated 0%)\r\n",
      "  adding: data/AML_M1/1082320222029011x321y112.png (deflated 0%)\r\n",
      "  adding: data/AML_M1/1102620210134511x54y184.png (deflated 0%)\r\n",
      "  adding: data/AML_M1/1082320222029011x97y108.png (deflated 0%)\r\n",
      "  adding: data/AML_M1/1082320222029011x126y345.png (deflated 0%)\r\n",
      "  adding: data/AML_M1/1082320222029011x221y307.png (deflated 0%)\r\n",
      "  adding: data/AML_M1/1082320222029011x288y190.png (deflated 0%)\r\n",
      "  adding: data/AML_M1/1082320222029011x247y379.png (deflated 0%)\r\n",
      "  adding: data/AML_M1/1082320222029011x98y266.png (deflated 0%)\r\n",
      "  adding: data/AML_M1/1082320222029011x301y258.png (deflated 0%)\r\n",
      "  adding: data/AML_M1/1082320222029011x308y227.png (deflated 0%)\r\n",
      "  adding: data/AML_M1/1082320222029011x66y48.png (deflated 0%)\r\n",
      "  adding: data/AML_M1/1082320222029011x221y332.png (deflated 0%)\r\n",
      "  adding: data/AML_M1/1102620210134511x62y188.png (deflated 1%)\r\n",
      "  adding: data/AML_M1/1102620210134511x408y453.png (deflated 0%)\r\n",
      "  adding: data/AML_M1/1082320222029011x150y438.png (deflated 0%)\r\n",
      "  adding: data/AML_M1/1082320222029011x243y96.png (deflated 0%)\r\n"
     ]
    },
    {
     "name": "stdout",
     "output_type": "stream",
     "text": [
      "  adding: data/AML_M1/1102620210134511x213y128.png (deflated 0%)\r\n",
      "  adding: data/AML_M1/1082320222029011x151y69.png (deflated 0%)\r\n",
      "  adding: data/AML_M1/1082320222029011x184y361.png (deflated 0%)\r\n",
      "  adding: data/AML_M1/1082320222029011x149y141.png (deflated 0%)\r\n",
      "  adding: data/AML_M1/1082320222029011x209y66.png (deflated 0%)\r\n",
      "  adding: data/AML_M1/1102620210134511x148y265.png (deflated 0%)\r\n",
      "  adding: data/AML_M1/1082320222029011x212y64.png (deflated 0%)\r\n",
      "  adding: data/AML_M1/1082320222029011x261y167.png (deflated 0%)\r\n",
      "  adding: data/AML_M1/1102620210134511x105y290.png (deflated 0%)\r\n",
      "  adding: data/AML_M1/1082320222029011x151y285.png (deflated 0%)\r\n",
      "  adding: data/AML_M1/1102620210134511x295y463.png (deflated 1%)\r\n",
      "  adding: data/AML_M1/1102620210134511x202y183.png (deflated 1%)\r\n",
      "  adding: data/AML_M1/1102620210134511x266y122.png (deflated 0%)\r\n",
      "  adding: data/AML_M1/1102620210134511x200y208.png (deflated 0%)\r\n",
      "  adding: data/AML_M1/1082320222029011x67y346.png (deflated 0%)\r\n",
      "  adding: data/AML_M1/1082320222029011x347y337.png (deflated 0%)\r\n",
      "  adding: data/AML_M1/1102620210134511x212y75.png (deflated 0%)\r\n",
      "  adding: data/AML_M1/1082320222029011x452y107.png (deflated 0%)\r\n",
      "  adding: data/AML_M1/1082320222029011x231y318.png (deflated 0%)\r\n",
      "  adding: data/AML_M1/1082320222029011x112y279.png (stored 0%)\r\n",
      "  adding: data/AML_M1/1102620210134511x445y127.png (deflated 1%)\r\n",
      "  adding: data/AML_M1/1082320222029011x412y205.png (deflated 0%)\r\n",
      "  adding: data/AML_M1/1082320222029011x231y241.png (deflated 0%)\r\n",
      "  adding: data/AML_M1/1082320222029011x349y175.png (deflated 0%)\r\n",
      "  adding: data/AML_M1/1082320222029011x335y103.png (deflated 0%)\r\n",
      "  adding: data/AML_M1/1082320222029011x137y257.png (deflated 0%)\r\n",
      "  adding: data/AML_M1/1082320222029011x246y268.png (deflated 0%)\r\n",
      "  adding: data/AML_M1/1102620210134511x383y270.png (deflated 0%)\r\n",
      "  adding: data/AML_M1/1082320222029011x180y67.png (deflated 0%)\r\n",
      "  adding: data/AML_M1/1082320222029011x266y98.png (deflated 0%)\r\n",
      "  adding: data/AML_M1/1082320222029011x428y240.png (deflated 0%)\r\n",
      "  adding: data/AML_M1/1102620210134511x309y379.png (deflated 1%)\r\n",
      "  adding: data/AML_M1/1102620210134511x129y406.png (deflated 0%)\r\n",
      "  adding: data/AML_M1/1082320222029011x279y279.png (deflated 0%)\r\n",
      "  adding: data/AML_M1/1082320222029011x186y247.png (deflated 0%)\r\n",
      "  adding: data/AML_M1/1082320222029011x112y251.png (deflated 0%)\r\n",
      "  adding: data/AML_M1/1082320222029011x271y423.png (deflated 0%)\r\n",
      "  adding: data/AML_M1/1082320222029011x184y59.png (deflated 0%)\r\n",
      "  adding: data/AML_M1/1082320222029011x401y83.png (deflated 0%)\r\n",
      "  adding: data/AML_M1/1082320222029011x191y256.png (deflated 0%)\r\n",
      "  adding: data/AML_M1/1082320222029011x167y136.png (deflated 0%)\r\n",
      "  adding: data/AML_M1/1082320222029011x113y414.png (deflated 0%)\r\n",
      "  adding: data/AML_M1/1102620210134511x340y73.png (deflated 0%)\r\n",
      "  adding: data/AML_M1/1102620210134511x344y250.png (deflated 0%)\r\n",
      "  adding: data/AML_M1/1082320222029011x185y309.png (deflated 0%)\r\n",
      "  adding: data/AML_M1/1102620210134511x289y284.png (deflated 0%)\r\n",
      "  adding: data/AML_M1/1102620210134511x300y139.png (deflated 0%)\r\n",
      "  adding: data/AML_M1/1082320222029011x202y245.png (deflated 0%)\r\n",
      "  adding: data/AML_M1/1102620210134511x70y85.png (deflated 1%)\r\n",
      "  adding: data/AML_M1/1082320222029011x455y451.png (deflated 0%)\r\n",
      "  adding: data/AML_M1/1082320222029011x128y71.png (deflated 0%)\r\n",
      "  adding: data/AML_M1/1082320222029011x241y365.png (deflated 0%)\r\n",
      "  adding: data/AML_M1/1082320222029011x421y266.png (deflated 0%)\r\n",
      "  adding: data/AML_M1/1082320222029011x75y346.png (deflated 0%)\r\n",
      "  adding: data/AML_M1/1082320222029011x351y360.png (deflated 0%)\r\n"
     ]
    }
   ],
   "source": [
    "!zip -r ./data/AML_M1.zip ./data/AML_M1"
   ]
  },
  {
   "cell_type": "code",
   "execution_count": 34,
   "id": "7c8f52d9",
   "metadata": {},
   "outputs": [
    {
     "data": {
      "image/png": "[encoded data removed]",
      "text/plain": [
       "<PIL.PngImagePlugin.PngImageFile image mode=RGB size=96x96>"
      ]
     },
     "execution_count": 34,
     "metadata": {},
     "output_type": "execute_result"
    }
   ],
   "source": []
  },
  {
   "cell_type": "code",
   "execution_count": 22,
   "id": "a3baad3c",
   "metadata": {},
   "outputs": [],
   "source": [
    "mkdir ./data/monoblast"
   ]
  },
  {
   "cell_type": "code",
   "execution_count": 26,
   "id": "e146d00c",
   "metadata": {},
   "outputs": [
    {
     "name": "stderr",
     "output_type": "stream",
     "text": [
      "  0%|          | 0/598 [00:00<?, ?it/s]Using cache found in /home/aa-ssun2-cmp/.cache/torch/hub/pytorch_vision_v0.10.0\n"
     ]
    },
    {
     "name": "stdout",
     "output_type": "stream",
     "text": [
      "Creating the cell patches\n",
      "Done\n",
      "Now let's do the prediction!\n"
     ]
    },
    {
     "name": "stderr",
     "output_type": "stream",
     "text": [
      "\r",
      "  0%|          | 1/598 [00:04<49:14,  4.95s/it]"
     ]
    },
    {
     "name": "stdout",
     "output_type": "stream",
     "text": [
      "Creating the cell patches\n",
      "Done\n",
      "Now let's do the prediction!\n"
     ]
    },
    {
     "name": "stderr",
     "output_type": "stream",
     "text": [
      "Using cache found in /home/aa-ssun2-cmp/.cache/torch/hub/pytorch_vision_v0.10.0\n",
      "  0%|          | 2/598 [00:10<50:42,  5.10s/it]"
     ]
    },
    {
     "name": "stdout",
     "output_type": "stream",
     "text": [
      "Creating the cell patches\n",
      "Done\n",
      "Now let's do the prediction!\n"
     ]
    },
    {
     "name": "stderr",
     "output_type": "stream",
     "text": [
      "Using cache found in /home/aa-ssun2-cmp/.cache/torch/hub/pytorch_vision_v0.10.0\n",
      "  1%|          | 3/598 [00:14<48:17,  4.87s/it]"
     ]
    },
    {
     "name": "stdout",
     "output_type": "stream",
     "text": [
      "Creating the cell patches\n",
      "Done\n",
      "Now let's do the prediction!\n"
     ]
    },
    {
     "name": "stderr",
     "output_type": "stream",
     "text": [
      "Using cache found in /home/aa-ssun2-cmp/.cache/torch/hub/pytorch_vision_v0.10.0\n",
      "  1%|          | 4/598 [00:19<48:29,  4.90s/it]Using cache found in /home/aa-ssun2-cmp/.cache/torch/hub/pytorch_vision_v0.10.0\n"
     ]
    },
    {
     "name": "stdout",
     "output_type": "stream",
     "text": [
      "Creating the cell patches\n",
      "Done\n",
      "Now let's do the prediction!\n"
     ]
    },
    {
     "name": "stderr",
     "output_type": "stream",
     "text": [
      "\r",
      "  1%|          | 5/598 [00:24<48:25,  4.90s/it]"
     ]
    },
    {
     "name": "stdout",
     "output_type": "stream",
     "text": [
      "Creating the cell patches\n",
      "Done\n",
      "Now let's do the prediction!\n"
     ]
    },
    {
     "name": "stderr",
     "output_type": "stream",
     "text": [
      "Using cache found in /home/aa-ssun2-cmp/.cache/torch/hub/pytorch_vision_v0.10.0\n",
      "  1%|          | 6/598 [00:28<46:07,  4.68s/it]Using cache found in /home/aa-ssun2-cmp/.cache/torch/hub/pytorch_vision_v0.10.0\n"
     ]
    },
    {
     "name": "stdout",
     "output_type": "stream",
     "text": [
      "Creating the cell patches\n",
      "Done\n",
      "Now let's do the prediction!\n"
     ]
    },
    {
     "name": "stderr",
     "output_type": "stream",
     "text": [
      "\r",
      "  1%|          | 7/598 [00:32<44:10,  4.48s/it]"
     ]
    },
    {
     "name": "stdout",
     "output_type": "stream",
     "text": [
      "Creating the cell patches\n",
      "Done\n",
      "Now let's do the prediction!\n"
     ]
    },
    {
     "name": "stderr",
     "output_type": "stream",
     "text": [
      "Using cache found in /home/aa-ssun2-cmp/.cache/torch/hub/pytorch_vision_v0.10.0\n",
      "  1%|▏         | 8/598 [00:37<44:26,  4.52s/it]"
     ]
    },
    {
     "name": "stdout",
     "output_type": "stream",
     "text": [
      "Creating the cell patches\n",
      "Done\n",
      "Now let's do the prediction!\n"
     ]
    },
    {
     "name": "stderr",
     "output_type": "stream",
     "text": [
      "Using cache found in /home/aa-ssun2-cmp/.cache/torch/hub/pytorch_vision_v0.10.0\n",
      "  2%|▏         | 9/598 [00:41<41:16,  4.21s/it]Using cache found in /home/aa-ssun2-cmp/.cache/torch/hub/pytorch_vision_v0.10.0\n"
     ]
    },
    {
     "name": "stdout",
     "output_type": "stream",
     "text": [
      "Creating the cell patches\n",
      "Done\n",
      "Now let's do the prediction!\n"
     ]
    },
    {
     "name": "stderr",
     "output_type": "stream",
     "text": [
      "\r",
      "  2%|▏         | 10/598 [00:44<39:10,  4.00s/it]"
     ]
    },
    {
     "name": "stdout",
     "output_type": "stream",
     "text": [
      "Creating the cell patches\n",
      "Done\n",
      "Now let's do the prediction!\n"
     ]
    },
    {
     "name": "stderr",
     "output_type": "stream",
     "text": [
      "Using cache found in /home/aa-ssun2-cmp/.cache/torch/hub/pytorch_vision_v0.10.0\n",
      "  2%|▏         | 11/598 [00:48<39:17,  4.02s/it]"
     ]
    },
    {
     "name": "stdout",
     "output_type": "stream",
     "text": [
      "Creating the cell patches\n",
      "Done\n",
      "Now let's do the prediction!\n"
     ]
    },
    {
     "name": "stderr",
     "output_type": "stream",
     "text": [
      "Using cache found in /home/aa-ssun2-cmp/.cache/torch/hub/pytorch_vision_v0.10.0\n",
      "  2%|▏         | 12/598 [00:53<40:22,  4.13s/it]"
     ]
    },
    {
     "name": "stdout",
     "output_type": "stream",
     "text": [
      "Creating the cell patches\n",
      "Done\n",
      "Now let's do the prediction!\n"
     ]
    },
    {
     "name": "stderr",
     "output_type": "stream",
     "text": [
      "Using cache found in /home/aa-ssun2-cmp/.cache/torch/hub/pytorch_vision_v0.10.0\n",
      "  2%|▏         | 13/598 [00:56<37:31,  3.85s/it]Using cache found in /home/aa-ssun2-cmp/.cache/torch/hub/pytorch_vision_v0.10.0\n"
     ]
    },
    {
     "name": "stdout",
     "output_type": "stream",
     "text": [
      "Creating the cell patches\n",
      "Done\n",
      "Now let's do the prediction!\n"
     ]
    },
    {
     "name": "stderr",
     "output_type": "stream",
     "text": [
      "  2%|▏         | 14/598 [01:01<41:55,  4.31s/it]Using cache found in /home/aa-ssun2-cmp/.cache/torch/hub/pytorch_vision_v0.10.0\n"
     ]
    },
    {
     "name": "stdout",
     "output_type": "stream",
     "text": [
      "Creating the cell patches\n",
      "Done\n",
      "Now let's do the prediction!\n"
     ]
    },
    {
     "name": "stderr",
     "output_type": "stream",
     "text": [
      "  3%|▎         | 15/598 [01:06<44:42,  4.60s/it]Using cache found in /home/aa-ssun2-cmp/.cache/torch/hub/pytorch_vision_v0.10.0\n"
     ]
    },
    {
     "name": "stdout",
     "output_type": "stream",
     "text": [
      "Creating the cell patches\n",
      "Done\n",
      "Now let's do the prediction!\n"
     ]
    },
    {
     "name": "stderr",
     "output_type": "stream",
     "text": [
      "\r",
      "  3%|▎         | 16/598 [01:12<46:11,  4.76s/it]"
     ]
    },
    {
     "name": "stdout",
     "output_type": "stream",
     "text": [
      "Creating the cell patches\n",
      "Done\n",
      "Now let's do the prediction!\n"
     ]
    },
    {
     "name": "stderr",
     "output_type": "stream",
     "text": [
      "Using cache found in /home/aa-ssun2-cmp/.cache/torch/hub/pytorch_vision_v0.10.0\n",
      "  3%|▎         | 17/598 [01:17<46:49,  4.84s/it]Using cache found in /home/aa-ssun2-cmp/.cache/torch/hub/pytorch_vision_v0.10.0\n"
     ]
    },
    {
     "name": "stdout",
     "output_type": "stream",
     "text": [
      "Creating the cell patches\n",
      "Done\n",
      "Now let's do the prediction!\n"
     ]
    },
    {
     "name": "stderr",
     "output_type": "stream",
     "text": [
      "  3%|▎         | 18/598 [01:22<47:46,  4.94s/it]Using cache found in /home/aa-ssun2-cmp/.cache/torch/hub/pytorch_vision_v0.10.0\n"
     ]
    },
    {
     "name": "stdout",
     "output_type": "stream",
     "text": [
      "Creating the cell patches\n",
      "Done\n",
      "Now let's do the prediction!\n"
     ]
    },
    {
     "name": "stderr",
     "output_type": "stream",
     "text": [
      "  3%|▎         | 19/598 [01:27<48:10,  4.99s/it]Using cache found in /home/aa-ssun2-cmp/.cache/torch/hub/pytorch_vision_v0.10.0\n"
     ]
    },
    {
     "name": "stdout",
     "output_type": "stream",
     "text": [
      "Creating the cell patches\n",
      "Done\n",
      "Now let's do the prediction!\n"
     ]
    },
    {
     "name": "stderr",
     "output_type": "stream",
     "text": [
      "\r",
      "  3%|▎         | 20/598 [01:30<43:56,  4.56s/it]"
     ]
    },
    {
     "name": "stdout",
     "output_type": "stream",
     "text": [
      "Creating the cell patches\n",
      "Done\n",
      "Now let's do the prediction!\n"
     ]
    },
    {
     "name": "stderr",
     "output_type": "stream",
     "text": [
      "Using cache found in /home/aa-ssun2-cmp/.cache/torch/hub/pytorch_vision_v0.10.0\n",
      "  4%|▎         | 21/598 [01:34<41:02,  4.27s/it]Using cache found in /home/aa-ssun2-cmp/.cache/torch/hub/pytorch_vision_v0.10.0\n"
     ]
    },
    {
     "name": "stdout",
     "output_type": "stream",
     "text": [
      "Creating the cell patches\n",
      "Done\n",
      "Now let's do the prediction!\n"
     ]
    },
    {
     "name": "stderr",
     "output_type": "stream",
     "text": [
      "  4%|▎         | 22/598 [01:38<41:34,  4.33s/it]Using cache found in /home/aa-ssun2-cmp/.cache/torch/hub/pytorch_vision_v0.10.0\n"
     ]
    },
    {
     "name": "stdout",
     "output_type": "stream",
     "text": [
      "Creating the cell patches\n",
      "Done\n",
      "Now let's do the prediction!\n"
     ]
    },
    {
     "name": "stderr",
     "output_type": "stream",
     "text": [
      "  4%|▍         | 23/598 [01:43<40:58,  4.27s/it]Using cache found in /home/aa-ssun2-cmp/.cache/torch/hub/pytorch_vision_v0.10.0\n"
     ]
    },
    {
     "name": "stdout",
     "output_type": "stream",
     "text": [
      "Creating the cell patches\n",
      "Done\n",
      "Now let's do the prediction!\n"
     ]
    },
    {
     "name": "stderr",
     "output_type": "stream",
     "text": [
      "  4%|▍         | 24/598 [01:46<38:12,  3.99s/it]Using cache found in /home/aa-ssun2-cmp/.cache/torch/hub/pytorch_vision_v0.10.0\n"
     ]
    },
    {
     "name": "stdout",
     "output_type": "stream",
     "text": [
      "Creating the cell patches\n",
      "Done\n",
      "Now let's do the prediction!\n"
     ]
    },
    {
     "name": "stderr",
     "output_type": "stream",
     "text": [
      "  4%|▍         | 25/598 [01:49<36:36,  3.83s/it]Using cache found in /home/aa-ssun2-cmp/.cache/torch/hub/pytorch_vision_v0.10.0\n"
     ]
    },
    {
     "name": "stdout",
     "output_type": "stream",
     "text": [
      "Creating the cell patches\n",
      "Done\n",
      "Now let's do the prediction!\n"
     ]
    },
    {
     "name": "stderr",
     "output_type": "stream",
     "text": [
      "\r",
      "  4%|▍         | 26/598 [01:54<38:53,  4.08s/it]"
     ]
    },
    {
     "name": "stdout",
     "output_type": "stream",
     "text": [
      "Creating the cell patches\n",
      "Done\n",
      "Now let's do the prediction!\n"
     ]
    },
    {
     "name": "stderr",
     "output_type": "stream",
     "text": [
      "Using cache found in /home/aa-ssun2-cmp/.cache/torch/hub/pytorch_vision_v0.10.0\n",
      "  5%|▍         | 27/598 [01:57<37:03,  3.89s/it]Using cache found in /home/aa-ssun2-cmp/.cache/torch/hub/pytorch_vision_v0.10.0\n"
     ]
    },
    {
     "name": "stdout",
     "output_type": "stream",
     "text": [
      "Creating the cell patches\n",
      "Done\n",
      "Now let's do the prediction!\n"
     ]
    },
    {
     "name": "stderr",
     "output_type": "stream",
     "text": [
      "  5%|▍         | 28/598 [02:01<36:13,  3.81s/it]Using cache found in /home/aa-ssun2-cmp/.cache/torch/hub/pytorch_vision_v0.10.0\n"
     ]
    },
    {
     "name": "stdout",
     "output_type": "stream",
     "text": [
      "Creating the cell patches\n",
      "Done\n",
      "Now let's do the prediction!\n"
     ]
    },
    {
     "name": "stderr",
     "output_type": "stream",
     "text": [
      "  5%|▍         | 29/598 [02:05<35:34,  3.75s/it]Using cache found in /home/aa-ssun2-cmp/.cache/torch/hub/pytorch_vision_v0.10.0\n"
     ]
    },
    {
     "name": "stdout",
     "output_type": "stream",
     "text": [
      "Creating the cell patches\n",
      "Done\n",
      "Now let's do the prediction!\n"
     ]
    },
    {
     "name": "stderr",
     "output_type": "stream",
     "text": [
      "  5%|▌         | 30/598 [02:09<37:17,  3.94s/it]Using cache found in /home/aa-ssun2-cmp/.cache/torch/hub/pytorch_vision_v0.10.0\n"
     ]
    },
    {
     "name": "stdout",
     "output_type": "stream",
     "text": [
      "Creating the cell patches\n",
      "Done\n",
      "Now let's do the prediction!\n"
     ]
    },
    {
     "name": "stderr",
     "output_type": "stream",
     "text": [
      "\r",
      "  5%|▌         | 31/598 [02:14<39:25,  4.17s/it]"
     ]
    },
    {
     "name": "stdout",
     "output_type": "stream",
     "text": [
      "Creating the cell patches\n",
      "Done\n",
      "Now let's do the prediction!\n"
     ]
    },
    {
     "name": "stderr",
     "output_type": "stream",
     "text": [
      "Using cache found in /home/aa-ssun2-cmp/.cache/torch/hub/pytorch_vision_v0.10.0\n",
      "  5%|▌         | 32/598 [02:18<38:23,  4.07s/it]"
     ]
    },
    {
     "name": "stdout",
     "output_type": "stream",
     "text": [
      "Creating the cell patches\n",
      "Done\n",
      "Now let's do the prediction!\n"
     ]
    },
    {
     "name": "stderr",
     "output_type": "stream",
     "text": [
      "Using cache found in /home/aa-ssun2-cmp/.cache/torch/hub/pytorch_vision_v0.10.0\n",
      "  6%|▌         | 33/598 [02:23<42:30,  4.51s/it]Using cache found in /home/aa-ssun2-cmp/.cache/torch/hub/pytorch_vision_v0.10.0\n"
     ]
    },
    {
     "name": "stdout",
     "output_type": "stream",
     "text": [
      "Creating the cell patches\n",
      "Done\n",
      "Now let's do the prediction!\n"
     ]
    },
    {
     "name": "stderr",
     "output_type": "stream",
     "text": [
      "\r",
      "  6%|▌         | 34/598 [02:28<43:06,  4.59s/it]"
     ]
    },
    {
     "name": "stdout",
     "output_type": "stream",
     "text": [
      "Creating the cell patches\n",
      "Done\n",
      "Now let's do the prediction!\n"
     ]
    },
    {
     "name": "stderr",
     "output_type": "stream",
     "text": [
      "Using cache found in /home/aa-ssun2-cmp/.cache/torch/hub/pytorch_vision_v0.10.0\n",
      "  6%|▌         | 35/598 [02:33<42:58,  4.58s/it]Using cache found in /home/aa-ssun2-cmp/.cache/torch/hub/pytorch_vision_v0.10.0\n"
     ]
    },
    {
     "name": "stdout",
     "output_type": "stream",
     "text": [
      "Creating the cell patches\n",
      "Done\n",
      "Now let's do the prediction!\n"
     ]
    },
    {
     "name": "stderr",
     "output_type": "stream",
     "text": [
      "\r",
      "  6%|▌         | 36/598 [02:37<41:40,  4.45s/it]"
     ]
    },
    {
     "name": "stdout",
     "output_type": "stream",
     "text": [
      "Creating the cell patches\n",
      "Done\n",
      "Now let's do the prediction!\n"
     ]
    },
    {
     "name": "stderr",
     "output_type": "stream",
     "text": [
      "Using cache found in /home/aa-ssun2-cmp/.cache/torch/hub/pytorch_vision_v0.10.0\n",
      "  6%|▌         | 37/598 [02:41<40:37,  4.34s/it]"
     ]
    },
    {
     "name": "stdout",
     "output_type": "stream",
     "text": [
      "Creating the cell patches\n",
      "Done\n",
      "Now let's do the prediction!\n"
     ]
    },
    {
     "name": "stderr",
     "output_type": "stream",
     "text": [
      "Using cache found in /home/aa-ssun2-cmp/.cache/torch/hub/pytorch_vision_v0.10.0\n",
      "  6%|▋         | 38/598 [02:46<43:26,  4.65s/it]"
     ]
    },
    {
     "name": "stdout",
     "output_type": "stream",
     "text": [
      "Creating the cell patches\n",
      "Done\n",
      "Now let's do the prediction!\n"
     ]
    },
    {
     "name": "stderr",
     "output_type": "stream",
     "text": [
      "Using cache found in /home/aa-ssun2-cmp/.cache/torch/hub/pytorch_vision_v0.10.0\n",
      "  7%|▋         | 39/598 [02:50<42:01,  4.51s/it]"
     ]
    },
    {
     "name": "stdout",
     "output_type": "stream",
     "text": [
      "Creating the cell patches\n",
      "Done\n",
      "Now let's do the prediction!\n"
     ]
    },
    {
     "name": "stderr",
     "output_type": "stream",
     "text": [
      "Using cache found in /home/aa-ssun2-cmp/.cache/torch/hub/pytorch_vision_v0.10.0\n",
      "  7%|▋         | 40/598 [02:54<40:35,  4.37s/it]"
     ]
    },
    {
     "name": "stdout",
     "output_type": "stream",
     "text": [
      "Creating the cell patches\n",
      "Done\n",
      "Now let's do the prediction!\n"
     ]
    },
    {
     "name": "stderr",
     "output_type": "stream",
     "text": [
      "Using cache found in /home/aa-ssun2-cmp/.cache/torch/hub/pytorch_vision_v0.10.0\n",
      "  7%|▋         | 41/598 [02:59<40:04,  4.32s/it]"
     ]
    },
    {
     "name": "stdout",
     "output_type": "stream",
     "text": [
      "Creating the cell patches\n",
      "Done\n",
      "Now let's do the prediction!\n"
     ]
    },
    {
     "name": "stderr",
     "output_type": "stream",
     "text": [
      "Using cache found in /home/aa-ssun2-cmp/.cache/torch/hub/pytorch_vision_v0.10.0\n",
      "  7%|▋         | 42/598 [03:04<42:12,  4.55s/it]Using cache found in /home/aa-ssun2-cmp/.cache/torch/hub/pytorch_vision_v0.10.0\n"
     ]
    },
    {
     "name": "stdout",
     "output_type": "stream",
     "text": [
      "Creating the cell patches\n",
      "Done\n",
      "Now let's do the prediction!\n"
     ]
    },
    {
     "name": "stderr",
     "output_type": "stream",
     "text": [
      "  7%|▋         | 43/598 [03:08<42:34,  4.60s/it]Using cache found in /home/aa-ssun2-cmp/.cache/torch/hub/pytorch_vision_v0.10.0\n"
     ]
    },
    {
     "name": "stdout",
     "output_type": "stream",
     "text": [
      "Creating the cell patches\n",
      "Done\n",
      "Now let's do the prediction!\n"
     ]
    },
    {
     "name": "stderr",
     "output_type": "stream",
     "text": [
      "  7%|▋         | 44/598 [03:12<39:42,  4.30s/it]Using cache found in /home/aa-ssun2-cmp/.cache/torch/hub/pytorch_vision_v0.10.0\n"
     ]
    },
    {
     "name": "stdout",
     "output_type": "stream",
     "text": [
      "Creating the cell patches\n",
      "Done\n",
      "Now let's do the prediction!\n"
     ]
    },
    {
     "name": "stderr",
     "output_type": "stream",
     "text": [
      "\r",
      "  8%|▊         | 45/598 [03:16<39:53,  4.33s/it]"
     ]
    },
    {
     "name": "stdout",
     "output_type": "stream",
     "text": [
      "Creating the cell patches\n",
      "Done\n",
      "Now let's do the prediction!\n"
     ]
    },
    {
     "name": "stderr",
     "output_type": "stream",
     "text": [
      "Using cache found in /home/aa-ssun2-cmp/.cache/torch/hub/pytorch_vision_v0.10.0\n",
      "  8%|▊         | 46/598 [03:21<39:34,  4.30s/it]"
     ]
    },
    {
     "name": "stdout",
     "output_type": "stream",
     "text": [
      "Creating the cell patches\n",
      "Done\n",
      "Now let's do the prediction!\n"
     ]
    },
    {
     "name": "stderr",
     "output_type": "stream",
     "text": [
      "Using cache found in /home/aa-ssun2-cmp/.cache/torch/hub/pytorch_vision_v0.10.0\n",
      "  8%|▊         | 47/598 [03:26<42:48,  4.66s/it]Using cache found in /home/aa-ssun2-cmp/.cache/torch/hub/pytorch_vision_v0.10.0\n"
     ]
    },
    {
     "name": "stdout",
     "output_type": "stream",
     "text": [
      "Creating the cell patches\n",
      "Done\n",
      "Now let's do the prediction!\n"
     ]
    },
    {
     "name": "stderr",
     "output_type": "stream",
     "text": [
      "  8%|▊         | 48/598 [03:30<40:29,  4.42s/it]Using cache found in /home/aa-ssun2-cmp/.cache/torch/hub/pytorch_vision_v0.10.0\n"
     ]
    },
    {
     "name": "stdout",
     "output_type": "stream",
     "text": [
      "Creating the cell patches\n",
      "Done\n",
      "Now let's do the prediction!\n"
     ]
    },
    {
     "name": "stderr",
     "output_type": "stream",
     "text": [
      "\r",
      "  8%|▊         | 49/598 [03:34<39:04,  4.27s/it]"
     ]
    },
    {
     "name": "stdout",
     "output_type": "stream",
     "text": [
      "Creating the cell patches\n",
      "Done\n",
      "Now let's do the prediction!\n"
     ]
    },
    {
     "name": "stderr",
     "output_type": "stream",
     "text": [
      "Using cache found in /home/aa-ssun2-cmp/.cache/torch/hub/pytorch_vision_v0.10.0\n",
      "  8%|▊         | 50/598 [03:39<40:14,  4.41s/it]"
     ]
    },
    {
     "name": "stdout",
     "output_type": "stream",
     "text": [
      "Creating the cell patches\n",
      "Done\n",
      "Now let's do the prediction!\n"
     ]
    },
    {
     "name": "stderr",
     "output_type": "stream",
     "text": [
      "Using cache found in /home/aa-ssun2-cmp/.cache/torch/hub/pytorch_vision_v0.10.0\n",
      "  9%|▊         | 51/598 [03:43<40:59,  4.50s/it]Using cache found in /home/aa-ssun2-cmp/.cache/torch/hub/pytorch_vision_v0.10.0\n"
     ]
    },
    {
     "name": "stdout",
     "output_type": "stream",
     "text": [
      "Creating the cell patches\n",
      "Done\n",
      "Now let's do the prediction!\n"
     ]
    },
    {
     "name": "stderr",
     "output_type": "stream",
     "text": [
      "  9%|▊         | 52/598 [03:48<40:22,  4.44s/it]Using cache found in /home/aa-ssun2-cmp/.cache/torch/hub/pytorch_vision_v0.10.0\n"
     ]
    },
    {
     "name": "stdout",
     "output_type": "stream",
     "text": [
      "Creating the cell patches\n",
      "Done\n",
      "Now let's do the prediction!\n"
     ]
    },
    {
     "name": "stderr",
     "output_type": "stream",
     "text": [
      "  9%|▉         | 53/598 [03:52<41:08,  4.53s/it]Using cache found in /home/aa-ssun2-cmp/.cache/torch/hub/pytorch_vision_v0.10.0\n"
     ]
    },
    {
     "name": "stdout",
     "output_type": "stream",
     "text": [
      "Creating the cell patches\n",
      "Done\n",
      "Now let's do the prediction!\n"
     ]
    },
    {
     "name": "stderr",
     "output_type": "stream",
     "text": [
      "\r",
      "  9%|▉         | 54/598 [03:56<39:51,  4.40s/it]"
     ]
    },
    {
     "name": "stdout",
     "output_type": "stream",
     "text": [
      "Creating the cell patches\n",
      "Done\n",
      "Now let's do the prediction!\n"
     ]
    },
    {
     "name": "stderr",
     "output_type": "stream",
     "text": [
      "Using cache found in /home/aa-ssun2-cmp/.cache/torch/hub/pytorch_vision_v0.10.0\n",
      "  9%|▉         | 55/598 [04:00<38:35,  4.26s/it]"
     ]
    },
    {
     "name": "stdout",
     "output_type": "stream",
     "text": [
      "Creating the cell patches\n",
      "Done\n",
      "Now let's do the prediction!\n"
     ]
    },
    {
     "name": "stderr",
     "output_type": "stream",
     "text": [
      "Using cache found in /home/aa-ssun2-cmp/.cache/torch/hub/pytorch_vision_v0.10.0\n",
      "  9%|▉         | 56/598 [04:04<37:59,  4.21s/it]"
     ]
    },
    {
     "name": "stdout",
     "output_type": "stream",
     "text": [
      "Creating the cell patches\n",
      "Done\n",
      "Now let's do the prediction!\n"
     ]
    },
    {
     "name": "stderr",
     "output_type": "stream",
     "text": [
      "Using cache found in /home/aa-ssun2-cmp/.cache/torch/hub/pytorch_vision_v0.10.0\n",
      " 10%|▉         | 57/598 [04:09<39:02,  4.33s/it]Using cache found in /home/aa-ssun2-cmp/.cache/torch/hub/pytorch_vision_v0.10.0\n"
     ]
    },
    {
     "name": "stdout",
     "output_type": "stream",
     "text": [
      "Creating the cell patches\n",
      "Done\n",
      "Now let's do the prediction!\n"
     ]
    },
    {
     "name": "stderr",
     "output_type": "stream",
     "text": [
      " 10%|▉         | 58/598 [04:13<37:09,  4.13s/it]Using cache found in /home/aa-ssun2-cmp/.cache/torch/hub/pytorch_vision_v0.10.0\n"
     ]
    },
    {
     "name": "stdout",
     "output_type": "stream",
     "text": [
      "Creating the cell patches\n",
      "Done\n",
      "Now let's do the prediction!\n"
     ]
    },
    {
     "name": "stderr",
     "output_type": "stream",
     "text": [
      " 10%|▉         | 59/598 [04:17<38:07,  4.24s/it]Using cache found in /home/aa-ssun2-cmp/.cache/torch/hub/pytorch_vision_v0.10.0\n"
     ]
    },
    {
     "name": "stdout",
     "output_type": "stream",
     "text": [
      "Creating the cell patches\n",
      "Done\n",
      "Now let's do the prediction!\n"
     ]
    },
    {
     "name": "stderr",
     "output_type": "stream",
     "text": [
      " 10%|█         | 60/598 [04:20<35:02,  3.91s/it]Using cache found in /home/aa-ssun2-cmp/.cache/torch/hub/pytorch_vision_v0.10.0\n"
     ]
    },
    {
     "name": "stdout",
     "output_type": "stream",
     "text": [
      "Creating the cell patches\n",
      "Done\n",
      "Now let's do the prediction!\n"
     ]
    },
    {
     "name": "stderr",
     "output_type": "stream",
     "text": [
      " 10%|█         | 61/598 [04:24<33:38,  3.76s/it]Using cache found in /home/aa-ssun2-cmp/.cache/torch/hub/pytorch_vision_v0.10.0\n"
     ]
    },
    {
     "name": "stdout",
     "output_type": "stream",
     "text": [
      "Creating the cell patches\n",
      "Done\n",
      "Now let's do the prediction!\n"
     ]
    },
    {
     "name": "stderr",
     "output_type": "stream",
     "text": [
      "\r",
      " 10%|█         | 62/598 [04:29<36:36,  4.10s/it]"
     ]
    },
    {
     "name": "stdout",
     "output_type": "stream",
     "text": [
      "Creating the cell patches\n",
      "Done\n",
      "Now let's do the prediction!\n"
     ]
    },
    {
     "name": "stderr",
     "output_type": "stream",
     "text": [
      "Using cache found in /home/aa-ssun2-cmp/.cache/torch/hub/pytorch_vision_v0.10.0\n",
      " 11%|█         | 63/598 [04:33<38:13,  4.29s/it]"
     ]
    },
    {
     "name": "stdout",
     "output_type": "stream",
     "text": [
      "Creating the cell patches\n",
      "Done\n",
      "Now let's do the prediction!\n"
     ]
    },
    {
     "name": "stderr",
     "output_type": "stream",
     "text": [
      "Using cache found in /home/aa-ssun2-cmp/.cache/torch/hub/pytorch_vision_v0.10.0\n",
      " 11%|█         | 64/598 [04:38<38:00,  4.27s/it]"
     ]
    },
    {
     "name": "stdout",
     "output_type": "stream",
     "text": [
      "Creating the cell patches\n",
      "Done\n",
      "Now let's do the prediction!\n"
     ]
    },
    {
     "name": "stderr",
     "output_type": "stream",
     "text": [
      "Using cache found in /home/aa-ssun2-cmp/.cache/torch/hub/pytorch_vision_v0.10.0\n",
      " 11%|█         | 65/598 [04:41<35:29,  3.99s/it]"
     ]
    },
    {
     "name": "stdout",
     "output_type": "stream",
     "text": [
      "Creating the cell patches\n",
      "Done\n",
      "Now let's do the prediction!\n"
     ]
    },
    {
     "name": "stderr",
     "output_type": "stream",
     "text": [
      "Using cache found in /home/aa-ssun2-cmp/.cache/torch/hub/pytorch_vision_v0.10.0\n",
      " 11%|█         | 66/598 [04:45<36:30,  4.12s/it]"
     ]
    },
    {
     "name": "stdout",
     "output_type": "stream",
     "text": [
      "Creating the cell patches\n",
      "Done\n",
      "Now let's do the prediction!\n"
     ]
    },
    {
     "name": "stderr",
     "output_type": "stream",
     "text": [
      "Using cache found in /home/aa-ssun2-cmp/.cache/torch/hub/pytorch_vision_v0.10.0\n",
      " 11%|█         | 67/598 [04:50<36:55,  4.17s/it]Using cache found in /home/aa-ssun2-cmp/.cache/torch/hub/pytorch_vision_v0.10.0\n"
     ]
    },
    {
     "name": "stdout",
     "output_type": "stream",
     "text": [
      "Creating the cell patches\n",
      "Done\n",
      "Now let's do the prediction!\n"
     ]
    },
    {
     "name": "stderr",
     "output_type": "stream",
     "text": [
      " 11%|█▏        | 68/598 [04:54<37:45,  4.27s/it]Using cache found in /home/aa-ssun2-cmp/.cache/torch/hub/pytorch_vision_v0.10.0\n"
     ]
    },
    {
     "name": "stdout",
     "output_type": "stream",
     "text": [
      "Creating the cell patches\n",
      "Done\n",
      "Now let's do the prediction!\n"
     ]
    },
    {
     "name": "stderr",
     "output_type": "stream",
     "text": [
      "\r",
      " 12%|█▏        | 69/598 [05:00<40:24,  4.58s/it]"
     ]
    },
    {
     "name": "stdout",
     "output_type": "stream",
     "text": [
      "Creating the cell patches\n",
      "Done\n",
      "Now let's do the prediction!\n"
     ]
    },
    {
     "name": "stderr",
     "output_type": "stream",
     "text": [
      "Using cache found in /home/aa-ssun2-cmp/.cache/torch/hub/pytorch_vision_v0.10.0\n",
      " 12%|█▏        | 70/598 [05:03<37:58,  4.31s/it]Using cache found in /home/aa-ssun2-cmp/.cache/torch/hub/pytorch_vision_v0.10.0\n"
     ]
    },
    {
     "name": "stdout",
     "output_type": "stream",
     "text": [
      "Creating the cell patches\n",
      "Done\n",
      "Now let's do the prediction!\n"
     ]
    },
    {
     "name": "stderr",
     "output_type": "stream",
     "text": [
      " 12%|█▏        | 71/598 [05:08<38:01,  4.33s/it]Using cache found in /home/aa-ssun2-cmp/.cache/torch/hub/pytorch_vision_v0.10.0\n"
     ]
    },
    {
     "name": "stdout",
     "output_type": "stream",
     "text": [
      "Creating the cell patches\n",
      "Done\n",
      "Now let's do the prediction!\n"
     ]
    },
    {
     "name": "stderr",
     "output_type": "stream",
     "text": [
      "\r",
      " 12%|█▏        | 72/598 [05:11<36:32,  4.17s/it]"
     ]
    },
    {
     "name": "stdout",
     "output_type": "stream",
     "text": [
      "Creating the cell patches\n",
      "Done\n",
      "Now let's do the prediction!\n"
     ]
    },
    {
     "name": "stderr",
     "output_type": "stream",
     "text": [
      "Using cache found in /home/aa-ssun2-cmp/.cache/torch/hub/pytorch_vision_v0.10.0\n",
      " 12%|█▏        | 73/598 [05:15<35:23,  4.04s/it]"
     ]
    },
    {
     "name": "stdout",
     "output_type": "stream",
     "text": [
      "Creating the cell patches\n",
      "Done\n",
      "Now let's do the prediction!\n"
     ]
    },
    {
     "name": "stderr",
     "output_type": "stream",
     "text": [
      "Using cache found in /home/aa-ssun2-cmp/.cache/torch/hub/pytorch_vision_v0.10.0\n",
      " 12%|█▏        | 74/598 [05:18<33:12,  3.80s/it]Using cache found in /home/aa-ssun2-cmp/.cache/torch/hub/pytorch_vision_v0.10.0\n"
     ]
    },
    {
     "name": "stdout",
     "output_type": "stream",
     "text": [
      "Creating the cell patches\n",
      "Done\n",
      "Now let's do the prediction!\n"
     ]
    },
    {
     "name": "stderr",
     "output_type": "stream",
     "text": [
      " 13%|█▎        | 75/598 [05:23<34:59,  4.01s/it]Using cache found in /home/aa-ssun2-cmp/.cache/torch/hub/pytorch_vision_v0.10.0\n"
     ]
    },
    {
     "name": "stdout",
     "output_type": "stream",
     "text": [
      "Creating the cell patches\n",
      "Done\n",
      "Now let's do the prediction!\n"
     ]
    },
    {
     "name": "stderr",
     "output_type": "stream",
     "text": [
      "\r",
      " 13%|█▎        | 76/598 [05:27<34:15,  3.94s/it]"
     ]
    },
    {
     "name": "stdout",
     "output_type": "stream",
     "text": [
      "Creating the cell patches\n",
      "Done\n",
      "Now let's do the prediction!\n"
     ]
    },
    {
     "name": "stderr",
     "output_type": "stream",
     "text": [
      "Using cache found in /home/aa-ssun2-cmp/.cache/torch/hub/pytorch_vision_v0.10.0\n",
      " 13%|█▎        | 77/598 [05:30<32:21,  3.73s/it]Using cache found in /home/aa-ssun2-cmp/.cache/torch/hub/pytorch_vision_v0.10.0\n"
     ]
    },
    {
     "name": "stdout",
     "output_type": "stream",
     "text": [
      "Creating the cell patches\n",
      "Done\n",
      "Now let's do the prediction!\n"
     ]
    },
    {
     "name": "stderr",
     "output_type": "stream",
     "text": [
      " 13%|█▎        | 78/598 [05:34<33:37,  3.88s/it]Using cache found in /home/aa-ssun2-cmp/.cache/torch/hub/pytorch_vision_v0.10.0\n"
     ]
    },
    {
     "name": "stdout",
     "output_type": "stream",
     "text": [
      "Creating the cell patches\n",
      "Done\n",
      "Now let's do the prediction!\n"
     ]
    },
    {
     "name": "stderr",
     "output_type": "stream",
     "text": [
      "\r",
      " 13%|█▎        | 79/598 [05:39<35:41,  4.13s/it]"
     ]
    },
    {
     "name": "stdout",
     "output_type": "stream",
     "text": [
      "Creating the cell patches\n",
      "Done\n",
      "Now let's do the prediction!\n"
     ]
    },
    {
     "name": "stderr",
     "output_type": "stream",
     "text": [
      "Using cache found in /home/aa-ssun2-cmp/.cache/torch/hub/pytorch_vision_v0.10.0\n",
      " 13%|█▎        | 80/598 [05:43<35:00,  4.06s/it]"
     ]
    },
    {
     "name": "stdout",
     "output_type": "stream",
     "text": [
      "Creating the cell patches\n",
      "Done\n",
      "Now let's do the prediction!\n"
     ]
    },
    {
     "name": "stderr",
     "output_type": "stream",
     "text": [
      "Using cache found in /home/aa-ssun2-cmp/.cache/torch/hub/pytorch_vision_v0.10.0\n",
      " 14%|█▎        | 81/598 [05:47<36:02,  4.18s/it]Using cache found in /home/aa-ssun2-cmp/.cache/torch/hub/pytorch_vision_v0.10.0\n"
     ]
    },
    {
     "name": "stdout",
     "output_type": "stream",
     "text": [
      "Creating the cell patches\n",
      "Done\n",
      "Now let's do the prediction!\n"
     ]
    },
    {
     "name": "stderr",
     "output_type": "stream",
     "text": [
      " 14%|█▎        | 82/598 [05:50<33:22,  3.88s/it]Using cache found in /home/aa-ssun2-cmp/.cache/torch/hub/pytorch_vision_v0.10.0\n"
     ]
    },
    {
     "name": "stdout",
     "output_type": "stream",
     "text": [
      "Creating the cell patches\n",
      "Done\n",
      "Now let's do the prediction!\n"
     ]
    },
    {
     "name": "stderr",
     "output_type": "stream",
     "text": [
      "\r",
      " 14%|█▍        | 83/598 [05:54<32:48,  3.82s/it]"
     ]
    },
    {
     "name": "stdout",
     "output_type": "stream",
     "text": [
      "Creating the cell patches\n",
      "Done\n",
      "Now let's do the prediction!\n"
     ]
    },
    {
     "name": "stderr",
     "output_type": "stream",
     "text": [
      "Using cache found in /home/aa-ssun2-cmp/.cache/torch/hub/pytorch_vision_v0.10.0\n",
      " 14%|█▍        | 84/598 [05:57<31:22,  3.66s/it]Using cache found in /home/aa-ssun2-cmp/.cache/torch/hub/pytorch_vision_v0.10.0\n"
     ]
    },
    {
     "name": "stdout",
     "output_type": "stream",
     "text": [
      "Creating the cell patches\n",
      "Done\n",
      "Now let's do the prediction!\n"
     ]
    },
    {
     "name": "stderr",
     "output_type": "stream",
     "text": [
      " 14%|█▍        | 85/598 [06:01<31:22,  3.67s/it]Using cache found in /home/aa-ssun2-cmp/.cache/torch/hub/pytorch_vision_v0.10.0\n"
     ]
    },
    {
     "name": "stdout",
     "output_type": "stream",
     "text": [
      "Creating the cell patches\n",
      "Done\n",
      "Now let's do the prediction!\n"
     ]
    },
    {
     "name": "stderr",
     "output_type": "stream",
     "text": [
      " 14%|█▍        | 86/598 [06:05<32:48,  3.84s/it]Using cache found in /home/aa-ssun2-cmp/.cache/torch/hub/pytorch_vision_v0.10.0\n"
     ]
    },
    {
     "name": "stdout",
     "output_type": "stream",
     "text": [
      "Creating the cell patches\n",
      "Done\n",
      "Now let's do the prediction!\n"
     ]
    },
    {
     "name": "stderr",
     "output_type": "stream",
     "text": [
      " 15%|█▍        | 87/598 [06:09<33:39,  3.95s/it]Using cache found in /home/aa-ssun2-cmp/.cache/torch/hub/pytorch_vision_v0.10.0\n"
     ]
    },
    {
     "name": "stdout",
     "output_type": "stream",
     "text": [
      "Creating the cell patches\n",
      "Done\n",
      "Now let's do the prediction!\n"
     ]
    },
    {
     "name": "stderr",
     "output_type": "stream",
     "text": [
      "\r",
      " 15%|█▍        | 88/598 [06:13<33:35,  3.95s/it]"
     ]
    },
    {
     "name": "stdout",
     "output_type": "stream",
     "text": [
      "Creating the cell patches\n",
      "Done\n",
      "Now let's do the prediction!\n"
     ]
    },
    {
     "name": "stderr",
     "output_type": "stream",
     "text": [
      "Using cache found in /home/aa-ssun2-cmp/.cache/torch/hub/pytorch_vision_v0.10.0\n",
      " 15%|█▍        | 89/598 [06:17<33:33,  3.95s/it]Using cache found in /home/aa-ssun2-cmp/.cache/torch/hub/pytorch_vision_v0.10.0\n"
     ]
    },
    {
     "name": "stdout",
     "output_type": "stream",
     "text": [
      "Creating the cell patches\n",
      "Done\n",
      "Now let's do the prediction!\n"
     ]
    },
    {
     "name": "stderr",
     "output_type": "stream",
     "text": [
      "\r",
      " 15%|█▌        | 90/598 [06:21<33:07,  3.91s/it]"
     ]
    },
    {
     "name": "stdout",
     "output_type": "stream",
     "text": [
      "Creating the cell patches\n",
      "Done\n",
      "Now let's do the prediction!\n"
     ]
    },
    {
     "name": "stderr",
     "output_type": "stream",
     "text": [
      "Using cache found in /home/aa-ssun2-cmp/.cache/torch/hub/pytorch_vision_v0.10.0\n",
      " 15%|█▌        | 91/598 [06:25<32:57,  3.90s/it]"
     ]
    },
    {
     "name": "stdout",
     "output_type": "stream",
     "text": [
      "Creating the cell patches\n",
      "Done\n",
      "Now let's do the prediction!\n"
     ]
    },
    {
     "name": "stderr",
     "output_type": "stream",
     "text": [
      "Using cache found in /home/aa-ssun2-cmp/.cache/torch/hub/pytorch_vision_v0.10.0\n",
      " 15%|█▌        | 92/598 [06:31<37:41,  4.47s/it]"
     ]
    },
    {
     "name": "stdout",
     "output_type": "stream",
     "text": [
      "Creating the cell patches\n",
      "Done\n",
      "Now let's do the prediction!\n"
     ]
    },
    {
     "name": "stderr",
     "output_type": "stream",
     "text": [
      "Using cache found in /home/aa-ssun2-cmp/.cache/torch/hub/pytorch_vision_v0.10.0\n",
      " 16%|█▌        | 93/598 [06:36<38:36,  4.59s/it]"
     ]
    },
    {
     "name": "stdout",
     "output_type": "stream",
     "text": [
      "Creating the cell patches\n",
      "Done\n",
      "Now let's do the prediction!\n"
     ]
    },
    {
     "name": "stderr",
     "output_type": "stream",
     "text": [
      "Using cache found in /home/aa-ssun2-cmp/.cache/torch/hub/pytorch_vision_v0.10.0\n",
      " 16%|█▌        | 94/598 [06:41<39:17,  4.68s/it]"
     ]
    },
    {
     "name": "stdout",
     "output_type": "stream",
     "text": [
      "Creating the cell patches\n",
      "Done\n",
      "Now let's do the prediction!\n"
     ]
    },
    {
     "name": "stderr",
     "output_type": "stream",
     "text": [
      "Using cache found in /home/aa-ssun2-cmp/.cache/torch/hub/pytorch_vision_v0.10.0\n",
      " 16%|█▌        | 95/598 [06:44<37:10,  4.43s/it]"
     ]
    },
    {
     "name": "stdout",
     "output_type": "stream",
     "text": [
      "Creating the cell patches\n",
      "Done\n",
      "Now let's do the prediction!\n"
     ]
    },
    {
     "name": "stderr",
     "output_type": "stream",
     "text": [
      "Using cache found in /home/aa-ssun2-cmp/.cache/torch/hub/pytorch_vision_v0.10.0\n",
      " 16%|█▌        | 96/598 [06:48<34:47,  4.16s/it]"
     ]
    },
    {
     "name": "stdout",
     "output_type": "stream",
     "text": [
      "Creating the cell patches\n",
      "Done\n",
      "Now let's do the prediction!\n"
     ]
    },
    {
     "name": "stderr",
     "output_type": "stream",
     "text": [
      "Using cache found in /home/aa-ssun2-cmp/.cache/torch/hub/pytorch_vision_v0.10.0\n",
      " 16%|█▌        | 97/598 [06:51<32:47,  3.93s/it]Using cache found in /home/aa-ssun2-cmp/.cache/torch/hub/pytorch_vision_v0.10.0\n"
     ]
    },
    {
     "name": "stdout",
     "output_type": "stream",
     "text": [
      "Creating the cell patches\n",
      "Done\n",
      "Now let's do the prediction!\n"
     ]
    },
    {
     "name": "stderr",
     "output_type": "stream",
     "text": [
      "\r",
      " 16%|█▋        | 98/598 [06:56<34:02,  4.08s/it]"
     ]
    },
    {
     "name": "stdout",
     "output_type": "stream",
     "text": [
      "Creating the cell patches\n",
      "Done\n",
      "Now let's do the prediction!\n"
     ]
    },
    {
     "name": "stderr",
     "output_type": "stream",
     "text": [
      "Using cache found in /home/aa-ssun2-cmp/.cache/torch/hub/pytorch_vision_v0.10.0\n",
      " 17%|█▋        | 99/598 [07:00<33:15,  4.00s/it]Using cache found in /home/aa-ssun2-cmp/.cache/torch/hub/pytorch_vision_v0.10.0\n"
     ]
    },
    {
     "name": "stdout",
     "output_type": "stream",
     "text": [
      "Creating the cell patches\n",
      "Done\n",
      "Now let's do the prediction!\n"
     ]
    },
    {
     "name": "stderr",
     "output_type": "stream",
     "text": [
      " 17%|█▋        | 100/598 [07:03<32:33,  3.92s/it]Using cache found in /home/aa-ssun2-cmp/.cache/torch/hub/pytorch_vision_v0.10.0\n"
     ]
    },
    {
     "name": "stdout",
     "output_type": "stream",
     "text": [
      "Creating the cell patches\n",
      "Done\n",
      "Now let's do the prediction!\n"
     ]
    },
    {
     "name": "stderr",
     "output_type": "stream",
     "text": [
      " 17%|█▋        | 101/598 [07:07<31:27,  3.80s/it]Using cache found in /home/aa-ssun2-cmp/.cache/torch/hub/pytorch_vision_v0.10.0\n"
     ]
    },
    {
     "name": "stdout",
     "output_type": "stream",
     "text": [
      "Creating the cell patches\n",
      "Done\n",
      "Now let's do the prediction!\n"
     ]
    },
    {
     "name": "stderr",
     "output_type": "stream",
     "text": [
      "\r",
      " 17%|█▋        | 102/598 [07:11<31:43,  3.84s/it]"
     ]
    },
    {
     "name": "stdout",
     "output_type": "stream",
     "text": [
      "Creating the cell patches\n",
      "Done\n",
      "Now let's do the prediction!\n"
     ]
    },
    {
     "name": "stderr",
     "output_type": "stream",
     "text": [
      "Using cache found in /home/aa-ssun2-cmp/.cache/torch/hub/pytorch_vision_v0.10.0\n",
      " 17%|█▋        | 103/598 [07:14<31:04,  3.77s/it]"
     ]
    },
    {
     "name": "stdout",
     "output_type": "stream",
     "text": [
      "Creating the cell patches\n",
      "Done\n",
      "Now let's do the prediction!\n"
     ]
    },
    {
     "name": "stderr",
     "output_type": "stream",
     "text": [
      "Using cache found in /home/aa-ssun2-cmp/.cache/torch/hub/pytorch_vision_v0.10.0\n",
      " 17%|█▋        | 104/598 [07:20<34:44,  4.22s/it]Using cache found in /home/aa-ssun2-cmp/.cache/torch/hub/pytorch_vision_v0.10.0\n"
     ]
    },
    {
     "name": "stdout",
     "output_type": "stream",
     "text": [
      "Creating the cell patches\n",
      "Done\n",
      "Now let's do the prediction!\n"
     ]
    },
    {
     "name": "stderr",
     "output_type": "stream",
     "text": [
      " 18%|█▊        | 105/598 [07:25<37:25,  4.55s/it]Using cache found in /home/aa-ssun2-cmp/.cache/torch/hub/pytorch_vision_v0.10.0\n"
     ]
    },
    {
     "name": "stdout",
     "output_type": "stream",
     "text": [
      "Creating the cell patches\n",
      "Done\n",
      "Now let's do the prediction!\n"
     ]
    },
    {
     "name": "stderr",
     "output_type": "stream",
     "text": [
      " 18%|█▊        | 106/598 [07:30<38:27,  4.69s/it]Using cache found in /home/aa-ssun2-cmp/.cache/torch/hub/pytorch_vision_v0.10.0\n"
     ]
    },
    {
     "name": "stdout",
     "output_type": "stream",
     "text": [
      "Creating the cell patches\n",
      "Done\n",
      "Now let's do the prediction!\n"
     ]
    },
    {
     "name": "stderr",
     "output_type": "stream",
     "text": [
      " 18%|█▊        | 107/598 [07:35<38:50,  4.75s/it]Using cache found in /home/aa-ssun2-cmp/.cache/torch/hub/pytorch_vision_v0.10.0\n"
     ]
    },
    {
     "name": "stdout",
     "output_type": "stream",
     "text": [
      "Creating the cell patches\n",
      "Done\n",
      "Now let's do the prediction!\n"
     ]
    },
    {
     "name": "stderr",
     "output_type": "stream",
     "text": [
      " 18%|█▊        | 108/598 [07:38<35:48,  4.39s/it]Using cache found in /home/aa-ssun2-cmp/.cache/torch/hub/pytorch_vision_v0.10.0\n"
     ]
    },
    {
     "name": "stdout",
     "output_type": "stream",
     "text": [
      "Creating the cell patches\n",
      "Done\n",
      "Now let's do the prediction!\n"
     ]
    },
    {
     "name": "stderr",
     "output_type": "stream",
     "text": [
      " 18%|█▊        | 109/598 [07:42<34:39,  4.25s/it]Using cache found in /home/aa-ssun2-cmp/.cache/torch/hub/pytorch_vision_v0.10.0\n"
     ]
    },
    {
     "name": "stdout",
     "output_type": "stream",
     "text": [
      "Creating the cell patches\n",
      "Done\n",
      "Now let's do the prediction!\n"
     ]
    },
    {
     "name": "stderr",
     "output_type": "stream",
     "text": [
      " 18%|█▊        | 110/598 [07:48<36:55,  4.54s/it]Using cache found in /home/aa-ssun2-cmp/.cache/torch/hub/pytorch_vision_v0.10.0\n"
     ]
    },
    {
     "name": "stdout",
     "output_type": "stream",
     "text": [
      "Creating the cell patches\n",
      "Done\n",
      "Now let's do the prediction!\n"
     ]
    },
    {
     "name": "stderr",
     "output_type": "stream",
     "text": [
      "\r",
      " 19%|█▊        | 111/598 [07:51<34:16,  4.22s/it]"
     ]
    },
    {
     "name": "stdout",
     "output_type": "stream",
     "text": [
      "Creating the cell patches\n",
      "Done\n",
      "Now let's do the prediction!\n"
     ]
    },
    {
     "name": "stderr",
     "output_type": "stream",
     "text": [
      "Using cache found in /home/aa-ssun2-cmp/.cache/torch/hub/pytorch_vision_v0.10.0\n",
      " 19%|█▊        | 112/598 [07:55<32:56,  4.07s/it]"
     ]
    },
    {
     "name": "stdout",
     "output_type": "stream",
     "text": [
      "Creating the cell patches\n",
      "Done\n",
      "Now let's do the prediction!\n"
     ]
    },
    {
     "name": "stderr",
     "output_type": "stream",
     "text": [
      "Using cache found in /home/aa-ssun2-cmp/.cache/torch/hub/pytorch_vision_v0.10.0\n",
      " 19%|█▉        | 113/598 [07:59<33:55,  4.20s/it]"
     ]
    },
    {
     "name": "stdout",
     "output_type": "stream",
     "text": [
      "Creating the cell patches\n",
      "Done\n",
      "Now let's do the prediction!\n"
     ]
    },
    {
     "name": "stderr",
     "output_type": "stream",
     "text": [
      "Using cache found in /home/aa-ssun2-cmp/.cache/torch/hub/pytorch_vision_v0.10.0\n",
      " 19%|█▉        | 114/598 [08:04<34:23,  4.26s/it]Using cache found in /home/aa-ssun2-cmp/.cache/torch/hub/pytorch_vision_v0.10.0\n"
     ]
    },
    {
     "name": "stdout",
     "output_type": "stream",
     "text": [
      "Creating the cell patches\n",
      "Done\n",
      "Now let's do the prediction!\n"
     ]
    },
    {
     "name": "stderr",
     "output_type": "stream",
     "text": [
      " 19%|█▉        | 115/598 [08:07<32:38,  4.05s/it]Using cache found in /home/aa-ssun2-cmp/.cache/torch/hub/pytorch_vision_v0.10.0\n"
     ]
    },
    {
     "name": "stdout",
     "output_type": "stream",
     "text": [
      "Creating the cell patches\n",
      "Done\n",
      "Now let's do the prediction!\n"
     ]
    },
    {
     "name": "stderr",
     "output_type": "stream",
     "text": [
      " 19%|█▉        | 116/598 [08:12<33:14,  4.14s/it]Using cache found in /home/aa-ssun2-cmp/.cache/torch/hub/pytorch_vision_v0.10.0\n"
     ]
    },
    {
     "name": "stdout",
     "output_type": "stream",
     "text": [
      "Creating the cell patches\n",
      "Done\n",
      "Now let's do the prediction!\n"
     ]
    },
    {
     "name": "stderr",
     "output_type": "stream",
     "text": [
      "\r",
      " 20%|█▉        | 117/598 [08:16<32:59,  4.11s/it]"
     ]
    },
    {
     "name": "stdout",
     "output_type": "stream",
     "text": [
      "Creating the cell patches\n",
      "Done\n",
      "Now let's do the prediction!\n"
     ]
    },
    {
     "name": "stderr",
     "output_type": "stream",
     "text": [
      "Using cache found in /home/aa-ssun2-cmp/.cache/torch/hub/pytorch_vision_v0.10.0\n",
      " 20%|█▉        | 118/598 [08:20<34:28,  4.31s/it]"
     ]
    },
    {
     "name": "stdout",
     "output_type": "stream",
     "text": [
      "Creating the cell patches\n",
      "Done\n",
      "Now let's do the prediction!\n"
     ]
    },
    {
     "name": "stderr",
     "output_type": "stream",
     "text": [
      "Using cache found in /home/aa-ssun2-cmp/.cache/torch/hub/pytorch_vision_v0.10.0\n",
      " 20%|█▉        | 119/598 [08:26<36:28,  4.57s/it]"
     ]
    },
    {
     "name": "stdout",
     "output_type": "stream",
     "text": [
      "Creating the cell patches\n",
      "Done\n",
      "Now let's do the prediction!\n"
     ]
    },
    {
     "name": "stderr",
     "output_type": "stream",
     "text": [
      "Using cache found in /home/aa-ssun2-cmp/.cache/torch/hub/pytorch_vision_v0.10.0\n",
      " 20%|██        | 120/598 [08:32<40:44,  5.11s/it]"
     ]
    },
    {
     "name": "stdout",
     "output_type": "stream",
     "text": [
      "Creating the cell patches\n",
      "Done\n",
      "Now let's do the prediction!\n"
     ]
    },
    {
     "name": "stderr",
     "output_type": "stream",
     "text": [
      "Using cache found in /home/aa-ssun2-cmp/.cache/torch/hub/pytorch_vision_v0.10.0\n",
      " 20%|██        | 121/598 [08:37<39:40,  4.99s/it]Using cache found in /home/aa-ssun2-cmp/.cache/torch/hub/pytorch_vision_v0.10.0\n"
     ]
    },
    {
     "name": "stdout",
     "output_type": "stream",
     "text": [
      "Creating the cell patches\n",
      "Done\n",
      "Now let's do the prediction!\n"
     ]
    },
    {
     "name": "stderr",
     "output_type": "stream",
     "text": [
      " 20%|██        | 122/598 [08:40<35:45,  4.51s/it]Using cache found in /home/aa-ssun2-cmp/.cache/torch/hub/pytorch_vision_v0.10.0\n"
     ]
    },
    {
     "name": "stdout",
     "output_type": "stream",
     "text": [
      "Creating the cell patches\n",
      "Done\n",
      "Now let's do the prediction!\n"
     ]
    },
    {
     "name": "stderr",
     "output_type": "stream",
     "text": [
      " 21%|██        | 123/598 [08:44<35:00,  4.42s/it]Using cache found in /home/aa-ssun2-cmp/.cache/torch/hub/pytorch_vision_v0.10.0\n"
     ]
    },
    {
     "name": "stdout",
     "output_type": "stream",
     "text": [
      "Creating the cell patches\n",
      "Done\n",
      "Now let's do the prediction!\n"
     ]
    },
    {
     "name": "stderr",
     "output_type": "stream",
     "text": [
      "\r",
      " 21%|██        | 124/598 [08:48<34:17,  4.34s/it]"
     ]
    },
    {
     "name": "stdout",
     "output_type": "stream",
     "text": [
      "Creating the cell patches\n",
      "Done\n",
      "Now let's do the prediction!\n"
     ]
    },
    {
     "name": "stderr",
     "output_type": "stream",
     "text": [
      "Using cache found in /home/aa-ssun2-cmp/.cache/torch/hub/pytorch_vision_v0.10.0\n",
      " 21%|██        | 125/598 [08:53<35:00,  4.44s/it]"
     ]
    },
    {
     "name": "stdout",
     "output_type": "stream",
     "text": [
      "Creating the cell patches\n",
      "Done\n",
      "Now let's do the prediction!\n"
     ]
    },
    {
     "name": "stderr",
     "output_type": "stream",
     "text": [
      "Using cache found in /home/aa-ssun2-cmp/.cache/torch/hub/pytorch_vision_v0.10.0\n",
      " 21%|██        | 126/598 [08:57<34:24,  4.37s/it]Using cache found in /home/aa-ssun2-cmp/.cache/torch/hub/pytorch_vision_v0.10.0\n"
     ]
    },
    {
     "name": "stdout",
     "output_type": "stream",
     "text": [
      "Creating the cell patches\n",
      "Done\n",
      "Now let's do the prediction!\n"
     ]
    },
    {
     "name": "stderr",
     "output_type": "stream",
     "text": [
      " 21%|██        | 127/598 [09:02<33:57,  4.33s/it]Using cache found in /home/aa-ssun2-cmp/.cache/torch/hub/pytorch_vision_v0.10.0\n"
     ]
    },
    {
     "name": "stdout",
     "output_type": "stream",
     "text": [
      "Creating the cell patches\n",
      "Done\n",
      "Now let's do the prediction!\n"
     ]
    },
    {
     "name": "stderr",
     "output_type": "stream",
     "text": [
      "\r",
      " 21%|██▏       | 128/598 [09:07<36:36,  4.67s/it]"
     ]
    },
    {
     "name": "stdout",
     "output_type": "stream",
     "text": [
      "Creating the cell patches\n",
      "Done\n",
      "Now let's do the prediction!\n"
     ]
    },
    {
     "name": "stderr",
     "output_type": "stream",
     "text": [
      "Using cache found in /home/aa-ssun2-cmp/.cache/torch/hub/pytorch_vision_v0.10.0\n",
      " 22%|██▏       | 129/598 [09:12<37:40,  4.82s/it]Using cache found in /home/aa-ssun2-cmp/.cache/torch/hub/pytorch_vision_v0.10.0\n"
     ]
    },
    {
     "name": "stdout",
     "output_type": "stream",
     "text": [
      "Creating the cell patches\n",
      "Done\n",
      "Now let's do the prediction!\n"
     ]
    },
    {
     "name": "stderr",
     "output_type": "stream",
     "text": [
      "\r",
      " 22%|██▏       | 130/598 [09:17<38:40,  4.96s/it]"
     ]
    },
    {
     "name": "stdout",
     "output_type": "stream",
     "text": [
      "Creating the cell patches\n",
      "Done\n",
      "Now let's do the prediction!\n"
     ]
    },
    {
     "name": "stderr",
     "output_type": "stream",
     "text": [
      "Using cache found in /home/aa-ssun2-cmp/.cache/torch/hub/pytorch_vision_v0.10.0\n",
      " 22%|██▏       | 131/598 [09:22<36:34,  4.70s/it]Using cache found in /home/aa-ssun2-cmp/.cache/torch/hub/pytorch_vision_v0.10.0\n"
     ]
    },
    {
     "name": "stdout",
     "output_type": "stream",
     "text": [
      "Creating the cell patches\n",
      "Done\n",
      "Now let's do the prediction!\n"
     ]
    },
    {
     "name": "stderr",
     "output_type": "stream",
     "text": [
      " 22%|██▏       | 132/598 [09:27<37:30,  4.83s/it]Using cache found in /home/aa-ssun2-cmp/.cache/torch/hub/pytorch_vision_v0.10.0\n"
     ]
    },
    {
     "name": "stdout",
     "output_type": "stream",
     "text": [
      "Creating the cell patches\n",
      "Done\n",
      "Now let's do the prediction!\n"
     ]
    },
    {
     "name": "stderr",
     "output_type": "stream",
     "text": [
      " 22%|██▏       | 133/598 [09:31<35:19,  4.56s/it]Using cache found in /home/aa-ssun2-cmp/.cache/torch/hub/pytorch_vision_v0.10.0\n"
     ]
    },
    {
     "name": "stdout",
     "output_type": "stream",
     "text": [
      "Creating the cell patches\n",
      "Done\n",
      "Now let's do the prediction!\n"
     ]
    },
    {
     "name": "stderr",
     "output_type": "stream",
     "text": [
      "\r",
      " 22%|██▏       | 134/598 [09:36<37:17,  4.82s/it]"
     ]
    },
    {
     "name": "stdout",
     "output_type": "stream",
     "text": [
      "Creating the cell patches\n",
      "Done\n",
      "Now let's do the prediction!\n"
     ]
    },
    {
     "name": "stderr",
     "output_type": "stream",
     "text": [
      "Using cache found in /home/aa-ssun2-cmp/.cache/torch/hub/pytorch_vision_v0.10.0\n",
      " 23%|██▎       | 135/598 [09:40<35:48,  4.64s/it]"
     ]
    },
    {
     "name": "stdout",
     "output_type": "stream",
     "text": [
      "Creating the cell patches\n",
      "Done\n",
      "Now let's do the prediction!\n"
     ]
    },
    {
     "name": "stderr",
     "output_type": "stream",
     "text": [
      "Using cache found in /home/aa-ssun2-cmp/.cache/torch/hub/pytorch_vision_v0.10.0\n",
      " 23%|██▎       | 136/598 [09:44<33:21,  4.33s/it]Using cache found in /home/aa-ssun2-cmp/.cache/torch/hub/pytorch_vision_v0.10.0\n"
     ]
    },
    {
     "name": "stdout",
     "output_type": "stream",
     "text": [
      "Creating the cell patches\n",
      "Done\n",
      "Now let's do the prediction!\n"
     ]
    },
    {
     "name": "stderr",
     "output_type": "stream",
     "text": [
      "\r",
      " 23%|██▎       | 137/598 [09:49<34:06,  4.44s/it]"
     ]
    },
    {
     "name": "stdout",
     "output_type": "stream",
     "text": [
      "Creating the cell patches\n",
      "Done\n",
      "Now let's do the prediction!\n"
     ]
    },
    {
     "name": "stderr",
     "output_type": "stream",
     "text": [
      "Using cache found in /home/aa-ssun2-cmp/.cache/torch/hub/pytorch_vision_v0.10.0\n",
      " 23%|██▎       | 138/598 [09:52<31:26,  4.10s/it]Using cache found in /home/aa-ssun2-cmp/.cache/torch/hub/pytorch_vision_v0.10.0\n"
     ]
    },
    {
     "name": "stdout",
     "output_type": "stream",
     "text": [
      "Creating the cell patches\n",
      "Done\n",
      "Now let's do the prediction!\n"
     ]
    },
    {
     "name": "stderr",
     "output_type": "stream",
     "text": [
      " 23%|██▎       | 139/598 [09:57<33:23,  4.36s/it]Using cache found in /home/aa-ssun2-cmp/.cache/torch/hub/pytorch_vision_v0.10.0\n"
     ]
    },
    {
     "name": "stdout",
     "output_type": "stream",
     "text": [
      "Creating the cell patches\n",
      "Done\n",
      "Now let's do the prediction!\n"
     ]
    },
    {
     "name": "stderr",
     "output_type": "stream",
     "text": [
      "\r",
      " 23%|██▎       | 140/598 [10:00<31:02,  4.07s/it]"
     ]
    },
    {
     "name": "stdout",
     "output_type": "stream",
     "text": [
      "Creating the cell patches\n",
      "Done\n",
      "Now let's do the prediction!\n"
     ]
    },
    {
     "name": "stderr",
     "output_type": "stream",
     "text": [
      "Using cache found in /home/aa-ssun2-cmp/.cache/torch/hub/pytorch_vision_v0.10.0\n",
      " 24%|██▎       | 141/598 [10:04<29:28,  3.87s/it]"
     ]
    },
    {
     "name": "stdout",
     "output_type": "stream",
     "text": [
      "Creating the cell patches\n",
      "Done\n",
      "Now let's do the prediction!\n"
     ]
    },
    {
     "name": "stderr",
     "output_type": "stream",
     "text": [
      "Using cache found in /home/aa-ssun2-cmp/.cache/torch/hub/pytorch_vision_v0.10.0\n",
      " 24%|██▎       | 142/598 [10:08<31:20,  4.12s/it]Using cache found in /home/aa-ssun2-cmp/.cache/torch/hub/pytorch_vision_v0.10.0\n"
     ]
    },
    {
     "name": "stdout",
     "output_type": "stream",
     "text": [
      "Creating the cell patches\n",
      "Done\n",
      "Now let's do the prediction!\n"
     ]
    },
    {
     "name": "stderr",
     "output_type": "stream",
     "text": [
      "\r",
      " 24%|██▍       | 143/598 [10:13<32:43,  4.32s/it]"
     ]
    },
    {
     "name": "stdout",
     "output_type": "stream",
     "text": [
      "Creating the cell patches\n",
      "Done\n",
      "Now let's do the prediction!\n"
     ]
    },
    {
     "name": "stderr",
     "output_type": "stream",
     "text": [
      "Using cache found in /home/aa-ssun2-cmp/.cache/torch/hub/pytorch_vision_v0.10.0\n",
      " 24%|██▍       | 144/598 [10:17<31:33,  4.17s/it]"
     ]
    },
    {
     "name": "stdout",
     "output_type": "stream",
     "text": [
      "Creating the cell patches\n",
      "Done\n",
      "Now let's do the prediction!\n"
     ]
    },
    {
     "name": "stderr",
     "output_type": "stream",
     "text": [
      "Using cache found in /home/aa-ssun2-cmp/.cache/torch/hub/pytorch_vision_v0.10.0\n",
      " 24%|██▍       | 145/598 [10:21<30:10,  4.00s/it]"
     ]
    },
    {
     "name": "stdout",
     "output_type": "stream",
     "text": [
      "Creating the cell patches\n",
      "Done\n",
      "Now let's do the prediction!\n"
     ]
    },
    {
     "name": "stderr",
     "output_type": "stream",
     "text": [
      "Using cache found in /home/aa-ssun2-cmp/.cache/torch/hub/pytorch_vision_v0.10.0\n",
      " 24%|██▍       | 146/598 [10:25<31:39,  4.20s/it]Using cache found in /home/aa-ssun2-cmp/.cache/torch/hub/pytorch_vision_v0.10.0\n"
     ]
    },
    {
     "name": "stdout",
     "output_type": "stream",
     "text": [
      "Creating the cell patches\n",
      "Done\n",
      "Now let's do the prediction!\n"
     ]
    },
    {
     "name": "stderr",
     "output_type": "stream",
     "text": [
      "\r",
      " 25%|██▍       | 147/598 [10:29<31:32,  4.20s/it]"
     ]
    },
    {
     "name": "stdout",
     "output_type": "stream",
     "text": [
      "Creating the cell patches\n",
      "Done\n",
      "Now let's do the prediction!\n"
     ]
    },
    {
     "name": "stderr",
     "output_type": "stream",
     "text": [
      "Using cache found in /home/aa-ssun2-cmp/.cache/torch/hub/pytorch_vision_v0.10.0\n",
      " 25%|██▍       | 148/598 [10:34<32:55,  4.39s/it]"
     ]
    },
    {
     "name": "stdout",
     "output_type": "stream",
     "text": [
      "Creating the cell patches\n",
      "Done\n",
      "Now let's do the prediction!\n"
     ]
    },
    {
     "name": "stderr",
     "output_type": "stream",
     "text": [
      "Using cache found in /home/aa-ssun2-cmp/.cache/torch/hub/pytorch_vision_v0.10.0\n",
      " 25%|██▍       | 149/598 [10:39<34:45,  4.64s/it]Using cache found in /home/aa-ssun2-cmp/.cache/torch/hub/pytorch_vision_v0.10.0\n"
     ]
    },
    {
     "name": "stdout",
     "output_type": "stream",
     "text": [
      "Creating the cell patches\n",
      "Done\n",
      "Now let's do the prediction!\n"
     ]
    },
    {
     "name": "stderr",
     "output_type": "stream",
     "text": [
      "\r",
      " 25%|██▌       | 150/598 [10:44<34:44,  4.65s/it]"
     ]
    },
    {
     "name": "stdout",
     "output_type": "stream",
     "text": [
      "Creating the cell patches\n",
      "Done\n",
      "Now let's do the prediction!\n"
     ]
    },
    {
     "name": "stderr",
     "output_type": "stream",
     "text": [
      "Using cache found in /home/aa-ssun2-cmp/.cache/torch/hub/pytorch_vision_v0.10.0\n",
      " 25%|██▌       | 151/598 [10:50<37:17,  5.01s/it]"
     ]
    },
    {
     "name": "stdout",
     "output_type": "stream",
     "text": [
      "Creating the cell patches\n",
      "Done\n",
      "Now let's do the prediction!\n"
     ]
    },
    {
     "name": "stderr",
     "output_type": "stream",
     "text": [
      "Using cache found in /home/aa-ssun2-cmp/.cache/torch/hub/pytorch_vision_v0.10.0\n",
      " 25%|██▌       | 152/598 [10:54<34:01,  4.58s/it]Using cache found in /home/aa-ssun2-cmp/.cache/torch/hub/pytorch_vision_v0.10.0\n"
     ]
    },
    {
     "name": "stdout",
     "output_type": "stream",
     "text": [
      "Creating the cell patches\n",
      "Done\n",
      "Now let's do the prediction!\n"
     ]
    },
    {
     "name": "stderr",
     "output_type": "stream",
     "text": [
      "\r",
      " 26%|██▌       | 153/598 [10:57<32:13,  4.34s/it]"
     ]
    },
    {
     "name": "stdout",
     "output_type": "stream",
     "text": [
      "Creating the cell patches\n",
      "Done\n",
      "Now let's do the prediction!\n"
     ]
    },
    {
     "name": "stderr",
     "output_type": "stream",
     "text": [
      "Using cache found in /home/aa-ssun2-cmp/.cache/torch/hub/pytorch_vision_v0.10.0\n",
      " 26%|██▌       | 154/598 [11:01<31:10,  4.21s/it]Using cache found in /home/aa-ssun2-cmp/.cache/torch/hub/pytorch_vision_v0.10.0\n"
     ]
    },
    {
     "name": "stdout",
     "output_type": "stream",
     "text": [
      "Creating the cell patches\n",
      "Done\n",
      "Now let's do the prediction!\n"
     ]
    },
    {
     "name": "stderr",
     "output_type": "stream",
     "text": [
      " 26%|██▌       | 155/598 [11:06<31:48,  4.31s/it]Using cache found in /home/aa-ssun2-cmp/.cache/torch/hub/pytorch_vision_v0.10.0\n"
     ]
    },
    {
     "name": "stdout",
     "output_type": "stream",
     "text": [
      "Creating the cell patches\n",
      "Done\n",
      "Now let's do the prediction!\n"
     ]
    },
    {
     "name": "stderr",
     "output_type": "stream",
     "text": [
      "\r",
      " 26%|██▌       | 156/598 [11:09<29:36,  4.02s/it]"
     ]
    },
    {
     "name": "stdout",
     "output_type": "stream",
     "text": [
      "Creating the cell patches\n",
      "Done\n",
      "Now let's do the prediction!\n"
     ]
    },
    {
     "name": "stderr",
     "output_type": "stream",
     "text": [
      "Using cache found in /home/aa-ssun2-cmp/.cache/torch/hub/pytorch_vision_v0.10.0\n",
      " 26%|██▋       | 157/598 [11:13<29:27,  4.01s/it]Using cache found in /home/aa-ssun2-cmp/.cache/torch/hub/pytorch_vision_v0.10.0\n"
     ]
    },
    {
     "name": "stdout",
     "output_type": "stream",
     "text": [
      "Creating the cell patches\n",
      "Done\n",
      "Now let's do the prediction!\n"
     ]
    },
    {
     "name": "stderr",
     "output_type": "stream",
     "text": [
      " 26%|██▋       | 158/598 [11:17<28:21,  3.87s/it]Using cache found in /home/aa-ssun2-cmp/.cache/torch/hub/pytorch_vision_v0.10.0\n"
     ]
    },
    {
     "name": "stdout",
     "output_type": "stream",
     "text": [
      "Creating the cell patches\n",
      "Done\n",
      "Now let's do the prediction!\n"
     ]
    },
    {
     "name": "stderr",
     "output_type": "stream",
     "text": [
      " 27%|██▋       | 159/598 [11:20<27:32,  3.76s/it]Using cache found in /home/aa-ssun2-cmp/.cache/torch/hub/pytorch_vision_v0.10.0\n"
     ]
    },
    {
     "name": "stdout",
     "output_type": "stream",
     "text": [
      "Creating the cell patches\n",
      "Done\n",
      "Now let's do the prediction!\n"
     ]
    },
    {
     "name": "stderr",
     "output_type": "stream",
     "text": [
      "\r",
      " 27%|██▋       | 160/598 [11:23<26:24,  3.62s/it]"
     ]
    },
    {
     "name": "stdout",
     "output_type": "stream",
     "text": [
      "Creating the cell patches\n",
      "Done\n",
      "Now let's do the prediction!\n"
     ]
    },
    {
     "name": "stderr",
     "output_type": "stream",
     "text": [
      "Using cache found in /home/aa-ssun2-cmp/.cache/torch/hub/pytorch_vision_v0.10.0\n",
      " 27%|██▋       | 161/598 [11:27<26:48,  3.68s/it]Using cache found in /home/aa-ssun2-cmp/.cache/torch/hub/pytorch_vision_v0.10.0\n"
     ]
    },
    {
     "name": "stdout",
     "output_type": "stream",
     "text": [
      "Creating the cell patches\n",
      "Done\n",
      "Now let's do the prediction!\n"
     ]
    },
    {
     "name": "stderr",
     "output_type": "stream",
     "text": [
      " 27%|██▋       | 162/598 [11:32<28:50,  3.97s/it]Using cache found in /home/aa-ssun2-cmp/.cache/torch/hub/pytorch_vision_v0.10.0\n"
     ]
    },
    {
     "name": "stdout",
     "output_type": "stream",
     "text": [
      "Creating the cell patches\n",
      "Done\n",
      "Now let's do the prediction!\n"
     ]
    },
    {
     "name": "stderr",
     "output_type": "stream",
     "text": [
      " 27%|██▋       | 163/598 [11:35<27:31,  3.80s/it]Using cache found in /home/aa-ssun2-cmp/.cache/torch/hub/pytorch_vision_v0.10.0\n"
     ]
    },
    {
     "name": "stdout",
     "output_type": "stream",
     "text": [
      "Creating the cell patches\n",
      "Done\n",
      "Now let's do the prediction!\n"
     ]
    },
    {
     "name": "stderr",
     "output_type": "stream",
     "text": [
      "\r",
      " 27%|██▋       | 164/598 [11:39<27:23,  3.79s/it]"
     ]
    },
    {
     "name": "stdout",
     "output_type": "stream",
     "text": [
      "Creating the cell patches\n",
      "Done\n",
      "Now let's do the prediction!\n"
     ]
    },
    {
     "name": "stderr",
     "output_type": "stream",
     "text": [
      "Using cache found in /home/aa-ssun2-cmp/.cache/torch/hub/pytorch_vision_v0.10.0\n",
      " 28%|██▊       | 165/598 [11:44<29:26,  4.08s/it]Using cache found in /home/aa-ssun2-cmp/.cache/torch/hub/pytorch_vision_v0.10.0\n"
     ]
    },
    {
     "name": "stdout",
     "output_type": "stream",
     "text": [
      "Creating the cell patches\n",
      "Done\n",
      "Now let's do the prediction!\n"
     ]
    },
    {
     "name": "stderr",
     "output_type": "stream",
     "text": [
      "\r",
      " 28%|██▊       | 166/598 [11:48<30:14,  4.20s/it]"
     ]
    },
    {
     "name": "stdout",
     "output_type": "stream",
     "text": [
      "Creating the cell patches\n",
      "Done\n",
      "Now let's do the prediction!\n"
     ]
    },
    {
     "name": "stderr",
     "output_type": "stream",
     "text": [
      "Using cache found in /home/aa-ssun2-cmp/.cache/torch/hub/pytorch_vision_v0.10.0\n",
      " 28%|██▊       | 167/598 [11:53<31:38,  4.41s/it]Using cache found in /home/aa-ssun2-cmp/.cache/torch/hub/pytorch_vision_v0.10.0\n"
     ]
    },
    {
     "name": "stdout",
     "output_type": "stream",
     "text": [
      "Creating the cell patches\n",
      "Done\n",
      "Now let's do the prediction!\n"
     ]
    },
    {
     "name": "stderr",
     "output_type": "stream",
     "text": [
      " 28%|██▊       | 168/598 [11:58<32:18,  4.51s/it]Using cache found in /home/aa-ssun2-cmp/.cache/torch/hub/pytorch_vision_v0.10.0\n"
     ]
    },
    {
     "name": "stdout",
     "output_type": "stream",
     "text": [
      "Creating the cell patches\n",
      "Done\n",
      "Now let's do the prediction!\n"
     ]
    },
    {
     "name": "stderr",
     "output_type": "stream",
     "text": [
      "\r",
      " 28%|██▊       | 169/598 [12:02<31:29,  4.41s/it]"
     ]
    },
    {
     "name": "stdout",
     "output_type": "stream",
     "text": [
      "Creating the cell patches\n",
      "Done\n",
      "Now let's do the prediction!\n"
     ]
    },
    {
     "name": "stderr",
     "output_type": "stream",
     "text": [
      "Using cache found in /home/aa-ssun2-cmp/.cache/torch/hub/pytorch_vision_v0.10.0\n",
      " 28%|██▊       | 170/598 [12:06<31:17,  4.39s/it]"
     ]
    },
    {
     "name": "stdout",
     "output_type": "stream",
     "text": [
      "Creating the cell patches\n",
      "Done\n",
      "Now let's do the prediction!\n"
     ]
    },
    {
     "name": "stderr",
     "output_type": "stream",
     "text": [
      "Using cache found in /home/aa-ssun2-cmp/.cache/torch/hub/pytorch_vision_v0.10.0\n",
      " 29%|██▊       | 171/598 [12:11<31:37,  4.44s/it]Using cache found in /home/aa-ssun2-cmp/.cache/torch/hub/pytorch_vision_v0.10.0\n"
     ]
    },
    {
     "name": "stdout",
     "output_type": "stream",
     "text": [
      "Creating the cell patches\n",
      "Done\n",
      "Now let's do the prediction!\n"
     ]
    },
    {
     "name": "stderr",
     "output_type": "stream",
     "text": [
      "\r",
      " 29%|██▉       | 172/598 [12:15<31:08,  4.39s/it]"
     ]
    },
    {
     "name": "stdout",
     "output_type": "stream",
     "text": [
      "Creating the cell patches\n",
      "Done\n",
      "Now let's do the prediction!\n"
     ]
    },
    {
     "name": "stderr",
     "output_type": "stream",
     "text": [
      "Using cache found in /home/aa-ssun2-cmp/.cache/torch/hub/pytorch_vision_v0.10.0\n",
      " 29%|██▉       | 173/598 [12:20<31:18,  4.42s/it]"
     ]
    },
    {
     "name": "stdout",
     "output_type": "stream",
     "text": [
      "Creating the cell patches\n",
      "Done\n",
      "Now let's do the prediction!\n"
     ]
    },
    {
     "name": "stderr",
     "output_type": "stream",
     "text": [
      "Using cache found in /home/aa-ssun2-cmp/.cache/torch/hub/pytorch_vision_v0.10.0\n",
      " 29%|██▉       | 174/598 [12:25<32:30,  4.60s/it]Using cache found in /home/aa-ssun2-cmp/.cache/torch/hub/pytorch_vision_v0.10.0\n"
     ]
    },
    {
     "name": "stdout",
     "output_type": "stream",
     "text": [
      "Creating the cell patches\n",
      "Done\n",
      "Now let's do the prediction!\n"
     ]
    },
    {
     "name": "stderr",
     "output_type": "stream",
     "text": [
      "\r",
      " 29%|██▉       | 175/598 [12:30<33:08,  4.70s/it]"
     ]
    },
    {
     "name": "stdout",
     "output_type": "stream",
     "text": [
      "Creating the cell patches\n",
      "Done\n",
      "Now let's do the prediction!\n"
     ]
    },
    {
     "name": "stderr",
     "output_type": "stream",
     "text": [
      "Using cache found in /home/aa-ssun2-cmp/.cache/torch/hub/pytorch_vision_v0.10.0\n",
      " 29%|██▉       | 176/598 [12:34<32:26,  4.61s/it]Using cache found in /home/aa-ssun2-cmp/.cache/torch/hub/pytorch_vision_v0.10.0\n"
     ]
    },
    {
     "name": "stdout",
     "output_type": "stream",
     "text": [
      "Creating the cell patches\n",
      "Done\n",
      "Now let's do the prediction!\n"
     ]
    },
    {
     "name": "stderr",
     "output_type": "stream",
     "text": [
      " 30%|██▉       | 177/598 [12:39<32:14,  4.60s/it]Using cache found in /home/aa-ssun2-cmp/.cache/torch/hub/pytorch_vision_v0.10.0\n"
     ]
    },
    {
     "name": "stdout",
     "output_type": "stream",
     "text": [
      "Creating the cell patches\n",
      "Done\n",
      "Now let's do the prediction!\n"
     ]
    },
    {
     "name": "stderr",
     "output_type": "stream",
     "text": [
      " 30%|██▉       | 178/598 [12:43<30:40,  4.38s/it]Using cache found in /home/aa-ssun2-cmp/.cache/torch/hub/pytorch_vision_v0.10.0\n"
     ]
    },
    {
     "name": "stdout",
     "output_type": "stream",
     "text": [
      "Creating the cell patches\n",
      "Done\n",
      "Now let's do the prediction!\n"
     ]
    },
    {
     "name": "stderr",
     "output_type": "stream",
     "text": [
      "\r",
      " 30%|██▉       | 179/598 [12:47<30:19,  4.34s/it]"
     ]
    },
    {
     "name": "stdout",
     "output_type": "stream",
     "text": [
      "Creating the cell patches\n",
      "Done\n",
      "Now let's do the prediction!\n"
     ]
    },
    {
     "name": "stderr",
     "output_type": "stream",
     "text": [
      "Using cache found in /home/aa-ssun2-cmp/.cache/torch/hub/pytorch_vision_v0.10.0\n",
      " 30%|███       | 180/598 [12:52<31:49,  4.57s/it]"
     ]
    },
    {
     "name": "stdout",
     "output_type": "stream",
     "text": [
      "Creating the cell patches\n",
      "Done\n",
      "Now let's do the prediction!\n"
     ]
    },
    {
     "name": "stderr",
     "output_type": "stream",
     "text": [
      "Using cache found in /home/aa-ssun2-cmp/.cache/torch/hub/pytorch_vision_v0.10.0\n",
      " 30%|███       | 181/598 [12:57<32:13,  4.64s/it]"
     ]
    },
    {
     "name": "stdout",
     "output_type": "stream",
     "text": [
      "Creating the cell patches\n",
      "Done\n",
      "Now let's do the prediction!\n"
     ]
    },
    {
     "name": "stderr",
     "output_type": "stream",
     "text": [
      "Using cache found in /home/aa-ssun2-cmp/.cache/torch/hub/pytorch_vision_v0.10.0\n",
      " 30%|███       | 182/598 [13:01<32:08,  4.64s/it]"
     ]
    },
    {
     "name": "stdout",
     "output_type": "stream",
     "text": [
      "Creating the cell patches\n",
      "Done\n",
      "Now let's do the prediction!\n"
     ]
    },
    {
     "name": "stderr",
     "output_type": "stream",
     "text": [
      "Using cache found in /home/aa-ssun2-cmp/.cache/torch/hub/pytorch_vision_v0.10.0\n",
      " 31%|███       | 183/598 [13:05<30:35,  4.42s/it]Using cache found in /home/aa-ssun2-cmp/.cache/torch/hub/pytorch_vision_v0.10.0\n"
     ]
    },
    {
     "name": "stdout",
     "output_type": "stream",
     "text": [
      "Creating the cell patches\n",
      "Done\n",
      "Now let's do the prediction!\n"
     ]
    },
    {
     "name": "stderr",
     "output_type": "stream",
     "text": [
      "\r",
      " 31%|███       | 184/598 [13:10<30:37,  4.44s/it]"
     ]
    },
    {
     "name": "stdout",
     "output_type": "stream",
     "text": [
      "Creating the cell patches\n",
      "Done\n",
      "Now let's do the prediction!\n"
     ]
    },
    {
     "name": "stderr",
     "output_type": "stream",
     "text": [
      "Using cache found in /home/aa-ssun2-cmp/.cache/torch/hub/pytorch_vision_v0.10.0\n",
      " 31%|███       | 185/598 [13:14<31:04,  4.51s/it]Using cache found in /home/aa-ssun2-cmp/.cache/torch/hub/pytorch_vision_v0.10.0\n"
     ]
    },
    {
     "name": "stdout",
     "output_type": "stream",
     "text": [
      "Creating the cell patches\n",
      "Done\n",
      "Now let's do the prediction!\n"
     ]
    },
    {
     "name": "stderr",
     "output_type": "stream",
     "text": [
      "\r",
      " 31%|███       | 186/598 [13:19<30:16,  4.41s/it]"
     ]
    },
    {
     "name": "stdout",
     "output_type": "stream",
     "text": [
      "Creating the cell patches\n",
      "Done\n",
      "Now let's do the prediction!\n"
     ]
    },
    {
     "name": "stderr",
     "output_type": "stream",
     "text": [
      "Using cache found in /home/aa-ssun2-cmp/.cache/torch/hub/pytorch_vision_v0.10.0\n",
      " 31%|███▏      | 187/598 [13:22<27:53,  4.07s/it]Using cache found in /home/aa-ssun2-cmp/.cache/torch/hub/pytorch_vision_v0.10.0\n"
     ]
    },
    {
     "name": "stdout",
     "output_type": "stream",
     "text": [
      "Creating the cell patches\n",
      "Done\n",
      "Now let's do the prediction!\n"
     ]
    },
    {
     "name": "stderr",
     "output_type": "stream",
     "text": [
      " 31%|███▏      | 188/598 [13:25<26:30,  3.88s/it]Using cache found in /home/aa-ssun2-cmp/.cache/torch/hub/pytorch_vision_v0.10.0\n"
     ]
    },
    {
     "name": "stdout",
     "output_type": "stream",
     "text": [
      "Creating the cell patches\n",
      "Done\n",
      "Now let's do the prediction!\n"
     ]
    },
    {
     "name": "stderr",
     "output_type": "stream",
     "text": [
      "\r",
      " 32%|███▏      | 189/598 [13:29<25:50,  3.79s/it]"
     ]
    },
    {
     "name": "stdout",
     "output_type": "stream",
     "text": [
      "Creating the cell patches\n",
      "Done\n",
      "Now let's do the prediction!\n"
     ]
    },
    {
     "name": "stderr",
     "output_type": "stream",
     "text": [
      "Using cache found in /home/aa-ssun2-cmp/.cache/torch/hub/pytorch_vision_v0.10.0\n",
      " 32%|███▏      | 190/598 [13:32<24:52,  3.66s/it]"
     ]
    },
    {
     "name": "stdout",
     "output_type": "stream",
     "text": [
      "Creating the cell patches\n",
      "Done\n",
      "Now let's do the prediction!\n"
     ]
    },
    {
     "name": "stderr",
     "output_type": "stream",
     "text": [
      "Using cache found in /home/aa-ssun2-cmp/.cache/torch/hub/pytorch_vision_v0.10.0\n",
      " 32%|███▏      | 191/598 [13:37<26:10,  3.86s/it]Using cache found in /home/aa-ssun2-cmp/.cache/torch/hub/pytorch_vision_v0.10.0\n"
     ]
    },
    {
     "name": "stdout",
     "output_type": "stream",
     "text": [
      "Creating the cell patches\n",
      "Done\n",
      "Now let's do the prediction!\n"
     ]
    },
    {
     "name": "stderr",
     "output_type": "stream",
     "text": [
      " 32%|███▏      | 192/598 [13:40<24:57,  3.69s/it]Using cache found in /home/aa-ssun2-cmp/.cache/torch/hub/pytorch_vision_v0.10.0\n"
     ]
    },
    {
     "name": "stdout",
     "output_type": "stream",
     "text": [
      "Creating the cell patches\n",
      "Done\n",
      "Now let's do the prediction!\n"
     ]
    },
    {
     "name": "stderr",
     "output_type": "stream",
     "text": [
      "\r",
      " 32%|███▏      | 193/598 [13:43<24:24,  3.62s/it]"
     ]
    },
    {
     "name": "stdout",
     "output_type": "stream",
     "text": [
      "Creating the cell patches\n",
      "Done\n",
      "Now let's do the prediction!\n"
     ]
    },
    {
     "name": "stderr",
     "output_type": "stream",
     "text": [
      "Using cache found in /home/aa-ssun2-cmp/.cache/torch/hub/pytorch_vision_v0.10.0\n",
      " 32%|███▏      | 194/598 [13:47<24:07,  3.58s/it]"
     ]
    },
    {
     "name": "stdout",
     "output_type": "stream",
     "text": [
      "Creating the cell patches\n",
      "Done\n",
      "Now let's do the prediction!\n"
     ]
    },
    {
     "name": "stderr",
     "output_type": "stream",
     "text": [
      "Using cache found in /home/aa-ssun2-cmp/.cache/torch/hub/pytorch_vision_v0.10.0\n",
      " 33%|███▎      | 195/598 [13:51<25:29,  3.80s/it]"
     ]
    },
    {
     "name": "stdout",
     "output_type": "stream",
     "text": [
      "Creating the cell patches\n",
      "Done\n",
      "Now let's do the prediction!\n"
     ]
    },
    {
     "name": "stderr",
     "output_type": "stream",
     "text": [
      "Using cache found in /home/aa-ssun2-cmp/.cache/torch/hub/pytorch_vision_v0.10.0\n",
      " 33%|███▎      | 196/598 [13:56<27:02,  4.04s/it]Using cache found in /home/aa-ssun2-cmp/.cache/torch/hub/pytorch_vision_v0.10.0\n"
     ]
    },
    {
     "name": "stdout",
     "output_type": "stream",
     "text": [
      "Creating the cell patches\n",
      "Done\n",
      "Now let's do the prediction!\n"
     ]
    },
    {
     "name": "stderr",
     "output_type": "stream",
     "text": [
      " 33%|███▎      | 197/598 [14:00<26:24,  3.95s/it]Using cache found in /home/aa-ssun2-cmp/.cache/torch/hub/pytorch_vision_v0.10.0\n"
     ]
    },
    {
     "name": "stdout",
     "output_type": "stream",
     "text": [
      "Creating the cell patches\n",
      "Done\n",
      "Now let's do the prediction!\n"
     ]
    },
    {
     "name": "stderr",
     "output_type": "stream",
     "text": [
      " 33%|███▎      | 198/598 [14:03<25:54,  3.89s/it]Using cache found in /home/aa-ssun2-cmp/.cache/torch/hub/pytorch_vision_v0.10.0\n"
     ]
    },
    {
     "name": "stdout",
     "output_type": "stream",
     "text": [
      "Creating the cell patches\n",
      "Done\n",
      "Now let's do the prediction!\n"
     ]
    },
    {
     "name": "stderr",
     "output_type": "stream",
     "text": [
      " 33%|███▎      | 199/598 [14:08<27:29,  4.13s/it]Using cache found in /home/aa-ssun2-cmp/.cache/torch/hub/pytorch_vision_v0.10.0\n"
     ]
    },
    {
     "name": "stdout",
     "output_type": "stream",
     "text": [
      "Creating the cell patches\n",
      "Done\n",
      "Now let's do the prediction!\n"
     ]
    },
    {
     "name": "stderr",
     "output_type": "stream",
     "text": [
      "\r",
      " 33%|███▎      | 200/598 [14:11<25:59,  3.92s/it]"
     ]
    },
    {
     "name": "stdout",
     "output_type": "stream",
     "text": [
      "Creating the cell patches\n",
      "Done\n",
      "Now let's do the prediction!\n"
     ]
    },
    {
     "name": "stderr",
     "output_type": "stream",
     "text": [
      "Using cache found in /home/aa-ssun2-cmp/.cache/torch/hub/pytorch_vision_v0.10.0\n",
      " 34%|███▎      | 201/598 [14:17<28:31,  4.31s/it]"
     ]
    },
    {
     "name": "stdout",
     "output_type": "stream",
     "text": [
      "Creating the cell patches\n",
      "Done\n",
      "Now let's do the prediction!\n"
     ]
    },
    {
     "name": "stderr",
     "output_type": "stream",
     "text": [
      "Using cache found in /home/aa-ssun2-cmp/.cache/torch/hub/pytorch_vision_v0.10.0\n",
      " 34%|███▍      | 202/598 [14:20<27:23,  4.15s/it]"
     ]
    },
    {
     "name": "stdout",
     "output_type": "stream",
     "text": [
      "Creating the cell patches\n",
      "Done\n",
      "Now let's do the prediction!\n"
     ]
    },
    {
     "name": "stderr",
     "output_type": "stream",
     "text": [
      "Using cache found in /home/aa-ssun2-cmp/.cache/torch/hub/pytorch_vision_v0.10.0\n",
      " 34%|███▍      | 203/598 [14:25<29:06,  4.42s/it]Using cache found in /home/aa-ssun2-cmp/.cache/torch/hub/pytorch_vision_v0.10.0\n"
     ]
    },
    {
     "name": "stdout",
     "output_type": "stream",
     "text": [
      "Creating the cell patches\n",
      "Done\n",
      "Now let's do the prediction!\n"
     ]
    },
    {
     "name": "stderr",
     "output_type": "stream",
     "text": [
      "\r",
      " 34%|███▍      | 204/598 [14:29<27:44,  4.23s/it]"
     ]
    },
    {
     "name": "stdout",
     "output_type": "stream",
     "text": [
      "Creating the cell patches\n",
      "Done\n",
      "Now let's do the prediction!\n"
     ]
    },
    {
     "name": "stderr",
     "output_type": "stream",
     "text": [
      "Using cache found in /home/aa-ssun2-cmp/.cache/torch/hub/pytorch_vision_v0.10.0\n",
      " 34%|███▍      | 205/598 [14:34<29:15,  4.47s/it]Using cache found in /home/aa-ssun2-cmp/.cache/torch/hub/pytorch_vision_v0.10.0\n"
     ]
    },
    {
     "name": "stdout",
     "output_type": "stream",
     "text": [
      "Creating the cell patches\n",
      "Done\n",
      "Now let's do the prediction!\n"
     ]
    },
    {
     "name": "stderr",
     "output_type": "stream",
     "text": [
      " 34%|███▍      | 206/598 [14:39<29:32,  4.52s/it]Using cache found in /home/aa-ssun2-cmp/.cache/torch/hub/pytorch_vision_v0.10.0\n"
     ]
    },
    {
     "name": "stdout",
     "output_type": "stream",
     "text": [
      "Creating the cell patches\n",
      "Done\n",
      "Now let's do the prediction!\n"
     ]
    },
    {
     "name": "stderr",
     "output_type": "stream",
     "text": [
      " 35%|███▍      | 207/598 [14:42<27:26,  4.21s/it]Using cache found in /home/aa-ssun2-cmp/.cache/torch/hub/pytorch_vision_v0.10.0\n"
     ]
    },
    {
     "name": "stdout",
     "output_type": "stream",
     "text": [
      "Creating the cell patches\n",
      "Done\n",
      "Now let's do the prediction!\n"
     ]
    },
    {
     "name": "stderr",
     "output_type": "stream",
     "text": [
      " 35%|███▍      | 208/598 [14:47<27:49,  4.28s/it]Using cache found in /home/aa-ssun2-cmp/.cache/torch/hub/pytorch_vision_v0.10.0\n"
     ]
    },
    {
     "name": "stdout",
     "output_type": "stream",
     "text": [
      "Creating the cell patches\n",
      "Done\n",
      "Now let's do the prediction!\n"
     ]
    },
    {
     "name": "stderr",
     "output_type": "stream",
     "text": [
      "\r",
      " 35%|███▍      | 209/598 [14:50<25:59,  4.01s/it]"
     ]
    },
    {
     "name": "stdout",
     "output_type": "stream",
     "text": [
      "Creating the cell patches\n",
      "Done\n",
      "Now let's do the prediction!\n"
     ]
    },
    {
     "name": "stderr",
     "output_type": "stream",
     "text": [
      "Using cache found in /home/aa-ssun2-cmp/.cache/torch/hub/pytorch_vision_v0.10.0\n",
      " 35%|███▌      | 210/598 [14:56<29:00,  4.48s/it]"
     ]
    },
    {
     "name": "stdout",
     "output_type": "stream",
     "text": [
      "Creating the cell patches\n",
      "Done\n",
      "Now let's do the prediction!\n"
     ]
    },
    {
     "name": "stderr",
     "output_type": "stream",
     "text": [
      "Using cache found in /home/aa-ssun2-cmp/.cache/torch/hub/pytorch_vision_v0.10.0\n",
      " 35%|███▌      | 211/598 [15:00<28:53,  4.48s/it]Using cache found in /home/aa-ssun2-cmp/.cache/torch/hub/pytorch_vision_v0.10.0\n"
     ]
    },
    {
     "name": "stdout",
     "output_type": "stream",
     "text": [
      "Creating the cell patches\n",
      "Done\n",
      "Now let's do the prediction!\n"
     ]
    },
    {
     "name": "stderr",
     "output_type": "stream",
     "text": [
      " 35%|███▌      | 212/598 [15:05<30:03,  4.67s/it]Using cache found in /home/aa-ssun2-cmp/.cache/torch/hub/pytorch_vision_v0.10.0\n"
     ]
    },
    {
     "name": "stdout",
     "output_type": "stream",
     "text": [
      "Creating the cell patches\n",
      "Done\n",
      "Now let's do the prediction!\n"
     ]
    },
    {
     "name": "stderr",
     "output_type": "stream",
     "text": [
      "\r",
      " 36%|███▌      | 213/598 [15:09<28:04,  4.38s/it]"
     ]
    },
    {
     "name": "stdout",
     "output_type": "stream",
     "text": [
      "Creating the cell patches\n",
      "Done\n",
      "Now let's do the prediction!\n"
     ]
    },
    {
     "name": "stderr",
     "output_type": "stream",
     "text": [
      "Using cache found in /home/aa-ssun2-cmp/.cache/torch/hub/pytorch_vision_v0.10.0\n",
      " 36%|███▌      | 214/598 [15:12<26:12,  4.09s/it]Using cache found in /home/aa-ssun2-cmp/.cache/torch/hub/pytorch_vision_v0.10.0\n"
     ]
    },
    {
     "name": "stdout",
     "output_type": "stream",
     "text": [
      "Creating the cell patches\n",
      "Done\n",
      "Now let's do the prediction!\n"
     ]
    },
    {
     "name": "stderr",
     "output_type": "stream",
     "text": [
      " 36%|███▌      | 215/598 [15:16<25:32,  4.00s/it]Using cache found in /home/aa-ssun2-cmp/.cache/torch/hub/pytorch_vision_v0.10.0\n"
     ]
    },
    {
     "name": "stdout",
     "output_type": "stream",
     "text": [
      "Creating the cell patches\n",
      "Done\n",
      "Now let's do the prediction!\n"
     ]
    },
    {
     "name": "stderr",
     "output_type": "stream",
     "text": [
      " 36%|███▌      | 216/598 [15:20<25:50,  4.06s/it]Using cache found in /home/aa-ssun2-cmp/.cache/torch/hub/pytorch_vision_v0.10.0\n"
     ]
    },
    {
     "name": "stdout",
     "output_type": "stream",
     "text": [
      "Creating the cell patches\n",
      "Done\n",
      "Now let's do the prediction!\n"
     ]
    },
    {
     "name": "stderr",
     "output_type": "stream",
     "text": [
      " 36%|███▋      | 217/598 [15:25<26:53,  4.23s/it]Using cache found in /home/aa-ssun2-cmp/.cache/torch/hub/pytorch_vision_v0.10.0\n"
     ]
    },
    {
     "name": "stdout",
     "output_type": "stream",
     "text": [
      "Creating the cell patches\n",
      "Done\n",
      "Now let's do the prediction!\n"
     ]
    },
    {
     "name": "stderr",
     "output_type": "stream",
     "text": [
      " 36%|███▋      | 218/598 [15:29<25:13,  3.98s/it]Using cache found in /home/aa-ssun2-cmp/.cache/torch/hub/pytorch_vision_v0.10.0\n"
     ]
    },
    {
     "name": "stdout",
     "output_type": "stream",
     "text": [
      "Creating the cell patches\n",
      "Done\n",
      "Now let's do the prediction!\n"
     ]
    },
    {
     "name": "stderr",
     "output_type": "stream",
     "text": [
      " 37%|███▋      | 219/598 [15:32<24:11,  3.83s/it]Using cache found in /home/aa-ssun2-cmp/.cache/torch/hub/pytorch_vision_v0.10.0\n"
     ]
    },
    {
     "name": "stdout",
     "output_type": "stream",
     "text": [
      "Creating the cell patches\n",
      "Done\n",
      "Now let's do the prediction!\n"
     ]
    },
    {
     "name": "stderr",
     "output_type": "stream",
     "text": [
      " 37%|███▋      | 220/598 [15:37<26:26,  4.20s/it]Using cache found in /home/aa-ssun2-cmp/.cache/torch/hub/pytorch_vision_v0.10.0\n"
     ]
    },
    {
     "name": "stdout",
     "output_type": "stream",
     "text": [
      "Creating the cell patches\n",
      "Done\n",
      "Now let's do the prediction!\n"
     ]
    },
    {
     "name": "stderr",
     "output_type": "stream",
     "text": [
      "\r",
      " 37%|███▋      | 221/598 [15:41<26:00,  4.14s/it]"
     ]
    },
    {
     "name": "stdout",
     "output_type": "stream",
     "text": [
      "Creating the cell patches\n",
      "Done\n",
      "Now let's do the prediction!\n"
     ]
    },
    {
     "name": "stderr",
     "output_type": "stream",
     "text": [
      "Using cache found in /home/aa-ssun2-cmp/.cache/torch/hub/pytorch_vision_v0.10.0\n",
      " 37%|███▋      | 222/598 [15:45<25:27,  4.06s/it]"
     ]
    },
    {
     "name": "stdout",
     "output_type": "stream",
     "text": [
      "Creating the cell patches\n",
      "Done\n",
      "Now let's do the prediction!\n"
     ]
    },
    {
     "name": "stderr",
     "output_type": "stream",
     "text": [
      "Using cache found in /home/aa-ssun2-cmp/.cache/torch/hub/pytorch_vision_v0.10.0\n",
      " 37%|███▋      | 223/598 [15:50<27:18,  4.37s/it]Using cache found in /home/aa-ssun2-cmp/.cache/torch/hub/pytorch_vision_v0.10.0\n"
     ]
    },
    {
     "name": "stdout",
     "output_type": "stream",
     "text": [
      "Creating the cell patches\n",
      "Done\n",
      "Now let's do the prediction!\n"
     ]
    },
    {
     "name": "stderr",
     "output_type": "stream",
     "text": [
      "\r",
      " 37%|███▋      | 224/598 [15:54<26:57,  4.32s/it]"
     ]
    },
    {
     "name": "stdout",
     "output_type": "stream",
     "text": [
      "Creating the cell patches\n",
      "Done\n",
      "Now let's do the prediction!\n"
     ]
    },
    {
     "name": "stderr",
     "output_type": "stream",
     "text": [
      "Using cache found in /home/aa-ssun2-cmp/.cache/torch/hub/pytorch_vision_v0.10.0\n",
      " 38%|███▊      | 225/598 [15:58<26:26,  4.25s/it]Using cache found in /home/aa-ssun2-cmp/.cache/torch/hub/pytorch_vision_v0.10.0\n"
     ]
    },
    {
     "name": "stdout",
     "output_type": "stream",
     "text": [
      "Creating the cell patches\n",
      "Done\n",
      "Now let's do the prediction!\n"
     ]
    },
    {
     "name": "stderr",
     "output_type": "stream",
     "text": [
      "\r",
      " 38%|███▊      | 226/598 [16:02<24:59,  4.03s/it]"
     ]
    },
    {
     "name": "stdout",
     "output_type": "stream",
     "text": [
      "Creating the cell patches\n",
      "Done\n",
      "Now let's do the prediction!\n"
     ]
    },
    {
     "name": "stderr",
     "output_type": "stream",
     "text": [
      "Using cache found in /home/aa-ssun2-cmp/.cache/torch/hub/pytorch_vision_v0.10.0\n",
      " 38%|███▊      | 227/598 [16:05<23:29,  3.80s/it]Using cache found in /home/aa-ssun2-cmp/.cache/torch/hub/pytorch_vision_v0.10.0\n"
     ]
    },
    {
     "name": "stdout",
     "output_type": "stream",
     "text": [
      "Creating the cell patches\n",
      "Done\n",
      "Now let's do the prediction!\n"
     ]
    },
    {
     "name": "stderr",
     "output_type": "stream",
     "text": [
      "\r",
      " 38%|███▊      | 228/598 [16:10<25:01,  4.06s/it]"
     ]
    },
    {
     "name": "stdout",
     "output_type": "stream",
     "text": [
      "Creating the cell patches\n",
      "Done\n",
      "Now let's do the prediction!\n"
     ]
    },
    {
     "name": "stderr",
     "output_type": "stream",
     "text": [
      "Using cache found in /home/aa-ssun2-cmp/.cache/torch/hub/pytorch_vision_v0.10.0\n",
      " 38%|███▊      | 229/598 [16:14<25:02,  4.07s/it]Using cache found in /home/aa-ssun2-cmp/.cache/torch/hub/pytorch_vision_v0.10.0\n"
     ]
    },
    {
     "name": "stdout",
     "output_type": "stream",
     "text": [
      "Creating the cell patches\n",
      "Done\n",
      "Now let's do the prediction!\n"
     ]
    },
    {
     "name": "stderr",
     "output_type": "stream",
     "text": [
      " 38%|███▊      | 230/598 [16:17<23:42,  3.87s/it]Using cache found in /home/aa-ssun2-cmp/.cache/torch/hub/pytorch_vision_v0.10.0\n"
     ]
    },
    {
     "name": "stdout",
     "output_type": "stream",
     "text": [
      "Creating the cell patches\n",
      "Done\n",
      "Now let's do the prediction!\n"
     ]
    },
    {
     "name": "stderr",
     "output_type": "stream",
     "text": [
      " 39%|███▊      | 231/598 [16:22<25:05,  4.10s/it]Using cache found in /home/aa-ssun2-cmp/.cache/torch/hub/pytorch_vision_v0.10.0\n"
     ]
    },
    {
     "name": "stdout",
     "output_type": "stream",
     "text": [
      "Creating the cell patches\n",
      "Done\n",
      "Now let's do the prediction!\n"
     ]
    },
    {
     "name": "stderr",
     "output_type": "stream",
     "text": [
      "\r",
      " 39%|███▉      | 232/598 [16:25<23:49,  3.91s/it]"
     ]
    },
    {
     "name": "stdout",
     "output_type": "stream",
     "text": [
      "Creating the cell patches\n",
      "Done\n",
      "Now let's do the prediction!\n"
     ]
    },
    {
     "name": "stderr",
     "output_type": "stream",
     "text": [
      "Using cache found in /home/aa-ssun2-cmp/.cache/torch/hub/pytorch_vision_v0.10.0\n",
      " 39%|███▉      | 233/598 [16:29<23:24,  3.85s/it]"
     ]
    },
    {
     "name": "stdout",
     "output_type": "stream",
     "text": [
      "Creating the cell patches\n",
      "Done\n",
      "Now let's do the prediction!\n"
     ]
    },
    {
     "name": "stderr",
     "output_type": "stream",
     "text": [
      "Using cache found in /home/aa-ssun2-cmp/.cache/torch/hub/pytorch_vision_v0.10.0\n",
      " 39%|███▉      | 234/598 [16:33<23:28,  3.87s/it]Using cache found in /home/aa-ssun2-cmp/.cache/torch/hub/pytorch_vision_v0.10.0\n"
     ]
    },
    {
     "name": "stdout",
     "output_type": "stream",
     "text": [
      "Creating the cell patches\n",
      "Done\n",
      "Now let's do the prediction!\n"
     ]
    },
    {
     "name": "stderr",
     "output_type": "stream",
     "text": [
      " 39%|███▉      | 235/598 [16:37<23:27,  3.88s/it]Using cache found in /home/aa-ssun2-cmp/.cache/torch/hub/pytorch_vision_v0.10.0\n"
     ]
    },
    {
     "name": "stdout",
     "output_type": "stream",
     "text": [
      "Creating the cell patches\n",
      "Done\n",
      "Now let's do the prediction!\n"
     ]
    },
    {
     "name": "stderr",
     "output_type": "stream",
     "text": [
      "\r",
      " 39%|███▉      | 236/598 [16:41<24:06,  4.00s/it]"
     ]
    },
    {
     "name": "stdout",
     "output_type": "stream",
     "text": [
      "Creating the cell patches\n",
      "Done\n",
      "Now let's do the prediction!\n"
     ]
    },
    {
     "name": "stderr",
     "output_type": "stream",
     "text": [
      "Using cache found in /home/aa-ssun2-cmp/.cache/torch/hub/pytorch_vision_v0.10.0\n",
      " 40%|███▉      | 237/598 [16:46<25:23,  4.22s/it]"
     ]
    },
    {
     "name": "stdout",
     "output_type": "stream",
     "text": [
      "Creating the cell patches\n",
      "Done\n",
      "Now let's do the prediction!\n"
     ]
    },
    {
     "name": "stderr",
     "output_type": "stream",
     "text": [
      "Using cache found in /home/aa-ssun2-cmp/.cache/torch/hub/pytorch_vision_v0.10.0\n",
      " 40%|███▉      | 238/598 [16:51<26:24,  4.40s/it]"
     ]
    },
    {
     "name": "stdout",
     "output_type": "stream",
     "text": [
      "Creating the cell patches\n",
      "Done\n",
      "Now let's do the prediction!\n"
     ]
    },
    {
     "name": "stderr",
     "output_type": "stream",
     "text": [
      "Using cache found in /home/aa-ssun2-cmp/.cache/torch/hub/pytorch_vision_v0.10.0\n",
      " 40%|███▉      | 239/598 [16:55<26:52,  4.49s/it]Using cache found in /home/aa-ssun2-cmp/.cache/torch/hub/pytorch_vision_v0.10.0\n"
     ]
    },
    {
     "name": "stdout",
     "output_type": "stream",
     "text": [
      "Creating the cell patches\n",
      "Done\n",
      "Now let's do the prediction!\n"
     ]
    },
    {
     "name": "stderr",
     "output_type": "stream",
     "text": [
      " 40%|████      | 240/598 [17:00<26:14,  4.40s/it]Using cache found in /home/aa-ssun2-cmp/.cache/torch/hub/pytorch_vision_v0.10.0\n"
     ]
    },
    {
     "name": "stdout",
     "output_type": "stream",
     "text": [
      "Creating the cell patches\n",
      "Done\n",
      "Now let's do the prediction!\n"
     ]
    },
    {
     "name": "stderr",
     "output_type": "stream",
     "text": [
      " 40%|████      | 241/598 [17:05<27:37,  4.64s/it]Using cache found in /home/aa-ssun2-cmp/.cache/torch/hub/pytorch_vision_v0.10.0\n"
     ]
    },
    {
     "name": "stdout",
     "output_type": "stream",
     "text": [
      "Creating the cell patches\n",
      "Done\n",
      "Now let's do the prediction!\n"
     ]
    },
    {
     "name": "stderr",
     "output_type": "stream",
     "text": [
      "\r",
      " 40%|████      | 242/598 [17:09<27:38,  4.66s/it]"
     ]
    },
    {
     "name": "stdout",
     "output_type": "stream",
     "text": [
      "Creating the cell patches\n",
      "Done\n",
      "Now let's do the prediction!\n"
     ]
    },
    {
     "name": "stderr",
     "output_type": "stream",
     "text": [
      "Using cache found in /home/aa-ssun2-cmp/.cache/torch/hub/pytorch_vision_v0.10.0\n",
      " 41%|████      | 243/598 [17:13<25:26,  4.30s/it]"
     ]
    },
    {
     "name": "stdout",
     "output_type": "stream",
     "text": [
      "Creating the cell patches\n",
      "Done\n",
      "Now let's do the prediction!\n"
     ]
    },
    {
     "name": "stderr",
     "output_type": "stream",
     "text": [
      "Using cache found in /home/aa-ssun2-cmp/.cache/torch/hub/pytorch_vision_v0.10.0\n",
      " 41%|████      | 244/598 [17:18<26:04,  4.42s/it]"
     ]
    },
    {
     "name": "stdout",
     "output_type": "stream",
     "text": [
      "Creating the cell patches\n",
      "Done\n",
      "Now let's do the prediction!\n"
     ]
    },
    {
     "name": "stderr",
     "output_type": "stream",
     "text": [
      "Using cache found in /home/aa-ssun2-cmp/.cache/torch/hub/pytorch_vision_v0.10.0\n",
      " 41%|████      | 245/598 [17:23<26:52,  4.57s/it]Using cache found in /home/aa-ssun2-cmp/.cache/torch/hub/pytorch_vision_v0.10.0\n"
     ]
    },
    {
     "name": "stdout",
     "output_type": "stream",
     "text": [
      "Creating the cell patches\n",
      "Done\n",
      "Now let's do the prediction!\n"
     ]
    },
    {
     "name": "stderr",
     "output_type": "stream",
     "text": [
      " 41%|████      | 246/598 [17:28<27:30,  4.69s/it]Using cache found in /home/aa-ssun2-cmp/.cache/torch/hub/pytorch_vision_v0.10.0\n"
     ]
    },
    {
     "name": "stdout",
     "output_type": "stream",
     "text": [
      "Creating the cell patches\n",
      "Done\n",
      "Now let's do the prediction!\n"
     ]
    },
    {
     "name": "stderr",
     "output_type": "stream",
     "text": [
      " 41%|████▏     | 247/598 [17:32<27:41,  4.73s/it]Using cache found in /home/aa-ssun2-cmp/.cache/torch/hub/pytorch_vision_v0.10.0\n"
     ]
    },
    {
     "name": "stdout",
     "output_type": "stream",
     "text": [
      "Creating the cell patches\n",
      "Done\n",
      "Now let's do the prediction!\n"
     ]
    },
    {
     "name": "stderr",
     "output_type": "stream",
     "text": [
      " 41%|████▏     | 248/598 [17:37<28:14,  4.84s/it]Using cache found in /home/aa-ssun2-cmp/.cache/torch/hub/pytorch_vision_v0.10.0\n"
     ]
    },
    {
     "name": "stdout",
     "output_type": "stream",
     "text": [
      "Creating the cell patches\n",
      "Done\n",
      "Now let's do the prediction!\n"
     ]
    },
    {
     "name": "stderr",
     "output_type": "stream",
     "text": [
      " 42%|████▏     | 249/598 [17:41<26:21,  4.53s/it]Using cache found in /home/aa-ssun2-cmp/.cache/torch/hub/pytorch_vision_v0.10.0\n"
     ]
    },
    {
     "name": "stdout",
     "output_type": "stream",
     "text": [
      "Creating the cell patches\n",
      "Done\n",
      "Now let's do the prediction!\n"
     ]
    },
    {
     "name": "stderr",
     "output_type": "stream",
     "text": [
      " 42%|████▏     | 250/598 [17:45<24:40,  4.25s/it]Using cache found in /home/aa-ssun2-cmp/.cache/torch/hub/pytorch_vision_v0.10.0\n"
     ]
    },
    {
     "name": "stdout",
     "output_type": "stream",
     "text": [
      "Creating the cell patches\n",
      "Done\n",
      "Now let's do the prediction!\n"
     ]
    },
    {
     "name": "stderr",
     "output_type": "stream",
     "text": [
      "\r",
      " 42%|████▏     | 251/598 [17:49<23:45,  4.11s/it]"
     ]
    },
    {
     "name": "stdout",
     "output_type": "stream",
     "text": [
      "Creating the cell patches\n",
      "Done\n",
      "Now let's do the prediction!\n"
     ]
    },
    {
     "name": "stderr",
     "output_type": "stream",
     "text": [
      "Using cache found in /home/aa-ssun2-cmp/.cache/torch/hub/pytorch_vision_v0.10.0\n",
      " 42%|████▏     | 252/598 [17:52<22:34,  3.91s/it]"
     ]
    },
    {
     "name": "stdout",
     "output_type": "stream",
     "text": [
      "Creating the cell patches\n",
      "Done\n",
      "Now let's do the prediction!\n"
     ]
    },
    {
     "name": "stderr",
     "output_type": "stream",
     "text": [
      "Using cache found in /home/aa-ssun2-cmp/.cache/torch/hub/pytorch_vision_v0.10.0\n",
      " 42%|████▏     | 253/598 [17:57<24:02,  4.18s/it]"
     ]
    },
    {
     "name": "stdout",
     "output_type": "stream",
     "text": [
      "Creating the cell patches\n",
      "Done\n",
      "Now let's do the prediction!\n"
     ]
    },
    {
     "name": "stderr",
     "output_type": "stream",
     "text": [
      "Using cache found in /home/aa-ssun2-cmp/.cache/torch/hub/pytorch_vision_v0.10.0\n",
      " 42%|████▏     | 254/598 [18:02<25:27,  4.44s/it]Using cache found in /home/aa-ssun2-cmp/.cache/torch/hub/pytorch_vision_v0.10.0\n"
     ]
    },
    {
     "name": "stdout",
     "output_type": "stream",
     "text": [
      "Creating the cell patches\n",
      "Done\n",
      "Now let's do the prediction!\n"
     ]
    },
    {
     "name": "stderr",
     "output_type": "stream",
     "text": [
      " 43%|████▎     | 255/598 [18:07<26:10,  4.58s/it]Using cache found in /home/aa-ssun2-cmp/.cache/torch/hub/pytorch_vision_v0.10.0\n"
     ]
    },
    {
     "name": "stdout",
     "output_type": "stream",
     "text": [
      "Creating the cell patches\n",
      "Done\n",
      "Now let's do the prediction!\n"
     ]
    },
    {
     "name": "stderr",
     "output_type": "stream",
     "text": [
      "\r",
      " 43%|████▎     | 256/598 [18:11<25:45,  4.52s/it]"
     ]
    },
    {
     "name": "stdout",
     "output_type": "stream",
     "text": [
      "Creating the cell patches\n",
      "Done\n",
      "Now let's do the prediction!\n"
     ]
    },
    {
     "name": "stderr",
     "output_type": "stream",
     "text": [
      "Using cache found in /home/aa-ssun2-cmp/.cache/torch/hub/pytorch_vision_v0.10.0\n",
      " 43%|████▎     | 257/598 [18:15<24:07,  4.24s/it]"
     ]
    },
    {
     "name": "stdout",
     "output_type": "stream",
     "text": [
      "Creating the cell patches\n",
      "Done\n",
      "Now let's do the prediction!\n"
     ]
    },
    {
     "name": "stderr",
     "output_type": "stream",
     "text": [
      "Using cache found in /home/aa-ssun2-cmp/.cache/torch/hub/pytorch_vision_v0.10.0\n",
      " 43%|████▎     | 258/598 [18:19<23:42,  4.18s/it]"
     ]
    },
    {
     "name": "stdout",
     "output_type": "stream",
     "text": [
      "Creating the cell patches\n",
      "Done\n",
      "Now let's do the prediction!\n"
     ]
    },
    {
     "name": "stderr",
     "output_type": "stream",
     "text": [
      "Using cache found in /home/aa-ssun2-cmp/.cache/torch/hub/pytorch_vision_v0.10.0\n",
      " 43%|████▎     | 259/598 [18:24<25:57,  4.60s/it]Using cache found in /home/aa-ssun2-cmp/.cache/torch/hub/pytorch_vision_v0.10.0\n"
     ]
    },
    {
     "name": "stdout",
     "output_type": "stream",
     "text": [
      "Creating the cell patches\n",
      "Done\n",
      "Now let's do the prediction!\n"
     ]
    },
    {
     "name": "stderr",
     "output_type": "stream",
     "text": [
      " 43%|████▎     | 260/598 [18:28<24:11,  4.29s/it]Using cache found in /home/aa-ssun2-cmp/.cache/torch/hub/pytorch_vision_v0.10.0\n"
     ]
    },
    {
     "name": "stdout",
     "output_type": "stream",
     "text": [
      "Creating the cell patches\n",
      "Done\n",
      "Now let's do the prediction!\n"
     ]
    },
    {
     "name": "stderr",
     "output_type": "stream",
     "text": [
      " 44%|████▎     | 261/598 [18:32<23:10,  4.13s/it]Using cache found in /home/aa-ssun2-cmp/.cache/torch/hub/pytorch_vision_v0.10.0\n"
     ]
    },
    {
     "name": "stdout",
     "output_type": "stream",
     "text": [
      "Creating the cell patches\n",
      "Done\n",
      "Now let's do the prediction!\n"
     ]
    },
    {
     "name": "stderr",
     "output_type": "stream",
     "text": [
      "\r",
      " 44%|████▍     | 262/598 [18:36<23:41,  4.23s/it]"
     ]
    },
    {
     "name": "stdout",
     "output_type": "stream",
     "text": [
      "Creating the cell patches\n",
      "Done\n",
      "Now let's do the prediction!\n"
     ]
    },
    {
     "name": "stderr",
     "output_type": "stream",
     "text": [
      "Using cache found in /home/aa-ssun2-cmp/.cache/torch/hub/pytorch_vision_v0.10.0\n",
      " 44%|████▍     | 263/598 [18:41<23:44,  4.25s/it]Using cache found in /home/aa-ssun2-cmp/.cache/torch/hub/pytorch_vision_v0.10.0\n"
     ]
    },
    {
     "name": "stdout",
     "output_type": "stream",
     "text": [
      "Creating the cell patches\n",
      "Done\n",
      "Now let's do the prediction!\n"
     ]
    },
    {
     "name": "stderr",
     "output_type": "stream",
     "text": [
      "\r",
      " 44%|████▍     | 264/598 [18:44<22:17,  4.00s/it]"
     ]
    },
    {
     "name": "stdout",
     "output_type": "stream",
     "text": [
      "Creating the cell patches\n",
      "Done\n",
      "Now let's do the prediction!\n"
     ]
    },
    {
     "name": "stderr",
     "output_type": "stream",
     "text": [
      "Using cache found in /home/aa-ssun2-cmp/.cache/torch/hub/pytorch_vision_v0.10.0\n",
      " 44%|████▍     | 265/598 [18:48<22:46,  4.10s/it]"
     ]
    },
    {
     "name": "stdout",
     "output_type": "stream",
     "text": [
      "Creating the cell patches\n",
      "Done\n",
      "Now let's do the prediction!\n"
     ]
    },
    {
     "name": "stderr",
     "output_type": "stream",
     "text": [
      "Using cache found in /home/aa-ssun2-cmp/.cache/torch/hub/pytorch_vision_v0.10.0\n",
      " 44%|████▍     | 266/598 [18:52<22:09,  4.00s/it]Using cache found in /home/aa-ssun2-cmp/.cache/torch/hub/pytorch_vision_v0.10.0\n"
     ]
    },
    {
     "name": "stdout",
     "output_type": "stream",
     "text": [
      "Creating the cell patches\n",
      "Done\n",
      "Now let's do the prediction!\n"
     ]
    },
    {
     "name": "stderr",
     "output_type": "stream",
     "text": [
      "\r",
      " 45%|████▍     | 267/598 [18:57<24:03,  4.36s/it]"
     ]
    },
    {
     "name": "stdout",
     "output_type": "stream",
     "text": [
      "Creating the cell patches\n",
      "Done\n",
      "Now let's do the prediction!\n"
     ]
    },
    {
     "name": "stderr",
     "output_type": "stream",
     "text": [
      "Using cache found in /home/aa-ssun2-cmp/.cache/torch/hub/pytorch_vision_v0.10.0\n",
      " 45%|████▍     | 268/598 [19:01<22:25,  4.08s/it]Using cache found in /home/aa-ssun2-cmp/.cache/torch/hub/pytorch_vision_v0.10.0\n"
     ]
    },
    {
     "name": "stdout",
     "output_type": "stream",
     "text": [
      "Creating the cell patches\n",
      "Done\n",
      "Now let's do the prediction!\n"
     ]
    },
    {
     "name": "stderr",
     "output_type": "stream",
     "text": [
      " 45%|████▍     | 269/598 [19:06<23:42,  4.32s/it]Using cache found in /home/aa-ssun2-cmp/.cache/torch/hub/pytorch_vision_v0.10.0\n"
     ]
    },
    {
     "name": "stdout",
     "output_type": "stream",
     "text": [
      "Creating the cell patches\n",
      "Done\n",
      "Now let's do the prediction!\n"
     ]
    },
    {
     "name": "stderr",
     "output_type": "stream",
     "text": [
      "\r",
      " 45%|████▌     | 270/598 [19:10<23:50,  4.36s/it]"
     ]
    },
    {
     "name": "stdout",
     "output_type": "stream",
     "text": [
      "Creating the cell patches\n",
      "Done\n",
      "Now let's do the prediction!\n"
     ]
    },
    {
     "name": "stderr",
     "output_type": "stream",
     "text": [
      "Using cache found in /home/aa-ssun2-cmp/.cache/torch/hub/pytorch_vision_v0.10.0\n",
      " 45%|████▌     | 271/598 [19:13<22:03,  4.05s/it]"
     ]
    },
    {
     "name": "stdout",
     "output_type": "stream",
     "text": [
      "Creating the cell patches\n",
      "Done\n",
      "Now let's do the prediction!\n"
     ]
    },
    {
     "name": "stderr",
     "output_type": "stream",
     "text": [
      "Using cache found in /home/aa-ssun2-cmp/.cache/torch/hub/pytorch_vision_v0.10.0\n",
      " 45%|████▌     | 272/598 [19:18<22:29,  4.14s/it]"
     ]
    },
    {
     "name": "stdout",
     "output_type": "stream",
     "text": [
      "Creating the cell patches\n",
      "Done\n",
      "Now let's do the prediction!\n"
     ]
    },
    {
     "name": "stderr",
     "output_type": "stream",
     "text": [
      "Using cache found in /home/aa-ssun2-cmp/.cache/torch/hub/pytorch_vision_v0.10.0\n",
      " 46%|████▌     | 273/598 [19:22<23:12,  4.28s/it]Using cache found in /home/aa-ssun2-cmp/.cache/torch/hub/pytorch_vision_v0.10.0\n"
     ]
    },
    {
     "name": "stdout",
     "output_type": "stream",
     "text": [
      "Creating the cell patches\n",
      "Done\n",
      "Now let's do the prediction!\n"
     ]
    },
    {
     "name": "stderr",
     "output_type": "stream",
     "text": [
      " 46%|████▌     | 274/598 [19:27<24:10,  4.48s/it]Using cache found in /home/aa-ssun2-cmp/.cache/torch/hub/pytorch_vision_v0.10.0\n"
     ]
    },
    {
     "name": "stdout",
     "output_type": "stream",
     "text": [
      "Creating the cell patches\n",
      "Done\n",
      "Now let's do the prediction!\n"
     ]
    },
    {
     "name": "stderr",
     "output_type": "stream",
     "text": [
      " 46%|████▌     | 275/598 [19:31<23:41,  4.40s/it]Using cache found in /home/aa-ssun2-cmp/.cache/torch/hub/pytorch_vision_v0.10.0\n"
     ]
    },
    {
     "name": "stdout",
     "output_type": "stream",
     "text": [
      "Creating the cell patches\n",
      "Done\n",
      "Now let's do the prediction!\n"
     ]
    },
    {
     "name": "stderr",
     "output_type": "stream",
     "text": [
      "\r",
      " 46%|████▌     | 276/598 [19:36<23:48,  4.43s/it]"
     ]
    },
    {
     "name": "stdout",
     "output_type": "stream",
     "text": [
      "Creating the cell patches\n",
      "Done\n",
      "Now let's do the prediction!\n"
     ]
    },
    {
     "name": "stderr",
     "output_type": "stream",
     "text": [
      "Using cache found in /home/aa-ssun2-cmp/.cache/torch/hub/pytorch_vision_v0.10.0\n",
      " 46%|████▋     | 277/598 [19:41<24:34,  4.60s/it]Using cache found in /home/aa-ssun2-cmp/.cache/torch/hub/pytorch_vision_v0.10.0\n"
     ]
    },
    {
     "name": "stdout",
     "output_type": "stream",
     "text": [
      "Creating the cell patches\n",
      "Done\n",
      "Now let's do the prediction!\n"
     ]
    },
    {
     "name": "stderr",
     "output_type": "stream",
     "text": [
      " 46%|████▋     | 278/598 [19:46<25:27,  4.77s/it]Using cache found in /home/aa-ssun2-cmp/.cache/torch/hub/pytorch_vision_v0.10.0\n"
     ]
    },
    {
     "name": "stdout",
     "output_type": "stream",
     "text": [
      "Creating the cell patches\n",
      "Done\n",
      "Now let's do the prediction!\n"
     ]
    },
    {
     "name": "stderr",
     "output_type": "stream",
     "text": [
      " 47%|████▋     | 279/598 [19:50<23:48,  4.48s/it]Using cache found in /home/aa-ssun2-cmp/.cache/torch/hub/pytorch_vision_v0.10.0\n"
     ]
    },
    {
     "name": "stdout",
     "output_type": "stream",
     "text": [
      "Creating the cell patches\n",
      "Done\n",
      "Now let's do the prediction!\n"
     ]
    },
    {
     "name": "stderr",
     "output_type": "stream",
     "text": [
      " 47%|████▋     | 280/598 [19:55<23:52,  4.51s/it]Using cache found in /home/aa-ssun2-cmp/.cache/torch/hub/pytorch_vision_v0.10.0\n"
     ]
    },
    {
     "name": "stdout",
     "output_type": "stream",
     "text": [
      "Creating the cell patches\n",
      "Done\n",
      "Now let's do the prediction!\n"
     ]
    },
    {
     "name": "stderr",
     "output_type": "stream",
     "text": [
      " 47%|████▋     | 281/598 [19:59<24:06,  4.56s/it]Using cache found in /home/aa-ssun2-cmp/.cache/torch/hub/pytorch_vision_v0.10.0\n"
     ]
    },
    {
     "name": "stdout",
     "output_type": "stream",
     "text": [
      "Creating the cell patches\n",
      "Done\n",
      "Now let's do the prediction!\n"
     ]
    },
    {
     "name": "stderr",
     "output_type": "stream",
     "text": [
      " 47%|████▋     | 282/598 [20:05<25:14,  4.79s/it]Using cache found in /home/aa-ssun2-cmp/.cache/torch/hub/pytorch_vision_v0.10.0\n"
     ]
    },
    {
     "name": "stdout",
     "output_type": "stream",
     "text": [
      "Creating the cell patches\n",
      "Done\n",
      "Now let's do the prediction!\n"
     ]
    },
    {
     "name": "stderr",
     "output_type": "stream",
     "text": [
      " 47%|████▋     | 283/598 [20:09<24:16,  4.63s/it]Using cache found in /home/aa-ssun2-cmp/.cache/torch/hub/pytorch_vision_v0.10.0\n"
     ]
    },
    {
     "name": "stdout",
     "output_type": "stream",
     "text": [
      "Creating the cell patches\n",
      "Done\n",
      "Now let's do the prediction!\n"
     ]
    },
    {
     "name": "stderr",
     "output_type": "stream",
     "text": [
      " 47%|████▋     | 284/598 [20:12<22:45,  4.35s/it]Using cache found in /home/aa-ssun2-cmp/.cache/torch/hub/pytorch_vision_v0.10.0\n"
     ]
    },
    {
     "name": "stdout",
     "output_type": "stream",
     "text": [
      "Creating the cell patches\n",
      "Done\n",
      "Now let's do the prediction!\n"
     ]
    },
    {
     "name": "stderr",
     "output_type": "stream",
     "text": [
      "\r",
      " 48%|████▊     | 285/598 [20:16<21:43,  4.16s/it]"
     ]
    },
    {
     "name": "stdout",
     "output_type": "stream",
     "text": [
      "Creating the cell patches\n",
      "Done\n",
      "Now let's do the prediction!\n"
     ]
    },
    {
     "name": "stderr",
     "output_type": "stream",
     "text": [
      "Using cache found in /home/aa-ssun2-cmp/.cache/torch/hub/pytorch_vision_v0.10.0\n",
      " 48%|████▊     | 286/598 [20:22<23:25,  4.50s/it]Using cache found in /home/aa-ssun2-cmp/.cache/torch/hub/pytorch_vision_v0.10.0\n"
     ]
    },
    {
     "name": "stdout",
     "output_type": "stream",
     "text": [
      "Creating the cell patches\n",
      "Done\n",
      "Now let's do the prediction!\n"
     ]
    },
    {
     "name": "stderr",
     "output_type": "stream",
     "text": [
      "\r",
      " 48%|████▊     | 287/598 [20:26<22:55,  4.42s/it]"
     ]
    },
    {
     "name": "stdout",
     "output_type": "stream",
     "text": [
      "Creating the cell patches\n",
      "Done\n",
      "Now let's do the prediction!\n"
     ]
    },
    {
     "name": "stderr",
     "output_type": "stream",
     "text": [
      "Using cache found in /home/aa-ssun2-cmp/.cache/torch/hub/pytorch_vision_v0.10.0\n",
      " 48%|████▊     | 288/598 [20:31<24:21,  4.71s/it]"
     ]
    },
    {
     "name": "stdout",
     "output_type": "stream",
     "text": [
      "Creating the cell patches\n",
      "Done\n",
      "Now let's do the prediction!\n"
     ]
    },
    {
     "name": "stderr",
     "output_type": "stream",
     "text": [
      "Using cache found in /home/aa-ssun2-cmp/.cache/torch/hub/pytorch_vision_v0.10.0\n",
      " 48%|████▊     | 289/598 [20:36<24:41,  4.79s/it]"
     ]
    },
    {
     "name": "stdout",
     "output_type": "stream",
     "text": [
      "Creating the cell patches\n",
      "Done\n",
      "Now let's do the prediction!\n"
     ]
    },
    {
     "name": "stderr",
     "output_type": "stream",
     "text": [
      "Using cache found in /home/aa-ssun2-cmp/.cache/torch/hub/pytorch_vision_v0.10.0\n",
      " 48%|████▊     | 290/598 [20:40<23:13,  4.53s/it]Using cache found in /home/aa-ssun2-cmp/.cache/torch/hub/pytorch_vision_v0.10.0\n"
     ]
    },
    {
     "name": "stdout",
     "output_type": "stream",
     "text": [
      "Creating the cell patches\n",
      "Done\n",
      "Now let's do the prediction!\n"
     ]
    },
    {
     "name": "stderr",
     "output_type": "stream",
     "text": [
      " 49%|████▊     | 291/598 [20:45<23:32,  4.60s/it]Using cache found in /home/aa-ssun2-cmp/.cache/torch/hub/pytorch_vision_v0.10.0\n"
     ]
    },
    {
     "name": "stdout",
     "output_type": "stream",
     "text": [
      "Creating the cell patches\n",
      "Done\n",
      "Now let's do the prediction!\n"
     ]
    },
    {
     "name": "stderr",
     "output_type": "stream",
     "text": [
      " 49%|████▉     | 292/598 [20:48<22:01,  4.32s/it]Using cache found in /home/aa-ssun2-cmp/.cache/torch/hub/pytorch_vision_v0.10.0\n"
     ]
    },
    {
     "name": "stdout",
     "output_type": "stream",
     "text": [
      "Creating the cell patches\n",
      "Done\n",
      "Now let's do the prediction!\n"
     ]
    },
    {
     "name": "stderr",
     "output_type": "stream",
     "text": [
      "\r",
      " 49%|████▉     | 293/598 [20:53<22:35,  4.44s/it]"
     ]
    },
    {
     "name": "stdout",
     "output_type": "stream",
     "text": [
      "Creating the cell patches\n",
      "Done\n",
      "Now let's do the prediction!\n"
     ]
    },
    {
     "name": "stderr",
     "output_type": "stream",
     "text": [
      "Using cache found in /home/aa-ssun2-cmp/.cache/torch/hub/pytorch_vision_v0.10.0\n",
      " 49%|████▉     | 294/598 [20:58<23:44,  4.69s/it]Using cache found in /home/aa-ssun2-cmp/.cache/torch/hub/pytorch_vision_v0.10.0\n"
     ]
    },
    {
     "name": "stdout",
     "output_type": "stream",
     "text": [
      "Creating the cell patches\n",
      "Done\n",
      "Now let's do the prediction!\n"
     ]
    },
    {
     "name": "stderr",
     "output_type": "stream",
     "text": [
      " 49%|████▉     | 295/598 [21:03<23:01,  4.56s/it]Using cache found in /home/aa-ssun2-cmp/.cache/torch/hub/pytorch_vision_v0.10.0\n"
     ]
    },
    {
     "name": "stdout",
     "output_type": "stream",
     "text": [
      "Creating the cell patches\n",
      "Done\n",
      "Now let's do the prediction!\n"
     ]
    },
    {
     "name": "stderr",
     "output_type": "stream",
     "text": [
      "\r",
      " 49%|████▉     | 296/598 [21:07<22:23,  4.45s/it]"
     ]
    },
    {
     "name": "stdout",
     "output_type": "stream",
     "text": [
      "Creating the cell patches\n",
      "Done\n",
      "Now let's do the prediction!\n"
     ]
    },
    {
     "name": "stderr",
     "output_type": "stream",
     "text": [
      "Using cache found in /home/aa-ssun2-cmp/.cache/torch/hub/pytorch_vision_v0.10.0\n",
      " 50%|████▉     | 297/598 [21:12<22:54,  4.57s/it]"
     ]
    },
    {
     "name": "stdout",
     "output_type": "stream",
     "text": [
      "Creating the cell patches\n",
      "Done\n",
      "Now let's do the prediction!\n"
     ]
    },
    {
     "name": "stderr",
     "output_type": "stream",
     "text": [
      "Using cache found in /home/aa-ssun2-cmp/.cache/torch/hub/pytorch_vision_v0.10.0\n",
      " 50%|████▉     | 298/598 [21:16<22:40,  4.53s/it]Using cache found in /home/aa-ssun2-cmp/.cache/torch/hub/pytorch_vision_v0.10.0\n"
     ]
    },
    {
     "name": "stdout",
     "output_type": "stream",
     "text": [
      "Creating the cell patches\n",
      "Done\n",
      "Now let's do the prediction!\n"
     ]
    },
    {
     "name": "stderr",
     "output_type": "stream",
     "text": [
      " 50%|█████     | 299/598 [21:20<21:28,  4.31s/it]Using cache found in /home/aa-ssun2-cmp/.cache/torch/hub/pytorch_vision_v0.10.0\n"
     ]
    },
    {
     "name": "stdout",
     "output_type": "stream",
     "text": [
      "Creating the cell patches\n",
      "Done\n",
      "Now let's do the prediction!\n"
     ]
    },
    {
     "name": "stderr",
     "output_type": "stream",
     "text": [
      " 50%|█████     | 300/598 [21:23<20:07,  4.05s/it]Using cache found in /home/aa-ssun2-cmp/.cache/torch/hub/pytorch_vision_v0.10.0\n"
     ]
    },
    {
     "name": "stdout",
     "output_type": "stream",
     "text": [
      "Creating the cell patches\n",
      "Done\n",
      "Now let's do the prediction!\n"
     ]
    },
    {
     "name": "stderr",
     "output_type": "stream",
     "text": [
      "\r",
      " 50%|█████     | 301/598 [21:27<18:43,  3.78s/it]"
     ]
    },
    {
     "name": "stdout",
     "output_type": "stream",
     "text": [
      "Creating the cell patches\n",
      "Done\n",
      "Now let's do the prediction!\n"
     ]
    },
    {
     "name": "stderr",
     "output_type": "stream",
     "text": [
      "Using cache found in /home/aa-ssun2-cmp/.cache/torch/hub/pytorch_vision_v0.10.0\n",
      " 51%|█████     | 302/598 [21:32<20:48,  4.22s/it]Using cache found in /home/aa-ssun2-cmp/.cache/torch/hub/pytorch_vision_v0.10.0\n"
     ]
    },
    {
     "name": "stdout",
     "output_type": "stream",
     "text": [
      "Creating the cell patches\n",
      "Done\n",
      "Now let's do the prediction!\n"
     ]
    },
    {
     "name": "stderr",
     "output_type": "stream",
     "text": [
      " 51%|█████     | 303/598 [21:37<22:09,  4.51s/it]Using cache found in /home/aa-ssun2-cmp/.cache/torch/hub/pytorch_vision_v0.10.0\n"
     ]
    },
    {
     "name": "stdout",
     "output_type": "stream",
     "text": [
      "Creating the cell patches\n",
      "Done\n",
      "Now let's do the prediction!\n"
     ]
    },
    {
     "name": "stderr",
     "output_type": "stream",
     "text": [
      " 51%|█████     | 304/598 [21:42<23:30,  4.80s/it]Using cache found in /home/aa-ssun2-cmp/.cache/torch/hub/pytorch_vision_v0.10.0\n"
     ]
    },
    {
     "name": "stdout",
     "output_type": "stream",
     "text": [
      "Creating the cell patches\n",
      "Done\n",
      "Now let's do the prediction!\n"
     ]
    },
    {
     "name": "stderr",
     "output_type": "stream",
     "text": [
      "\r",
      " 51%|█████     | 305/598 [21:46<22:03,  4.52s/it]"
     ]
    },
    {
     "name": "stdout",
     "output_type": "stream",
     "text": [
      "Creating the cell patches\n",
      "Done\n",
      "Now let's do the prediction!\n"
     ]
    },
    {
     "name": "stderr",
     "output_type": "stream",
     "text": [
      "Using cache found in /home/aa-ssun2-cmp/.cache/torch/hub/pytorch_vision_v0.10.0\n",
      " 51%|█████     | 306/598 [21:51<22:11,  4.56s/it]"
     ]
    },
    {
     "name": "stdout",
     "output_type": "stream",
     "text": [
      "Creating the cell patches\n",
      "Done\n",
      "Now let's do the prediction!\n"
     ]
    },
    {
     "name": "stderr",
     "output_type": "stream",
     "text": [
      "Using cache found in /home/aa-ssun2-cmp/.cache/torch/hub/pytorch_vision_v0.10.0\n",
      " 51%|█████▏    | 307/598 [21:55<20:47,  4.29s/it]Using cache found in /home/aa-ssun2-cmp/.cache/torch/hub/pytorch_vision_v0.10.0\n"
     ]
    },
    {
     "name": "stdout",
     "output_type": "stream",
     "text": [
      "Creating the cell patches\n",
      "Done\n",
      "Now let's do the prediction!\n"
     ]
    },
    {
     "name": "stderr",
     "output_type": "stream",
     "text": [
      " 52%|█████▏    | 308/598 [21:59<20:09,  4.17s/it]Using cache found in /home/aa-ssun2-cmp/.cache/torch/hub/pytorch_vision_v0.10.0\n"
     ]
    },
    {
     "name": "stdout",
     "output_type": "stream",
     "text": [
      "Creating the cell patches\n",
      "Done\n",
      "Now let's do the prediction!\n"
     ]
    },
    {
     "name": "stderr",
     "output_type": "stream",
     "text": [
      " 52%|█████▏    | 309/598 [22:04<21:20,  4.43s/it]Using cache found in /home/aa-ssun2-cmp/.cache/torch/hub/pytorch_vision_v0.10.0\n"
     ]
    },
    {
     "name": "stdout",
     "output_type": "stream",
     "text": [
      "Creating the cell patches\n",
      "Done\n",
      "Now let's do the prediction!\n"
     ]
    },
    {
     "name": "stderr",
     "output_type": "stream",
     "text": [
      "\r",
      " 52%|█████▏    | 310/598 [22:09<22:15,  4.64s/it]"
     ]
    },
    {
     "name": "stdout",
     "output_type": "stream",
     "text": [
      "Creating the cell patches\n",
      "Done\n",
      "Now let's do the prediction!\n"
     ]
    },
    {
     "name": "stderr",
     "output_type": "stream",
     "text": [
      "Using cache found in /home/aa-ssun2-cmp/.cache/torch/hub/pytorch_vision_v0.10.0\n",
      " 52%|█████▏    | 311/598 [22:14<22:26,  4.69s/it]"
     ]
    },
    {
     "name": "stdout",
     "output_type": "stream",
     "text": [
      "Creating the cell patches\n",
      "Done\n",
      "Now let's do the prediction!\n"
     ]
    },
    {
     "name": "stderr",
     "output_type": "stream",
     "text": [
      "Using cache found in /home/aa-ssun2-cmp/.cache/torch/hub/pytorch_vision_v0.10.0\n",
      " 52%|█████▏    | 312/598 [22:19<23:19,  4.89s/it]Using cache found in /home/aa-ssun2-cmp/.cache/torch/hub/pytorch_vision_v0.10.0\n"
     ]
    },
    {
     "name": "stdout",
     "output_type": "stream",
     "text": [
      "Creating the cell patches\n",
      "Done\n",
      "Now let's do the prediction!\n"
     ]
    },
    {
     "name": "stderr",
     "output_type": "stream",
     "text": [
      "\r",
      " 52%|█████▏    | 313/598 [22:23<22:17,  4.69s/it]"
     ]
    },
    {
     "name": "stdout",
     "output_type": "stream",
     "text": [
      "Creating the cell patches\n",
      "Done\n",
      "Now let's do the prediction!\n"
     ]
    },
    {
     "name": "stderr",
     "output_type": "stream",
     "text": [
      "Using cache found in /home/aa-ssun2-cmp/.cache/torch/hub/pytorch_vision_v0.10.0\n",
      " 53%|█████▎    | 314/598 [22:27<21:15,  4.49s/it]Using cache found in /home/aa-ssun2-cmp/.cache/torch/hub/pytorch_vision_v0.10.0\n"
     ]
    },
    {
     "name": "stdout",
     "output_type": "stream",
     "text": [
      "Creating the cell patches\n",
      "Done\n",
      "Now let's do the prediction!\n"
     ]
    },
    {
     "name": "stderr",
     "output_type": "stream",
     "text": [
      " 53%|█████▎    | 315/598 [22:31<20:25,  4.33s/it]Using cache found in /home/aa-ssun2-cmp/.cache/torch/hub/pytorch_vision_v0.10.0\n"
     ]
    },
    {
     "name": "stdout",
     "output_type": "stream",
     "text": [
      "Creating the cell patches\n",
      "Done\n",
      "Now let's do the prediction!\n"
     ]
    },
    {
     "name": "stderr",
     "output_type": "stream",
     "text": [
      "\r",
      " 53%|█████▎    | 316/598 [22:36<20:46,  4.42s/it]"
     ]
    },
    {
     "name": "stdout",
     "output_type": "stream",
     "text": [
      "Creating the cell patches\n",
      "Done\n",
      "Now let's do the prediction!\n"
     ]
    },
    {
     "name": "stderr",
     "output_type": "stream",
     "text": [
      "Using cache found in /home/aa-ssun2-cmp/.cache/torch/hub/pytorch_vision_v0.10.0\n",
      " 53%|█████▎    | 317/598 [22:41<21:22,  4.56s/it]"
     ]
    },
    {
     "name": "stdout",
     "output_type": "stream",
     "text": [
      "Creating the cell patches\n",
      "Done\n",
      "Now let's do the prediction!\n"
     ]
    },
    {
     "name": "stderr",
     "output_type": "stream",
     "text": [
      "Using cache found in /home/aa-ssun2-cmp/.cache/torch/hub/pytorch_vision_v0.10.0\n",
      " 53%|█████▎    | 318/598 [22:45<21:05,  4.52s/it]Using cache found in /home/aa-ssun2-cmp/.cache/torch/hub/pytorch_vision_v0.10.0\n"
     ]
    },
    {
     "name": "stdout",
     "output_type": "stream",
     "text": [
      "Creating the cell patches\n",
      "Done\n",
      "Now let's do the prediction!\n"
     ]
    },
    {
     "name": "stderr",
     "output_type": "stream",
     "text": [
      " 53%|█████▎    | 319/598 [22:48<19:32,  4.20s/it]Using cache found in /home/aa-ssun2-cmp/.cache/torch/hub/pytorch_vision_v0.10.0\n"
     ]
    },
    {
     "name": "stdout",
     "output_type": "stream",
     "text": [
      "Creating the cell patches\n",
      "Done\n",
      "Now let's do the prediction!\n"
     ]
    },
    {
     "name": "stderr",
     "output_type": "stream",
     "text": [
      "\r",
      " 54%|█████▎    | 320/598 [22:52<18:03,  3.90s/it]"
     ]
    },
    {
     "name": "stdout",
     "output_type": "stream",
     "text": [
      "Creating the cell patches\n",
      "Done\n",
      "Now let's do the prediction!\n"
     ]
    },
    {
     "name": "stderr",
     "output_type": "stream",
     "text": [
      "Using cache found in /home/aa-ssun2-cmp/.cache/torch/hub/pytorch_vision_v0.10.0\n",
      " 54%|█████▎    | 321/598 [22:56<17:58,  3.89s/it]"
     ]
    },
    {
     "name": "stdout",
     "output_type": "stream",
     "text": [
      "Creating the cell patches\n",
      "Done\n",
      "Now let's do the prediction!\n"
     ]
    },
    {
     "name": "stderr",
     "output_type": "stream",
     "text": [
      "Using cache found in /home/aa-ssun2-cmp/.cache/torch/hub/pytorch_vision_v0.10.0\n",
      " 54%|█████▍    | 322/598 [23:00<18:47,  4.09s/it]Using cache found in /home/aa-ssun2-cmp/.cache/torch/hub/pytorch_vision_v0.10.0\n"
     ]
    },
    {
     "name": "stdout",
     "output_type": "stream",
     "text": [
      "Creating the cell patches\n",
      "Done\n",
      "Now let's do the prediction!\n"
     ]
    },
    {
     "name": "stderr",
     "output_type": "stream",
     "text": [
      "\r",
      " 54%|█████▍    | 323/598 [23:04<17:51,  3.90s/it]"
     ]
    },
    {
     "name": "stdout",
     "output_type": "stream",
     "text": [
      "Creating the cell patches\n",
      "Done\n",
      "Now let's do the prediction!\n"
     ]
    },
    {
     "name": "stderr",
     "output_type": "stream",
     "text": [
      "Using cache found in /home/aa-ssun2-cmp/.cache/torch/hub/pytorch_vision_v0.10.0\n",
      " 54%|█████▍    | 324/598 [23:07<17:10,  3.76s/it]Using cache found in /home/aa-ssun2-cmp/.cache/torch/hub/pytorch_vision_v0.10.0\n"
     ]
    },
    {
     "name": "stdout",
     "output_type": "stream",
     "text": [
      "Creating the cell patches\n",
      "Done\n",
      "Now let's do the prediction!\n"
     ]
    },
    {
     "name": "stderr",
     "output_type": "stream",
     "text": [
      " 54%|█████▍    | 325/598 [23:12<18:22,  4.04s/it]Using cache found in /home/aa-ssun2-cmp/.cache/torch/hub/pytorch_vision_v0.10.0\n"
     ]
    },
    {
     "name": "stdout",
     "output_type": "stream",
     "text": [
      "Creating the cell patches\n",
      "Done\n",
      "Now let's do the prediction!\n"
     ]
    },
    {
     "name": "stderr",
     "output_type": "stream",
     "text": [
      "\r",
      " 55%|█████▍    | 326/598 [23:16<18:51,  4.16s/it]"
     ]
    },
    {
     "name": "stdout",
     "output_type": "stream",
     "text": [
      "Creating the cell patches\n",
      "Done\n",
      "Now let's do the prediction!\n"
     ]
    },
    {
     "name": "stderr",
     "output_type": "stream",
     "text": [
      "Using cache found in /home/aa-ssun2-cmp/.cache/torch/hub/pytorch_vision_v0.10.0\n",
      " 55%|█████▍    | 327/598 [23:19<17:34,  3.89s/it]"
     ]
    },
    {
     "name": "stdout",
     "output_type": "stream",
     "text": [
      "Creating the cell patches\n",
      "Done\n",
      "Now let's do the prediction!\n"
     ]
    },
    {
     "name": "stderr",
     "output_type": "stream",
     "text": [
      "Using cache found in /home/aa-ssun2-cmp/.cache/torch/hub/pytorch_vision_v0.10.0\n",
      " 55%|█████▍    | 328/598 [23:24<18:24,  4.09s/it]"
     ]
    },
    {
     "name": "stdout",
     "output_type": "stream",
     "text": [
      "Creating the cell patches\n",
      "Done\n",
      "Now let's do the prediction!\n"
     ]
    },
    {
     "name": "stderr",
     "output_type": "stream",
     "text": [
      "Using cache found in /home/aa-ssun2-cmp/.cache/torch/hub/pytorch_vision_v0.10.0\n",
      " 55%|█████▌    | 329/598 [23:28<17:46,  3.96s/it]Using cache found in /home/aa-ssun2-cmp/.cache/torch/hub/pytorch_vision_v0.10.0\n"
     ]
    },
    {
     "name": "stdout",
     "output_type": "stream",
     "text": [
      "Creating the cell patches\n",
      "Done\n",
      "Now let's do the prediction!\n"
     ]
    },
    {
     "name": "stderr",
     "output_type": "stream",
     "text": [
      "\r",
      " 55%|█████▌    | 330/598 [23:31<16:51,  3.77s/it]"
     ]
    },
    {
     "name": "stdout",
     "output_type": "stream",
     "text": [
      "Creating the cell patches\n",
      "Done\n",
      "Now let's do the prediction!\n"
     ]
    },
    {
     "name": "stderr",
     "output_type": "stream",
     "text": [
      "Using cache found in /home/aa-ssun2-cmp/.cache/torch/hub/pytorch_vision_v0.10.0\n",
      " 55%|█████▌    | 331/598 [23:35<17:40,  3.97s/it]Using cache found in /home/aa-ssun2-cmp/.cache/torch/hub/pytorch_vision_v0.10.0\n"
     ]
    },
    {
     "name": "stdout",
     "output_type": "stream",
     "text": [
      "Creating the cell patches\n",
      "Done\n",
      "Now let's do the prediction!\n"
     ]
    },
    {
     "name": "stderr",
     "output_type": "stream",
     "text": [
      " 56%|█████▌    | 332/598 [23:39<17:44,  4.00s/it]Using cache found in /home/aa-ssun2-cmp/.cache/torch/hub/pytorch_vision_v0.10.0\n"
     ]
    },
    {
     "name": "stdout",
     "output_type": "stream",
     "text": [
      "Creating the cell patches\n",
      "Done\n",
      "Now let's do the prediction!\n"
     ]
    },
    {
     "name": "stderr",
     "output_type": "stream",
     "text": [
      "\r",
      " 56%|█████▌    | 333/598 [23:44<18:53,  4.28s/it]"
     ]
    },
    {
     "name": "stdout",
     "output_type": "stream",
     "text": [
      "Creating the cell patches\n",
      "Done\n",
      "Now let's do the prediction!\n"
     ]
    },
    {
     "name": "stderr",
     "output_type": "stream",
     "text": [
      "Using cache found in /home/aa-ssun2-cmp/.cache/torch/hub/pytorch_vision_v0.10.0\n",
      " 56%|█████▌    | 334/598 [23:49<18:57,  4.31s/it]"
     ]
    },
    {
     "name": "stdout",
     "output_type": "stream",
     "text": [
      "Creating the cell patches\n",
      "Done\n",
      "Now let's do the prediction!\n"
     ]
    },
    {
     "name": "stderr",
     "output_type": "stream",
     "text": [
      "Using cache found in /home/aa-ssun2-cmp/.cache/torch/hub/pytorch_vision_v0.10.0\n",
      " 56%|█████▌    | 335/598 [23:53<18:54,  4.31s/it]"
     ]
    },
    {
     "name": "stdout",
     "output_type": "stream",
     "text": [
      "Creating the cell patches\n",
      "Done\n",
      "Now let's do the prediction!\n"
     ]
    },
    {
     "name": "stderr",
     "output_type": "stream",
     "text": [
      "Using cache found in /home/aa-ssun2-cmp/.cache/torch/hub/pytorch_vision_v0.10.0\n",
      " 56%|█████▌    | 336/598 [23:58<19:53,  4.55s/it]Using cache found in /home/aa-ssun2-cmp/.cache/torch/hub/pytorch_vision_v0.10.0\n"
     ]
    },
    {
     "name": "stdout",
     "output_type": "stream",
     "text": [
      "Creating the cell patches\n",
      "Done\n",
      "Now let's do the prediction!\n"
     ]
    },
    {
     "name": "stderr",
     "output_type": "stream",
     "text": [
      "\r",
      " 56%|█████▋    | 337/598 [24:02<18:57,  4.36s/it]"
     ]
    },
    {
     "name": "stdout",
     "output_type": "stream",
     "text": [
      "Creating the cell patches\n",
      "Done\n",
      "Now let's do the prediction!\n"
     ]
    },
    {
     "name": "stderr",
     "output_type": "stream",
     "text": [
      "Using cache found in /home/aa-ssun2-cmp/.cache/torch/hub/pytorch_vision_v0.10.0\n",
      " 57%|█████▋    | 338/598 [24:06<17:49,  4.11s/it]"
     ]
    },
    {
     "name": "stdout",
     "output_type": "stream",
     "text": [
      "Creating the cell patches\n",
      "Done\n",
      "Now let's do the prediction!\n"
     ]
    },
    {
     "name": "stderr",
     "output_type": "stream",
     "text": [
      "Using cache found in /home/aa-ssun2-cmp/.cache/torch/hub/pytorch_vision_v0.10.0\n",
      " 57%|█████▋    | 339/598 [24:10<18:05,  4.19s/it]Using cache found in /home/aa-ssun2-cmp/.cache/torch/hub/pytorch_vision_v0.10.0\n"
     ]
    },
    {
     "name": "stdout",
     "output_type": "stream",
     "text": [
      "Creating the cell patches\n",
      "Done\n",
      "Now let's do the prediction!\n"
     ]
    },
    {
     "name": "stderr",
     "output_type": "stream",
     "text": [
      "\r",
      " 57%|█████▋    | 340/598 [24:14<17:44,  4.13s/it]"
     ]
    },
    {
     "name": "stdout",
     "output_type": "stream",
     "text": [
      "Creating the cell patches\n",
      "Done\n",
      "Now let's do the prediction!\n"
     ]
    },
    {
     "name": "stderr",
     "output_type": "stream",
     "text": [
      "Using cache found in /home/aa-ssun2-cmp/.cache/torch/hub/pytorch_vision_v0.10.0\n",
      " 57%|█████▋    | 341/598 [24:18<17:24,  4.06s/it]"
     ]
    },
    {
     "name": "stdout",
     "output_type": "stream",
     "text": [
      "Creating the cell patches\n",
      "Done\n",
      "Now let's do the prediction!\n"
     ]
    },
    {
     "name": "stderr",
     "output_type": "stream",
     "text": [
      "Using cache found in /home/aa-ssun2-cmp/.cache/torch/hub/pytorch_vision_v0.10.0\n",
      " 57%|█████▋    | 342/598 [24:23<18:37,  4.36s/it]Using cache found in /home/aa-ssun2-cmp/.cache/torch/hub/pytorch_vision_v0.10.0\n"
     ]
    },
    {
     "name": "stdout",
     "output_type": "stream",
     "text": [
      "Creating the cell patches\n",
      "Done\n",
      "Now let's do the prediction!\n"
     ]
    },
    {
     "name": "stderr",
     "output_type": "stream",
     "text": [
      "\r",
      " 57%|█████▋    | 343/598 [24:27<17:30,  4.12s/it]"
     ]
    },
    {
     "name": "stdout",
     "output_type": "stream",
     "text": [
      "Creating the cell patches\n",
      "Done\n",
      "Now let's do the prediction!\n"
     ]
    },
    {
     "name": "stderr",
     "output_type": "stream",
     "text": [
      "Using cache found in /home/aa-ssun2-cmp/.cache/torch/hub/pytorch_vision_v0.10.0\n",
      " 58%|█████▊    | 344/598 [24:31<17:40,  4.17s/it]Using cache found in /home/aa-ssun2-cmp/.cache/torch/hub/pytorch_vision_v0.10.0\n"
     ]
    },
    {
     "name": "stdout",
     "output_type": "stream",
     "text": [
      "Creating the cell patches\n",
      "Done\n",
      "Now let's do the prediction!\n"
     ]
    },
    {
     "name": "stderr",
     "output_type": "stream",
     "text": [
      "\r",
      " 58%|█████▊    | 345/598 [24:35<17:04,  4.05s/it]"
     ]
    },
    {
     "name": "stdout",
     "output_type": "stream",
     "text": [
      "Creating the cell patches\n",
      "Done\n",
      "Now let's do the prediction!\n"
     ]
    },
    {
     "name": "stderr",
     "output_type": "stream",
     "text": [
      "Using cache found in /home/aa-ssun2-cmp/.cache/torch/hub/pytorch_vision_v0.10.0\n",
      " 58%|█████▊    | 346/598 [24:39<17:40,  4.21s/it]"
     ]
    },
    {
     "name": "stdout",
     "output_type": "stream",
     "text": [
      "Creating the cell patches\n",
      "Done\n",
      "Now let's do the prediction!\n"
     ]
    },
    {
     "name": "stderr",
     "output_type": "stream",
     "text": [
      "Using cache found in /home/aa-ssun2-cmp/.cache/torch/hub/pytorch_vision_v0.10.0\n",
      " 58%|█████▊    | 347/598 [24:44<17:49,  4.26s/it]Using cache found in /home/aa-ssun2-cmp/.cache/torch/hub/pytorch_vision_v0.10.0\n"
     ]
    },
    {
     "name": "stdout",
     "output_type": "stream",
     "text": [
      "Creating the cell patches\n",
      "Done\n",
      "Now let's do the prediction!\n"
     ]
    },
    {
     "name": "stderr",
     "output_type": "stream",
     "text": [
      "\r",
      " 58%|█████▊    | 348/598 [24:48<17:44,  4.26s/it]"
     ]
    },
    {
     "name": "stdout",
     "output_type": "stream",
     "text": [
      "Creating the cell patches\n",
      "Done\n",
      "Now let's do the prediction!\n"
     ]
    },
    {
     "name": "stderr",
     "output_type": "stream",
     "text": [
      "Using cache found in /home/aa-ssun2-cmp/.cache/torch/hub/pytorch_vision_v0.10.0\n",
      " 58%|█████▊    | 349/598 [24:52<17:51,  4.30s/it]Using cache found in /home/aa-ssun2-cmp/.cache/torch/hub/pytorch_vision_v0.10.0\n"
     ]
    },
    {
     "name": "stdout",
     "output_type": "stream",
     "text": [
      "Creating the cell patches\n",
      "Done\n",
      "Now let's do the prediction!\n"
     ]
    },
    {
     "name": "stderr",
     "output_type": "stream",
     "text": [
      " 59%|█████▊    | 350/598 [24:57<17:57,  4.34s/it]Using cache found in /home/aa-ssun2-cmp/.cache/torch/hub/pytorch_vision_v0.10.0\n"
     ]
    },
    {
     "name": "stdout",
     "output_type": "stream",
     "text": [
      "Creating the cell patches\n",
      "Done\n",
      "Now let's do the prediction!\n"
     ]
    },
    {
     "name": "stderr",
     "output_type": "stream",
     "text": [
      "\r",
      " 59%|█████▊    | 351/598 [25:02<18:46,  4.56s/it]"
     ]
    },
    {
     "name": "stdout",
     "output_type": "stream",
     "text": [
      "Creating the cell patches\n",
      "Done\n",
      "Now let's do the prediction!\n"
     ]
    },
    {
     "name": "stderr",
     "output_type": "stream",
     "text": [
      "Using cache found in /home/aa-ssun2-cmp/.cache/torch/hub/pytorch_vision_v0.10.0\n",
      " 59%|█████▉    | 352/598 [25:07<19:00,  4.64s/it]Using cache found in /home/aa-ssun2-cmp/.cache/torch/hub/pytorch_vision_v0.10.0\n"
     ]
    },
    {
     "name": "stdout",
     "output_type": "stream",
     "text": [
      "Creating the cell patches\n",
      "Done\n",
      "Now let's do the prediction!\n"
     ]
    },
    {
     "name": "stderr",
     "output_type": "stream",
     "text": [
      "\r",
      " 59%|█████▉    | 353/598 [25:10<17:46,  4.35s/it]"
     ]
    },
    {
     "name": "stdout",
     "output_type": "stream",
     "text": [
      "Creating the cell patches\n",
      "Done\n",
      "Now let's do the prediction!\n"
     ]
    },
    {
     "name": "stderr",
     "output_type": "stream",
     "text": [
      "Using cache found in /home/aa-ssun2-cmp/.cache/torch/hub/pytorch_vision_v0.10.0\n",
      " 59%|█████▉    | 354/598 [25:14<16:39,  4.10s/it]"
     ]
    },
    {
     "name": "stdout",
     "output_type": "stream",
     "text": [
      "Creating the cell patches\n",
      "Done\n",
      "Now let's do the prediction!\n"
     ]
    },
    {
     "name": "stderr",
     "output_type": "stream",
     "text": [
      "Using cache found in /home/aa-ssun2-cmp/.cache/torch/hub/pytorch_vision_v0.10.0\n",
      " 59%|█████▉    | 355/598 [25:19<17:57,  4.43s/it]"
     ]
    },
    {
     "name": "stdout",
     "output_type": "stream",
     "text": [
      "Creating the cell patches\n",
      "Done\n",
      "Now let's do the prediction!\n"
     ]
    },
    {
     "name": "stderr",
     "output_type": "stream",
     "text": [
      "Using cache found in /home/aa-ssun2-cmp/.cache/torch/hub/pytorch_vision_v0.10.0\n",
      " 60%|█████▉    | 356/598 [25:24<18:45,  4.65s/it]Using cache found in /home/aa-ssun2-cmp/.cache/torch/hub/pytorch_vision_v0.10.0\n"
     ]
    },
    {
     "name": "stdout",
     "output_type": "stream",
     "text": [
      "Creating the cell patches\n",
      "Done\n",
      "Now let's do the prediction!\n"
     ]
    },
    {
     "name": "stderr",
     "output_type": "stream",
     "text": [
      " 60%|█████▉    | 357/598 [25:29<18:54,  4.71s/it]Using cache found in /home/aa-ssun2-cmp/.cache/torch/hub/pytorch_vision_v0.10.0\n"
     ]
    },
    {
     "name": "stdout",
     "output_type": "stream",
     "text": [
      "Creating the cell patches\n",
      "Done\n",
      "Now let's do the prediction!\n"
     ]
    },
    {
     "name": "stderr",
     "output_type": "stream",
     "text": [
      "\r",
      " 60%|█████▉    | 358/598 [25:32<17:17,  4.32s/it]"
     ]
    },
    {
     "name": "stdout",
     "output_type": "stream",
     "text": [
      "Creating the cell patches\n",
      "Done\n",
      "Now let's do the prediction!\n"
     ]
    },
    {
     "name": "stderr",
     "output_type": "stream",
     "text": [
      "Using cache found in /home/aa-ssun2-cmp/.cache/torch/hub/pytorch_vision_v0.10.0\n",
      " 60%|██████    | 359/598 [25:37<17:21,  4.36s/it]Using cache found in /home/aa-ssun2-cmp/.cache/torch/hub/pytorch_vision_v0.10.0\n"
     ]
    },
    {
     "name": "stdout",
     "output_type": "stream",
     "text": [
      "Creating the cell patches\n",
      "Done\n",
      "Now let's do the prediction!\n"
     ]
    },
    {
     "name": "stderr",
     "output_type": "stream",
     "text": [
      " 60%|██████    | 360/598 [25:41<16:56,  4.27s/it]Using cache found in /home/aa-ssun2-cmp/.cache/torch/hub/pytorch_vision_v0.10.0\n"
     ]
    },
    {
     "name": "stdout",
     "output_type": "stream",
     "text": [
      "Creating the cell patches\n",
      "Done\n",
      "Now let's do the prediction!\n"
     ]
    },
    {
     "name": "stderr",
     "output_type": "stream",
     "text": [
      "\r",
      " 60%|██████    | 361/598 [25:44<15:40,  3.97s/it]"
     ]
    },
    {
     "name": "stdout",
     "output_type": "stream",
     "text": [
      "Creating the cell patches\n",
      "Done\n",
      "Now let's do the prediction!\n"
     ]
    },
    {
     "name": "stderr",
     "output_type": "stream",
     "text": [
      "Using cache found in /home/aa-ssun2-cmp/.cache/torch/hub/pytorch_vision_v0.10.0\n",
      " 61%|██████    | 362/598 [25:48<16:02,  4.08s/it]"
     ]
    },
    {
     "name": "stdout",
     "output_type": "stream",
     "text": [
      "Creating the cell patches\n",
      "Done\n",
      "Now let's do the prediction!\n"
     ]
    },
    {
     "name": "stderr",
     "output_type": "stream",
     "text": [
      "Using cache found in /home/aa-ssun2-cmp/.cache/torch/hub/pytorch_vision_v0.10.0\n",
      " 61%|██████    | 363/598 [25:54<17:22,  4.43s/it]"
     ]
    },
    {
     "name": "stdout",
     "output_type": "stream",
     "text": [
      "Creating the cell patches\n",
      "Done\n",
      "Now let's do the prediction!\n"
     ]
    },
    {
     "name": "stderr",
     "output_type": "stream",
     "text": [
      "Using cache found in /home/aa-ssun2-cmp/.cache/torch/hub/pytorch_vision_v0.10.0\n",
      " 61%|██████    | 364/598 [25:59<18:28,  4.74s/it]"
     ]
    },
    {
     "name": "stdout",
     "output_type": "stream",
     "text": [
      "Creating the cell patches\n",
      "Done\n",
      "Now let's do the prediction!\n"
     ]
    },
    {
     "name": "stderr",
     "output_type": "stream",
     "text": [
      "Using cache found in /home/aa-ssun2-cmp/.cache/torch/hub/pytorch_vision_v0.10.0\n",
      " 61%|██████    | 365/598 [26:04<18:32,  4.77s/it]"
     ]
    },
    {
     "name": "stdout",
     "output_type": "stream",
     "text": [
      "Creating the cell patches\n",
      "Done\n",
      "Now let's do the prediction!\n"
     ]
    },
    {
     "name": "stderr",
     "output_type": "stream",
     "text": [
      "Using cache found in /home/aa-ssun2-cmp/.cache/torch/hub/pytorch_vision_v0.10.0\n",
      " 61%|██████    | 366/598 [26:08<17:41,  4.58s/it]Using cache found in /home/aa-ssun2-cmp/.cache/torch/hub/pytorch_vision_v0.10.0\n"
     ]
    },
    {
     "name": "stdout",
     "output_type": "stream",
     "text": [
      "Creating the cell patches\n",
      "Done\n",
      "Now let's do the prediction!\n"
     ]
    },
    {
     "name": "stderr",
     "output_type": "stream",
     "text": [
      " 61%|██████▏   | 367/598 [26:12<16:16,  4.23s/it]Using cache found in /home/aa-ssun2-cmp/.cache/torch/hub/pytorch_vision_v0.10.0\n"
     ]
    },
    {
     "name": "stdout",
     "output_type": "stream",
     "text": [
      "Creating the cell patches\n",
      "Done\n",
      "Now let's do the prediction!\n"
     ]
    },
    {
     "name": "stderr",
     "output_type": "stream",
     "text": [
      " 62%|██████▏   | 368/598 [26:15<15:10,  3.96s/it]Using cache found in /home/aa-ssun2-cmp/.cache/torch/hub/pytorch_vision_v0.10.0\n"
     ]
    },
    {
     "name": "stdout",
     "output_type": "stream",
     "text": [
      "Creating the cell patches\n",
      "Done\n",
      "Now let's do the prediction!\n"
     ]
    },
    {
     "name": "stderr",
     "output_type": "stream",
     "text": [
      " 62%|██████▏   | 369/598 [26:20<16:11,  4.24s/it]Using cache found in /home/aa-ssun2-cmp/.cache/torch/hub/pytorch_vision_v0.10.0\n"
     ]
    },
    {
     "name": "stdout",
     "output_type": "stream",
     "text": [
      "Creating the cell patches\n",
      "Done\n",
      "Now let's do the prediction!\n"
     ]
    },
    {
     "name": "stderr",
     "output_type": "stream",
     "text": [
      " 62%|██████▏   | 370/598 [26:24<15:37,  4.11s/it]Using cache found in /home/aa-ssun2-cmp/.cache/torch/hub/pytorch_vision_v0.10.0\n"
     ]
    },
    {
     "name": "stdout",
     "output_type": "stream",
     "text": [
      "Creating the cell patches\n",
      "Done\n",
      "Now let's do the prediction!\n"
     ]
    },
    {
     "name": "stderr",
     "output_type": "stream",
     "text": [
      " 62%|██████▏   | 371/598 [26:28<16:08,  4.27s/it]Using cache found in /home/aa-ssun2-cmp/.cache/torch/hub/pytorch_vision_v0.10.0\n"
     ]
    },
    {
     "name": "stdout",
     "output_type": "stream",
     "text": [
      "Creating the cell patches\n",
      "Done\n",
      "Now let's do the prediction!\n"
     ]
    },
    {
     "name": "stderr",
     "output_type": "stream",
     "text": [
      "\r",
      " 62%|██████▏   | 372/598 [26:32<15:55,  4.23s/it]"
     ]
    },
    {
     "name": "stdout",
     "output_type": "stream",
     "text": [
      "Creating the cell patches\n",
      "Done\n",
      "Now let's do the prediction!\n"
     ]
    },
    {
     "name": "stderr",
     "output_type": "stream",
     "text": [
      "Using cache found in /home/aa-ssun2-cmp/.cache/torch/hub/pytorch_vision_v0.10.0\n",
      " 62%|██████▏   | 373/598 [26:37<16:28,  4.39s/it]Using cache found in /home/aa-ssun2-cmp/.cache/torch/hub/pytorch_vision_v0.10.0\n"
     ]
    },
    {
     "name": "stdout",
     "output_type": "stream",
     "text": [
      "Creating the cell patches\n",
      "Done\n",
      "Now let's do the prediction!\n"
     ]
    },
    {
     "name": "stderr",
     "output_type": "stream",
     "text": [
      " 63%|██████▎   | 374/598 [26:41<15:46,  4.22s/it]Using cache found in /home/aa-ssun2-cmp/.cache/torch/hub/pytorch_vision_v0.10.0\n"
     ]
    },
    {
     "name": "stdout",
     "output_type": "stream",
     "text": [
      "Creating the cell patches\n",
      "Done\n",
      "Now let's do the prediction!\n"
     ]
    },
    {
     "name": "stderr",
     "output_type": "stream",
     "text": [
      " 63%|██████▎   | 375/598 [26:44<14:36,  3.93s/it]Using cache found in /home/aa-ssun2-cmp/.cache/torch/hub/pytorch_vision_v0.10.0\n"
     ]
    },
    {
     "name": "stdout",
     "output_type": "stream",
     "text": [
      "Creating the cell patches\n",
      "Done\n",
      "Now let's do the prediction!\n"
     ]
    },
    {
     "name": "stderr",
     "output_type": "stream",
     "text": [
      "\r",
      " 63%|██████▎   | 376/598 [26:49<15:01,  4.06s/it]"
     ]
    },
    {
     "name": "stdout",
     "output_type": "stream",
     "text": [
      "Creating the cell patches\n",
      "Done\n",
      "Now let's do the prediction!\n"
     ]
    },
    {
     "name": "stderr",
     "output_type": "stream",
     "text": [
      "Using cache found in /home/aa-ssun2-cmp/.cache/torch/hub/pytorch_vision_v0.10.0\n",
      " 63%|██████▎   | 377/598 [26:53<15:17,  4.15s/it]"
     ]
    },
    {
     "name": "stdout",
     "output_type": "stream",
     "text": [
      "Creating the cell patches\n",
      "Done\n",
      "Now let's do the prediction!\n"
     ]
    },
    {
     "name": "stderr",
     "output_type": "stream",
     "text": [
      "Using cache found in /home/aa-ssun2-cmp/.cache/torch/hub/pytorch_vision_v0.10.0\n",
      " 63%|██████▎   | 378/598 [26:58<16:02,  4.38s/it]Using cache found in /home/aa-ssun2-cmp/.cache/torch/hub/pytorch_vision_v0.10.0\n"
     ]
    },
    {
     "name": "stdout",
     "output_type": "stream",
     "text": [
      "Creating the cell patches\n",
      "Done\n",
      "Now let's do the prediction!\n"
     ]
    },
    {
     "name": "stderr",
     "output_type": "stream",
     "text": [
      " 63%|██████▎   | 379/598 [27:01<15:09,  4.15s/it]Using cache found in /home/aa-ssun2-cmp/.cache/torch/hub/pytorch_vision_v0.10.0\n"
     ]
    },
    {
     "name": "stdout",
     "output_type": "stream",
     "text": [
      "Creating the cell patches\n",
      "Done\n",
      "Now let's do the prediction!\n"
     ]
    },
    {
     "name": "stderr",
     "output_type": "stream",
     "text": [
      " 64%|██████▎   | 380/598 [27:05<14:53,  4.10s/it]Using cache found in /home/aa-ssun2-cmp/.cache/torch/hub/pytorch_vision_v0.10.0\n"
     ]
    },
    {
     "name": "stdout",
     "output_type": "stream",
     "text": [
      "Creating the cell patches\n",
      "Done\n",
      "Now let's do the prediction!\n"
     ]
    },
    {
     "name": "stderr",
     "output_type": "stream",
     "text": [
      "\r",
      " 64%|██████▎   | 381/598 [27:09<14:08,  3.91s/it]"
     ]
    },
    {
     "name": "stdout",
     "output_type": "stream",
     "text": [
      "Creating the cell patches\n",
      "Done\n",
      "Now let's do the prediction!\n"
     ]
    },
    {
     "name": "stderr",
     "output_type": "stream",
     "text": [
      "Using cache found in /home/aa-ssun2-cmp/.cache/torch/hub/pytorch_vision_v0.10.0\n",
      " 64%|██████▍   | 382/598 [27:13<14:27,  4.02s/it]"
     ]
    },
    {
     "name": "stdout",
     "output_type": "stream",
     "text": [
      "Creating the cell patches\n",
      "Done\n",
      "Now let's do the prediction!\n"
     ]
    },
    {
     "name": "stderr",
     "output_type": "stream",
     "text": [
      "Using cache found in /home/aa-ssun2-cmp/.cache/torch/hub/pytorch_vision_v0.10.0\n",
      " 64%|██████▍   | 383/598 [27:17<14:11,  3.96s/it]"
     ]
    },
    {
     "name": "stdout",
     "output_type": "stream",
     "text": [
      "Creating the cell patches\n",
      "Done\n",
      "Now let's do the prediction!\n"
     ]
    },
    {
     "name": "stderr",
     "output_type": "stream",
     "text": [
      "Using cache found in /home/aa-ssun2-cmp/.cache/torch/hub/pytorch_vision_v0.10.0\n",
      " 64%|██████▍   | 384/598 [27:21<13:38,  3.83s/it]"
     ]
    },
    {
     "name": "stdout",
     "output_type": "stream",
     "text": [
      "Creating the cell patches\n",
      "Done\n",
      "Now let's do the prediction!\n"
     ]
    },
    {
     "name": "stderr",
     "output_type": "stream",
     "text": [
      "Using cache found in /home/aa-ssun2-cmp/.cache/torch/hub/pytorch_vision_v0.10.0\n",
      " 64%|██████▍   | 385/598 [27:25<13:56,  3.93s/it]"
     ]
    },
    {
     "name": "stdout",
     "output_type": "stream",
     "text": [
      "Creating the cell patches\n",
      "Done\n",
      "Now let's do the prediction!\n"
     ]
    },
    {
     "name": "stderr",
     "output_type": "stream",
     "text": [
      "Using cache found in /home/aa-ssun2-cmp/.cache/torch/hub/pytorch_vision_v0.10.0\n",
      " 65%|██████▍   | 386/598 [27:30<15:19,  4.34s/it]Using cache found in /home/aa-ssun2-cmp/.cache/torch/hub/pytorch_vision_v0.10.0\n"
     ]
    },
    {
     "name": "stdout",
     "output_type": "stream",
     "text": [
      "Creating the cell patches\n",
      "Done\n",
      "Now let's do the prediction!\n"
     ]
    },
    {
     "name": "stderr",
     "output_type": "stream",
     "text": [
      "\r",
      " 65%|██████▍   | 387/598 [27:34<14:35,  4.15s/it]"
     ]
    },
    {
     "name": "stdout",
     "output_type": "stream",
     "text": [
      "Creating the cell patches\n",
      "Done\n",
      "Now let's do the prediction!\n"
     ]
    },
    {
     "name": "stderr",
     "output_type": "stream",
     "text": [
      "Using cache found in /home/aa-ssun2-cmp/.cache/torch/hub/pytorch_vision_v0.10.0\n",
      " 65%|██████▍   | 388/598 [27:39<15:16,  4.36s/it]"
     ]
    },
    {
     "name": "stdout",
     "output_type": "stream",
     "text": [
      "Creating the cell patches\n",
      "Done\n",
      "Now let's do the prediction!\n"
     ]
    },
    {
     "name": "stderr",
     "output_type": "stream",
     "text": [
      "Using cache found in /home/aa-ssun2-cmp/.cache/torch/hub/pytorch_vision_v0.10.0\n",
      " 65%|██████▌   | 389/598 [27:44<15:52,  4.56s/it]"
     ]
    },
    {
     "name": "stdout",
     "output_type": "stream",
     "text": [
      "Creating the cell patches\n",
      "Done\n",
      "Now let's do the prediction!\n"
     ]
    },
    {
     "name": "stderr",
     "output_type": "stream",
     "text": [
      "Using cache found in /home/aa-ssun2-cmp/.cache/torch/hub/pytorch_vision_v0.10.0\n",
      " 65%|██████▌   | 390/598 [27:49<17:09,  4.95s/it]Using cache found in /home/aa-ssun2-cmp/.cache/torch/hub/pytorch_vision_v0.10.0\n"
     ]
    },
    {
     "name": "stdout",
     "output_type": "stream",
     "text": [
      "Creating the cell patches\n",
      "Done\n",
      "Now let's do the prediction!\n"
     ]
    },
    {
     "name": "stderr",
     "output_type": "stream",
     "text": [
      " 65%|██████▌   | 391/598 [27:54<16:57,  4.92s/it]Using cache found in /home/aa-ssun2-cmp/.cache/torch/hub/pytorch_vision_v0.10.0\n"
     ]
    },
    {
     "name": "stdout",
     "output_type": "stream",
     "text": [
      "Creating the cell patches\n",
      "Done\n",
      "Now let's do the prediction!\n"
     ]
    },
    {
     "name": "stderr",
     "output_type": "stream",
     "text": [
      " 66%|██████▌   | 392/598 [27:58<15:10,  4.42s/it]Using cache found in /home/aa-ssun2-cmp/.cache/torch/hub/pytorch_vision_v0.10.0\n"
     ]
    },
    {
     "name": "stdout",
     "output_type": "stream",
     "text": [
      "Creating the cell patches\n",
      "Done\n",
      "Now let's do the prediction!\n"
     ]
    },
    {
     "name": "stderr",
     "output_type": "stream",
     "text": [
      " 66%|██████▌   | 393/598 [28:01<13:57,  4.08s/it]Using cache found in /home/aa-ssun2-cmp/.cache/torch/hub/pytorch_vision_v0.10.0\n"
     ]
    },
    {
     "name": "stdout",
     "output_type": "stream",
     "text": [
      "Creating the cell patches\n",
      "Done\n",
      "Now let's do the prediction!\n"
     ]
    },
    {
     "name": "stderr",
     "output_type": "stream",
     "text": [
      "\r",
      " 66%|██████▌   | 394/598 [28:04<13:17,  3.91s/it]"
     ]
    },
    {
     "name": "stdout",
     "output_type": "stream",
     "text": [
      "Creating the cell patches\n",
      "Done\n",
      "Now let's do the prediction!\n"
     ]
    },
    {
     "name": "stderr",
     "output_type": "stream",
     "text": [
      "Using cache found in /home/aa-ssun2-cmp/.cache/torch/hub/pytorch_vision_v0.10.0\n",
      " 66%|██████▌   | 395/598 [28:09<13:48,  4.08s/it]"
     ]
    },
    {
     "name": "stdout",
     "output_type": "stream",
     "text": [
      "Creating the cell patches\n",
      "Done\n",
      "Now let's do the prediction!\n"
     ]
    },
    {
     "name": "stderr",
     "output_type": "stream",
     "text": [
      "Using cache found in /home/aa-ssun2-cmp/.cache/torch/hub/pytorch_vision_v0.10.0\n",
      " 66%|██████▌   | 396/598 [28:12<13:19,  3.96s/it]"
     ]
    },
    {
     "name": "stdout",
     "output_type": "stream",
     "text": [
      "Creating the cell patches\n",
      "Done\n",
      "Now let's do the prediction!\n"
     ]
    },
    {
     "name": "stderr",
     "output_type": "stream",
     "text": [
      "Using cache found in /home/aa-ssun2-cmp/.cache/torch/hub/pytorch_vision_v0.10.0\n",
      " 66%|██████▋   | 397/598 [28:19<16:05,  4.80s/it]Using cache found in /home/aa-ssun2-cmp/.cache/torch/hub/pytorch_vision_v0.10.0\n"
     ]
    },
    {
     "name": "stdout",
     "output_type": "stream",
     "text": [
      "Creating the cell patches\n",
      "Done\n",
      "Now let's do the prediction!\n"
     ]
    },
    {
     "name": "stderr",
     "output_type": "stream",
     "text": [
      "\r",
      " 67%|██████▋   | 398/598 [28:23<14:50,  4.45s/it]"
     ]
    },
    {
     "name": "stdout",
     "output_type": "stream",
     "text": [
      "Creating the cell patches\n",
      "Done\n",
      "Now let's do the prediction!\n"
     ]
    },
    {
     "name": "stderr",
     "output_type": "stream",
     "text": [
      "Using cache found in /home/aa-ssun2-cmp/.cache/torch/hub/pytorch_vision_v0.10.0\n",
      " 67%|██████▋   | 399/598 [28:28<15:00,  4.53s/it]Using cache found in /home/aa-ssun2-cmp/.cache/torch/hub/pytorch_vision_v0.10.0\n"
     ]
    },
    {
     "name": "stdout",
     "output_type": "stream",
     "text": [
      "Creating the cell patches\n",
      "Done\n",
      "Now let's do the prediction!\n"
     ]
    },
    {
     "name": "stderr",
     "output_type": "stream",
     "text": [
      " 67%|██████▋   | 400/598 [28:31<13:44,  4.16s/it]Using cache found in /home/aa-ssun2-cmp/.cache/torch/hub/pytorch_vision_v0.10.0\n"
     ]
    },
    {
     "name": "stdout",
     "output_type": "stream",
     "text": [
      "Creating the cell patches\n",
      "Done\n",
      "Now let's do the prediction!\n"
     ]
    },
    {
     "name": "stderr",
     "output_type": "stream",
     "text": [
      "\r",
      " 67%|██████▋   | 401/598 [28:35<13:43,  4.18s/it]"
     ]
    },
    {
     "name": "stdout",
     "output_type": "stream",
     "text": [
      "Creating the cell patches\n",
      "Done\n",
      "Now let's do the prediction!\n"
     ]
    },
    {
     "name": "stderr",
     "output_type": "stream",
     "text": [
      "Using cache found in /home/aa-ssun2-cmp/.cache/torch/hub/pytorch_vision_v0.10.0\n",
      " 67%|██████▋   | 402/598 [28:40<14:38,  4.48s/it]"
     ]
    },
    {
     "name": "stdout",
     "output_type": "stream",
     "text": [
      "Creating the cell patches\n",
      "Done\n",
      "Now let's do the prediction!\n"
     ]
    },
    {
     "name": "stderr",
     "output_type": "stream",
     "text": [
      "Using cache found in /home/aa-ssun2-cmp/.cache/torch/hub/pytorch_vision_v0.10.0\n",
      " 67%|██████▋   | 403/598 [28:45<14:57,  4.60s/it]Using cache found in /home/aa-ssun2-cmp/.cache/torch/hub/pytorch_vision_v0.10.0\n"
     ]
    },
    {
     "name": "stdout",
     "output_type": "stream",
     "text": [
      "Creating the cell patches\n",
      "Done\n",
      "Now let's do the prediction!\n"
     ]
    },
    {
     "name": "stderr",
     "output_type": "stream",
     "text": [
      " 68%|██████▊   | 404/598 [28:49<14:30,  4.48s/it]Using cache found in /home/aa-ssun2-cmp/.cache/torch/hub/pytorch_vision_v0.10.0\n"
     ]
    },
    {
     "name": "stdout",
     "output_type": "stream",
     "text": [
      "Creating the cell patches\n",
      "Done\n",
      "Now let's do the prediction!\n"
     ]
    },
    {
     "name": "stderr",
     "output_type": "stream",
     "text": [
      " 68%|██████▊   | 405/598 [28:54<14:12,  4.42s/it]Using cache found in /home/aa-ssun2-cmp/.cache/torch/hub/pytorch_vision_v0.10.0\n"
     ]
    },
    {
     "name": "stdout",
     "output_type": "stream",
     "text": [
      "Creating the cell patches\n",
      "Done\n",
      "Now let's do the prediction!\n"
     ]
    },
    {
     "name": "stderr",
     "output_type": "stream",
     "text": [
      "\r",
      " 68%|██████▊   | 406/598 [28:59<14:36,  4.57s/it]"
     ]
    },
    {
     "name": "stdout",
     "output_type": "stream",
     "text": [
      "Creating the cell patches\n",
      "Done\n",
      "Now let's do the prediction!\n"
     ]
    },
    {
     "name": "stderr",
     "output_type": "stream",
     "text": [
      "Using cache found in /home/aa-ssun2-cmp/.cache/torch/hub/pytorch_vision_v0.10.0\n",
      " 68%|██████▊   | 407/598 [29:03<14:07,  4.44s/it]Using cache found in /home/aa-ssun2-cmp/.cache/torch/hub/pytorch_vision_v0.10.0\n"
     ]
    },
    {
     "name": "stdout",
     "output_type": "stream",
     "text": [
      "Creating the cell patches\n",
      "Done\n",
      "Now let's do the prediction!\n"
     ]
    },
    {
     "name": "stderr",
     "output_type": "stream",
     "text": [
      " 68%|██████▊   | 408/598 [29:07<13:33,  4.28s/it]Using cache found in /home/aa-ssun2-cmp/.cache/torch/hub/pytorch_vision_v0.10.0\n"
     ]
    },
    {
     "name": "stdout",
     "output_type": "stream",
     "text": [
      "Creating the cell patches\n",
      "Done\n",
      "Now let's do the prediction!\n"
     ]
    },
    {
     "name": "stderr",
     "output_type": "stream",
     "text": [
      " 68%|██████▊   | 409/598 [29:10<12:34,  3.99s/it]Using cache found in /home/aa-ssun2-cmp/.cache/torch/hub/pytorch_vision_v0.10.0\n"
     ]
    },
    {
     "name": "stdout",
     "output_type": "stream",
     "text": [
      "Creating the cell patches\n",
      "Done\n",
      "Now let's do the prediction!\n"
     ]
    },
    {
     "name": "stderr",
     "output_type": "stream",
     "text": [
      " 69%|██████▊   | 410/598 [29:13<11:59,  3.83s/it]Using cache found in /home/aa-ssun2-cmp/.cache/torch/hub/pytorch_vision_v0.10.0\n"
     ]
    },
    {
     "name": "stdout",
     "output_type": "stream",
     "text": [
      "Creating the cell patches\n",
      "Done\n",
      "Now let's do the prediction!\n"
     ]
    },
    {
     "name": "stderr",
     "output_type": "stream",
     "text": [
      "\r",
      " 69%|██████▊   | 411/598 [29:17<11:53,  3.81s/it]"
     ]
    },
    {
     "name": "stdout",
     "output_type": "stream",
     "text": [
      "Creating the cell patches\n",
      "Done\n",
      "Now let's do the prediction!\n"
     ]
    },
    {
     "name": "stderr",
     "output_type": "stream",
     "text": [
      "Using cache found in /home/aa-ssun2-cmp/.cache/torch/hub/pytorch_vision_v0.10.0\n",
      " 69%|██████▉   | 412/598 [29:22<12:47,  4.13s/it]"
     ]
    },
    {
     "name": "stdout",
     "output_type": "stream",
     "text": [
      "Creating the cell patches\n",
      "Done\n",
      "Now let's do the prediction!\n"
     ]
    },
    {
     "name": "stderr",
     "output_type": "stream",
     "text": [
      "Using cache found in /home/aa-ssun2-cmp/.cache/torch/hub/pytorch_vision_v0.10.0\n",
      " 69%|██████▉   | 413/598 [29:25<12:01,  3.90s/it]Using cache found in /home/aa-ssun2-cmp/.cache/torch/hub/pytorch_vision_v0.10.0\n"
     ]
    },
    {
     "name": "stdout",
     "output_type": "stream",
     "text": [
      "Creating the cell patches\n",
      "Done\n",
      "Now let's do the prediction!\n"
     ]
    },
    {
     "name": "stderr",
     "output_type": "stream",
     "text": [
      " 69%|██████▉   | 414/598 [29:30<12:54,  4.21s/it]Using cache found in /home/aa-ssun2-cmp/.cache/torch/hub/pytorch_vision_v0.10.0\n"
     ]
    },
    {
     "name": "stdout",
     "output_type": "stream",
     "text": [
      "Creating the cell patches\n",
      "Done\n",
      "Now let's do the prediction!\n"
     ]
    },
    {
     "name": "stderr",
     "output_type": "stream",
     "text": [
      " 69%|██████▉   | 415/598 [29:36<13:49,  4.53s/it]Using cache found in /home/aa-ssun2-cmp/.cache/torch/hub/pytorch_vision_v0.10.0\n"
     ]
    },
    {
     "name": "stdout",
     "output_type": "stream",
     "text": [
      "Creating the cell patches\n",
      "Done\n",
      "Now let's do the prediction!\n"
     ]
    },
    {
     "name": "stderr",
     "output_type": "stream",
     "text": [
      " 70%|██████▉   | 416/598 [29:40<13:24,  4.42s/it]Using cache found in /home/aa-ssun2-cmp/.cache/torch/hub/pytorch_vision_v0.10.0\n"
     ]
    },
    {
     "name": "stdout",
     "output_type": "stream",
     "text": [
      "Creating the cell patches\n",
      "Done\n",
      "Now let's do the prediction!\n"
     ]
    },
    {
     "name": "stderr",
     "output_type": "stream",
     "text": [
      "\r",
      " 70%|██████▉   | 417/598 [29:45<14:03,  4.66s/it]"
     ]
    },
    {
     "name": "stdout",
     "output_type": "stream",
     "text": [
      "Creating the cell patches\n",
      "Done\n",
      "Now let's do the prediction!\n"
     ]
    },
    {
     "name": "stderr",
     "output_type": "stream",
     "text": [
      "Using cache found in /home/aa-ssun2-cmp/.cache/torch/hub/pytorch_vision_v0.10.0\n",
      " 70%|██████▉   | 418/598 [29:49<13:20,  4.45s/it]Using cache found in /home/aa-ssun2-cmp/.cache/torch/hub/pytorch_vision_v0.10.0\n"
     ]
    },
    {
     "name": "stdout",
     "output_type": "stream",
     "text": [
      "Creating the cell patches\n",
      "Done\n",
      "Now let's do the prediction!\n"
     ]
    },
    {
     "name": "stderr",
     "output_type": "stream",
     "text": [
      " 70%|███████   | 419/598 [29:53<13:09,  4.41s/it]Using cache found in /home/aa-ssun2-cmp/.cache/torch/hub/pytorch_vision_v0.10.0\n"
     ]
    },
    {
     "name": "stdout",
     "output_type": "stream",
     "text": [
      "Creating the cell patches\n",
      "Done\n",
      "Now let's do the prediction!\n"
     ]
    },
    {
     "name": "stderr",
     "output_type": "stream",
     "text": [
      " 70%|███████   | 420/598 [29:58<13:06,  4.42s/it]Using cache found in /home/aa-ssun2-cmp/.cache/torch/hub/pytorch_vision_v0.10.0\n"
     ]
    },
    {
     "name": "stdout",
     "output_type": "stream",
     "text": [
      "Creating the cell patches\n",
      "Done\n",
      "Now let's do the prediction!\n"
     ]
    },
    {
     "name": "stderr",
     "output_type": "stream",
     "text": [
      "\r",
      " 70%|███████   | 421/598 [30:01<11:54,  4.04s/it]"
     ]
    },
    {
     "name": "stdout",
     "output_type": "stream",
     "text": [
      "Creating the cell patches\n",
      "Done\n",
      "Now let's do the prediction!\n"
     ]
    },
    {
     "name": "stderr",
     "output_type": "stream",
     "text": [
      "Using cache found in /home/aa-ssun2-cmp/.cache/torch/hub/pytorch_vision_v0.10.0\n",
      " 71%|███████   | 422/598 [30:07<14:00,  4.78s/it]Using cache found in /home/aa-ssun2-cmp/.cache/torch/hub/pytorch_vision_v0.10.0\n"
     ]
    },
    {
     "name": "stdout",
     "output_type": "stream",
     "text": [
      "Creating the cell patches\n",
      "Done\n",
      "Now let's do the prediction!\n"
     ]
    },
    {
     "name": "stderr",
     "output_type": "stream",
     "text": [
      " 71%|███████   | 423/598 [30:11<12:50,  4.40s/it]Using cache found in /home/aa-ssun2-cmp/.cache/torch/hub/pytorch_vision_v0.10.0\n"
     ]
    },
    {
     "name": "stdout",
     "output_type": "stream",
     "text": [
      "Creating the cell patches\n",
      "Done\n",
      "Now let's do the prediction!\n"
     ]
    },
    {
     "name": "stderr",
     "output_type": "stream",
     "text": [
      " 71%|███████   | 424/598 [30:14<11:47,  4.07s/it]Using cache found in /home/aa-ssun2-cmp/.cache/torch/hub/pytorch_vision_v0.10.0\n"
     ]
    },
    {
     "name": "stdout",
     "output_type": "stream",
     "text": [
      "Creating the cell patches\n",
      "Done\n",
      "Now let's do the prediction!\n"
     ]
    },
    {
     "name": "stderr",
     "output_type": "stream",
     "text": [
      " 71%|███████   | 425/598 [30:18<11:49,  4.10s/it]Using cache found in /home/aa-ssun2-cmp/.cache/torch/hub/pytorch_vision_v0.10.0\n"
     ]
    },
    {
     "name": "stdout",
     "output_type": "stream",
     "text": [
      "Creating the cell patches\n",
      "Done\n",
      "Now let's do the prediction!\n"
     ]
    },
    {
     "name": "stderr",
     "output_type": "stream",
     "text": [
      " 71%|███████   | 426/598 [30:23<12:23,  4.32s/it]Using cache found in /home/aa-ssun2-cmp/.cache/torch/hub/pytorch_vision_v0.10.0\n"
     ]
    },
    {
     "name": "stdout",
     "output_type": "stream",
     "text": [
      "Creating the cell patches\n",
      "Done\n",
      "Now let's do the prediction!\n"
     ]
    },
    {
     "name": "stderr",
     "output_type": "stream",
     "text": [
      " 71%|███████▏  | 427/598 [30:26<11:18,  3.97s/it]Using cache found in /home/aa-ssun2-cmp/.cache/torch/hub/pytorch_vision_v0.10.0\n"
     ]
    },
    {
     "name": "stdout",
     "output_type": "stream",
     "text": [
      "Creating the cell patches\n",
      "Done\n",
      "Now let's do the prediction!\n"
     ]
    },
    {
     "name": "stderr",
     "output_type": "stream",
     "text": [
      "\r",
      " 72%|███████▏  | 428/598 [30:31<12:06,  4.27s/it]"
     ]
    },
    {
     "name": "stdout",
     "output_type": "stream",
     "text": [
      "Creating the cell patches\n",
      "Done\n",
      "Now let's do the prediction!\n"
     ]
    },
    {
     "name": "stderr",
     "output_type": "stream",
     "text": [
      "Using cache found in /home/aa-ssun2-cmp/.cache/torch/hub/pytorch_vision_v0.10.0\n",
      " 72%|███████▏  | 429/598 [30:35<11:42,  4.16s/it]"
     ]
    },
    {
     "name": "stdout",
     "output_type": "stream",
     "text": [
      "Creating the cell patches\n",
      "Done\n",
      "Now let's do the prediction!\n"
     ]
    },
    {
     "name": "stderr",
     "output_type": "stream",
     "text": [
      "Using cache found in /home/aa-ssun2-cmp/.cache/torch/hub/pytorch_vision_v0.10.0\n",
      " 72%|███████▏  | 430/598 [30:40<12:33,  4.49s/it]"
     ]
    },
    {
     "name": "stdout",
     "output_type": "stream",
     "text": [
      "Creating the cell patches\n",
      "Done\n",
      "Now let's do the prediction!\n"
     ]
    },
    {
     "name": "stderr",
     "output_type": "stream",
     "text": [
      "Using cache found in /home/aa-ssun2-cmp/.cache/torch/hub/pytorch_vision_v0.10.0\n",
      " 72%|███████▏  | 431/598 [30:44<11:44,  4.22s/it]Using cache found in /home/aa-ssun2-cmp/.cache/torch/hub/pytorch_vision_v0.10.0\n"
     ]
    },
    {
     "name": "stdout",
     "output_type": "stream",
     "text": [
      "Creating the cell patches\n",
      "Done\n",
      "Now let's do the prediction!\n"
     ]
    },
    {
     "name": "stderr",
     "output_type": "stream",
     "text": [
      "\r",
      " 72%|███████▏  | 432/598 [30:49<11:52,  4.29s/it]"
     ]
    },
    {
     "name": "stdout",
     "output_type": "stream",
     "text": [
      "Creating the cell patches\n",
      "Done\n",
      "Now let's do the prediction!\n"
     ]
    },
    {
     "name": "stderr",
     "output_type": "stream",
     "text": [
      "Using cache found in /home/aa-ssun2-cmp/.cache/torch/hub/pytorch_vision_v0.10.0\n",
      " 72%|███████▏  | 433/598 [30:53<11:41,  4.25s/it]Using cache found in /home/aa-ssun2-cmp/.cache/torch/hub/pytorch_vision_v0.10.0\n"
     ]
    },
    {
     "name": "stdout",
     "output_type": "stream",
     "text": [
      "Creating the cell patches\n",
      "Done\n",
      "Now let's do the prediction!\n"
     ]
    },
    {
     "name": "stderr",
     "output_type": "stream",
     "text": [
      " 73%|███████▎  | 434/598 [30:57<11:31,  4.22s/it]Using cache found in /home/aa-ssun2-cmp/.cache/torch/hub/pytorch_vision_v0.10.0\n"
     ]
    },
    {
     "name": "stdout",
     "output_type": "stream",
     "text": [
      "Creating the cell patches\n",
      "Done\n",
      "Now let's do the prediction!\n"
     ]
    },
    {
     "name": "stderr",
     "output_type": "stream",
     "text": [
      " 73%|███████▎  | 435/598 [31:01<11:49,  4.35s/it]Using cache found in /home/aa-ssun2-cmp/.cache/torch/hub/pytorch_vision_v0.10.0\n"
     ]
    },
    {
     "name": "stdout",
     "output_type": "stream",
     "text": [
      "Creating the cell patches\n",
      "Done\n",
      "Now let's do the prediction!\n"
     ]
    },
    {
     "name": "stderr",
     "output_type": "stream",
     "text": [
      " 73%|███████▎  | 436/598 [31:06<12:10,  4.51s/it]Using cache found in /home/aa-ssun2-cmp/.cache/torch/hub/pytorch_vision_v0.10.0\n"
     ]
    },
    {
     "name": "stdout",
     "output_type": "stream",
     "text": [
      "Creating the cell patches\n",
      "Done\n",
      "Now let's do the prediction!\n"
     ]
    },
    {
     "name": "stderr",
     "output_type": "stream",
     "text": [
      " 73%|███████▎  | 437/598 [31:12<12:49,  4.78s/it]Using cache found in /home/aa-ssun2-cmp/.cache/torch/hub/pytorch_vision_v0.10.0\n"
     ]
    },
    {
     "name": "stdout",
     "output_type": "stream",
     "text": [
      "Creating the cell patches\n",
      "Done\n",
      "Now let's do the prediction!\n"
     ]
    },
    {
     "name": "stderr",
     "output_type": "stream",
     "text": [
      "\r",
      " 73%|███████▎  | 438/598 [31:16<12:16,  4.61s/it]"
     ]
    },
    {
     "name": "stdout",
     "output_type": "stream",
     "text": [
      "Creating the cell patches\n",
      "Done\n",
      "Now let's do the prediction!\n"
     ]
    },
    {
     "name": "stderr",
     "output_type": "stream",
     "text": [
      "Using cache found in /home/aa-ssun2-cmp/.cache/torch/hub/pytorch_vision_v0.10.0\n",
      " 73%|███████▎  | 439/598 [31:20<11:48,  4.45s/it]Using cache found in /home/aa-ssun2-cmp/.cache/torch/hub/pytorch_vision_v0.10.0\n"
     ]
    },
    {
     "name": "stdout",
     "output_type": "stream",
     "text": [
      "Creating the cell patches\n",
      "Done\n",
      "Now let's do the prediction!\n"
     ]
    },
    {
     "name": "stderr",
     "output_type": "stream",
     "text": [
      "\r",
      " 74%|███████▎  | 440/598 [31:24<11:03,  4.20s/it]"
     ]
    },
    {
     "name": "stdout",
     "output_type": "stream",
     "text": [
      "Creating the cell patches\n",
      "Done\n",
      "Now let's do the prediction!\n"
     ]
    },
    {
     "name": "stderr",
     "output_type": "stream",
     "text": [
      "Using cache found in /home/aa-ssun2-cmp/.cache/torch/hub/pytorch_vision_v0.10.0\n",
      " 74%|███████▎  | 441/598 [31:28<10:44,  4.10s/it]"
     ]
    },
    {
     "name": "stdout",
     "output_type": "stream",
     "text": [
      "Creating the cell patches\n",
      "Done\n",
      "Now let's do the prediction!\n"
     ]
    },
    {
     "name": "stderr",
     "output_type": "stream",
     "text": [
      "Using cache found in /home/aa-ssun2-cmp/.cache/torch/hub/pytorch_vision_v0.10.0\n",
      " 74%|███████▍  | 442/598 [31:31<10:22,  3.99s/it]"
     ]
    },
    {
     "name": "stdout",
     "output_type": "stream",
     "text": [
      "Creating the cell patches\n",
      "Done\n",
      "Now let's do the prediction!\n"
     ]
    },
    {
     "name": "stderr",
     "output_type": "stream",
     "text": [
      "Using cache found in /home/aa-ssun2-cmp/.cache/torch/hub/pytorch_vision_v0.10.0\n",
      " 74%|███████▍  | 443/598 [31:37<11:39,  4.51s/it]"
     ]
    },
    {
     "name": "stdout",
     "output_type": "stream",
     "text": [
      "Creating the cell patches\n",
      "Done\n",
      "Now let's do the prediction!\n"
     ]
    },
    {
     "name": "stderr",
     "output_type": "stream",
     "text": [
      "Using cache found in /home/aa-ssun2-cmp/.cache/torch/hub/pytorch_vision_v0.10.0\n",
      " 74%|███████▍  | 444/598 [31:40<10:40,  4.16s/it]"
     ]
    },
    {
     "name": "stdout",
     "output_type": "stream",
     "text": [
      "Creating the cell patches\n",
      "Done\n",
      "Now let's do the prediction!\n"
     ]
    },
    {
     "name": "stderr",
     "output_type": "stream",
     "text": [
      "Using cache found in /home/aa-ssun2-cmp/.cache/torch/hub/pytorch_vision_v0.10.0\n",
      " 74%|███████▍  | 445/598 [31:45<11:09,  4.37s/it]Using cache found in /home/aa-ssun2-cmp/.cache/torch/hub/pytorch_vision_v0.10.0\n"
     ]
    },
    {
     "name": "stdout",
     "output_type": "stream",
     "text": [
      "Creating the cell patches\n",
      "Done\n",
      "Now let's do the prediction!\n"
     ]
    },
    {
     "name": "stderr",
     "output_type": "stream",
     "text": [
      "\r",
      " 75%|███████▍  | 446/598 [31:49<10:15,  4.05s/it]"
     ]
    },
    {
     "name": "stdout",
     "output_type": "stream",
     "text": [
      "Creating the cell patches\n",
      "Done\n",
      "Now let's do the prediction!\n"
     ]
    },
    {
     "name": "stderr",
     "output_type": "stream",
     "text": [
      "Using cache found in /home/aa-ssun2-cmp/.cache/torch/hub/pytorch_vision_v0.10.0\n",
      " 75%|███████▍  | 447/598 [31:53<10:35,  4.21s/it]Using cache found in /home/aa-ssun2-cmp/.cache/torch/hub/pytorch_vision_v0.10.0\n"
     ]
    },
    {
     "name": "stdout",
     "output_type": "stream",
     "text": [
      "Creating the cell patches\n",
      "Done\n",
      "Now let's do the prediction!\n"
     ]
    },
    {
     "name": "stderr",
     "output_type": "stream",
     "text": [
      " 75%|███████▍  | 448/598 [31:57<10:04,  4.03s/it]Using cache found in /home/aa-ssun2-cmp/.cache/torch/hub/pytorch_vision_v0.10.0\n"
     ]
    },
    {
     "name": "stdout",
     "output_type": "stream",
     "text": [
      "Creating the cell patches\n",
      "Done\n",
      "Now let's do the prediction!\n"
     ]
    },
    {
     "name": "stderr",
     "output_type": "stream",
     "text": [
      " 75%|███████▌  | 449/598 [32:02<10:45,  4.34s/it]Using cache found in /home/aa-ssun2-cmp/.cache/torch/hub/pytorch_vision_v0.10.0\n"
     ]
    },
    {
     "name": "stdout",
     "output_type": "stream",
     "text": [
      "Creating the cell patches\n",
      "Done\n",
      "Now let's do the prediction!\n"
     ]
    },
    {
     "name": "stderr",
     "output_type": "stream",
     "text": [
      "\r",
      " 75%|███████▌  | 450/598 [32:06<10:27,  4.24s/it]"
     ]
    },
    {
     "name": "stdout",
     "output_type": "stream",
     "text": [
      "Creating the cell patches\n",
      "Done\n",
      "Now let's do the prediction!\n"
     ]
    },
    {
     "name": "stderr",
     "output_type": "stream",
     "text": [
      "Using cache found in /home/aa-ssun2-cmp/.cache/torch/hub/pytorch_vision_v0.10.0\n",
      " 75%|███████▌  | 451/598 [32:11<10:47,  4.41s/it]Using cache found in /home/aa-ssun2-cmp/.cache/torch/hub/pytorch_vision_v0.10.0\n"
     ]
    },
    {
     "name": "stdout",
     "output_type": "stream",
     "text": [
      "Creating the cell patches\n",
      "Done\n",
      "Now let's do the prediction!\n"
     ]
    },
    {
     "name": "stderr",
     "output_type": "stream",
     "text": [
      " 76%|███████▌  | 452/598 [32:14<09:56,  4.08s/it]Using cache found in /home/aa-ssun2-cmp/.cache/torch/hub/pytorch_vision_v0.10.0\n"
     ]
    },
    {
     "name": "stdout",
     "output_type": "stream",
     "text": [
      "Creating the cell patches\n",
      "Done\n",
      "Now let's do the prediction!\n"
     ]
    },
    {
     "name": "stderr",
     "output_type": "stream",
     "text": [
      "\r",
      " 76%|███████▌  | 453/598 [32:19<10:23,  4.30s/it]"
     ]
    },
    {
     "name": "stdout",
     "output_type": "stream",
     "text": [
      "Creating the cell patches\n",
      "Done\n",
      "Now let's do the prediction!\n"
     ]
    },
    {
     "name": "stderr",
     "output_type": "stream",
     "text": [
      "Using cache found in /home/aa-ssun2-cmp/.cache/torch/hub/pytorch_vision_v0.10.0\n",
      " 76%|███████▌  | 454/598 [32:23<10:31,  4.39s/it]Using cache found in /home/aa-ssun2-cmp/.cache/torch/hub/pytorch_vision_v0.10.0\n"
     ]
    },
    {
     "name": "stdout",
     "output_type": "stream",
     "text": [
      "Creating the cell patches\n",
      "Done\n",
      "Now let's do the prediction!\n"
     ]
    },
    {
     "name": "stderr",
     "output_type": "stream",
     "text": [
      " 76%|███████▌  | 455/598 [32:27<09:38,  4.05s/it]Using cache found in /home/aa-ssun2-cmp/.cache/torch/hub/pytorch_vision_v0.10.0\n"
     ]
    },
    {
     "name": "stdout",
     "output_type": "stream",
     "text": [
      "Creating the cell patches\n",
      "Done\n",
      "Now let's do the prediction!\n"
     ]
    },
    {
     "name": "stderr",
     "output_type": "stream",
     "text": [
      " 76%|███████▋  | 456/598 [32:30<09:27,  4.00s/it]Using cache found in /home/aa-ssun2-cmp/.cache/torch/hub/pytorch_vision_v0.10.0\n"
     ]
    },
    {
     "name": "stdout",
     "output_type": "stream",
     "text": [
      "Creating the cell patches\n",
      "Done\n",
      "Now let's do the prediction!\n"
     ]
    },
    {
     "name": "stderr",
     "output_type": "stream",
     "text": [
      " 76%|███████▋  | 457/598 [32:34<09:21,  3.98s/it]Using cache found in /home/aa-ssun2-cmp/.cache/torch/hub/pytorch_vision_v0.10.0\n"
     ]
    },
    {
     "name": "stdout",
     "output_type": "stream",
     "text": [
      "Creating the cell patches\n",
      "Done\n",
      "Now let's do the prediction!\n"
     ]
    },
    {
     "name": "stderr",
     "output_type": "stream",
     "text": [
      " 77%|███████▋  | 458/598 [32:40<10:11,  4.37s/it]Using cache found in /home/aa-ssun2-cmp/.cache/torch/hub/pytorch_vision_v0.10.0\n"
     ]
    },
    {
     "name": "stdout",
     "output_type": "stream",
     "text": [
      "Creating the cell patches\n",
      "Done\n",
      "Now let's do the prediction!\n"
     ]
    },
    {
     "name": "stderr",
     "output_type": "stream",
     "text": [
      "\r",
      " 77%|███████▋  | 459/598 [32:44<10:17,  4.44s/it]"
     ]
    },
    {
     "name": "stdout",
     "output_type": "stream",
     "text": [
      "Creating the cell patches\n",
      "Done\n",
      "Now let's do the prediction!\n"
     ]
    },
    {
     "name": "stderr",
     "output_type": "stream",
     "text": [
      "Using cache found in /home/aa-ssun2-cmp/.cache/torch/hub/pytorch_vision_v0.10.0\n",
      " 77%|███████▋  | 460/598 [32:48<09:45,  4.24s/it]"
     ]
    },
    {
     "name": "stdout",
     "output_type": "stream",
     "text": [
      "Creating the cell patches\n",
      "Done\n",
      "Now let's do the prediction!\n"
     ]
    },
    {
     "name": "stderr",
     "output_type": "stream",
     "text": [
      "Using cache found in /home/aa-ssun2-cmp/.cache/torch/hub/pytorch_vision_v0.10.0\n",
      " 77%|███████▋  | 461/598 [32:51<09:05,  3.98s/it]"
     ]
    },
    {
     "name": "stdout",
     "output_type": "stream",
     "text": [
      "Creating the cell patches\n",
      "Done\n",
      "Now let's do the prediction!\n"
     ]
    },
    {
     "name": "stderr",
     "output_type": "stream",
     "text": [
      "Using cache found in /home/aa-ssun2-cmp/.cache/torch/hub/pytorch_vision_v0.10.0\n",
      " 77%|███████▋  | 462/598 [32:56<09:24,  4.15s/it]Using cache found in /home/aa-ssun2-cmp/.cache/torch/hub/pytorch_vision_v0.10.0\n"
     ]
    },
    {
     "name": "stdout",
     "output_type": "stream",
     "text": [
      "Creating the cell patches\n",
      "Done\n",
      "Now let's do the prediction!\n"
     ]
    },
    {
     "name": "stderr",
     "output_type": "stream",
     "text": [
      " 77%|███████▋  | 463/598 [33:00<09:07,  4.06s/it]Using cache found in /home/aa-ssun2-cmp/.cache/torch/hub/pytorch_vision_v0.10.0\n"
     ]
    },
    {
     "name": "stdout",
     "output_type": "stream",
     "text": [
      "Creating the cell patches\n",
      "Done\n",
      "Now let's do the prediction!\n"
     ]
    },
    {
     "name": "stderr",
     "output_type": "stream",
     "text": [
      " 78%|███████▊  | 464/598 [33:04<09:19,  4.17s/it]Using cache found in /home/aa-ssun2-cmp/.cache/torch/hub/pytorch_vision_v0.10.0\n"
     ]
    },
    {
     "name": "stdout",
     "output_type": "stream",
     "text": [
      "Creating the cell patches\n",
      "Done\n",
      "Now let's do the prediction!\n"
     ]
    },
    {
     "name": "stderr",
     "output_type": "stream",
     "text": [
      " 78%|███████▊  | 465/598 [33:08<09:18,  4.20s/it]Using cache found in /home/aa-ssun2-cmp/.cache/torch/hub/pytorch_vision_v0.10.0\n"
     ]
    },
    {
     "name": "stdout",
     "output_type": "stream",
     "text": [
      "Creating the cell patches\n",
      "Done\n",
      "Now let's do the prediction!\n"
     ]
    },
    {
     "name": "stderr",
     "output_type": "stream",
     "text": [
      " 78%|███████▊  | 466/598 [33:14<10:02,  4.57s/it]Using cache found in /home/aa-ssun2-cmp/.cache/torch/hub/pytorch_vision_v0.10.0\n"
     ]
    },
    {
     "name": "stdout",
     "output_type": "stream",
     "text": [
      "Creating the cell patches\n",
      "Done\n",
      "Now let's do the prediction!\n"
     ]
    },
    {
     "name": "stderr",
     "output_type": "stream",
     "text": [
      " 78%|███████▊  | 467/598 [33:19<10:06,  4.63s/it]Using cache found in /home/aa-ssun2-cmp/.cache/torch/hub/pytorch_vision_v0.10.0\n"
     ]
    },
    {
     "name": "stdout",
     "output_type": "stream",
     "text": [
      "Creating the cell patches\n",
      "Done\n",
      "Now let's do the prediction!\n"
     ]
    },
    {
     "name": "stderr",
     "output_type": "stream",
     "text": [
      " 78%|███████▊  | 468/598 [33:23<09:57,  4.60s/it]Using cache found in /home/aa-ssun2-cmp/.cache/torch/hub/pytorch_vision_v0.10.0\n"
     ]
    },
    {
     "name": "stdout",
     "output_type": "stream",
     "text": [
      "Creating the cell patches\n",
      "Done\n",
      "Now let's do the prediction!\n"
     ]
    },
    {
     "name": "stderr",
     "output_type": "stream",
     "text": [
      " 78%|███████▊  | 469/598 [33:27<09:34,  4.46s/it]Using cache found in /home/aa-ssun2-cmp/.cache/torch/hub/pytorch_vision_v0.10.0\n"
     ]
    },
    {
     "name": "stdout",
     "output_type": "stream",
     "text": [
      "Creating the cell patches\n",
      "Done\n",
      "Now let's do the prediction!\n"
     ]
    },
    {
     "name": "stderr",
     "output_type": "stream",
     "text": [
      " 79%|███████▊  | 470/598 [33:31<08:48,  4.13s/it]Using cache found in /home/aa-ssun2-cmp/.cache/torch/hub/pytorch_vision_v0.10.0\n"
     ]
    },
    {
     "name": "stdout",
     "output_type": "stream",
     "text": [
      "Creating the cell patches\n",
      "Done\n",
      "Now let's do the prediction!\n"
     ]
    },
    {
     "name": "stderr",
     "output_type": "stream",
     "text": [
      "\r",
      " 79%|███████▉  | 471/598 [33:35<08:58,  4.24s/it]"
     ]
    },
    {
     "name": "stdout",
     "output_type": "stream",
     "text": [
      "Creating the cell patches\n",
      "Done\n",
      "Now let's do the prediction!\n"
     ]
    },
    {
     "name": "stderr",
     "output_type": "stream",
     "text": [
      "Using cache found in /home/aa-ssun2-cmp/.cache/torch/hub/pytorch_vision_v0.10.0\n",
      " 79%|███████▉  | 472/598 [33:39<08:52,  4.23s/it]Using cache found in /home/aa-ssun2-cmp/.cache/torch/hub/pytorch_vision_v0.10.0\n"
     ]
    },
    {
     "name": "stdout",
     "output_type": "stream",
     "text": [
      "Creating the cell patches\n",
      "Done\n",
      "Now let's do the prediction!\n"
     ]
    },
    {
     "name": "stderr",
     "output_type": "stream",
     "text": [
      " 79%|███████▉  | 473/598 [33:44<08:49,  4.24s/it]Using cache found in /home/aa-ssun2-cmp/.cache/torch/hub/pytorch_vision_v0.10.0\n"
     ]
    },
    {
     "name": "stdout",
     "output_type": "stream",
     "text": [
      "Creating the cell patches\n",
      "Done\n",
      "Now let's do the prediction!\n"
     ]
    },
    {
     "name": "stderr",
     "output_type": "stream",
     "text": [
      " 79%|███████▉  | 474/598 [33:47<08:13,  3.98s/it]Using cache found in /home/aa-ssun2-cmp/.cache/torch/hub/pytorch_vision_v0.10.0\n"
     ]
    },
    {
     "name": "stdout",
     "output_type": "stream",
     "text": [
      "Creating the cell patches\n",
      "Done\n",
      "Now let's do the prediction!\n"
     ]
    },
    {
     "name": "stderr",
     "output_type": "stream",
     "text": [
      "\r",
      " 79%|███████▉  | 475/598 [33:50<07:44,  3.77s/it]"
     ]
    },
    {
     "name": "stdout",
     "output_type": "stream",
     "text": [
      "Creating the cell patches\n",
      "Done\n",
      "Now let's do the prediction!\n"
     ]
    },
    {
     "name": "stderr",
     "output_type": "stream",
     "text": [
      "Using cache found in /home/aa-ssun2-cmp/.cache/torch/hub/pytorch_vision_v0.10.0\n",
      " 80%|███████▉  | 476/598 [33:54<07:24,  3.64s/it]"
     ]
    },
    {
     "name": "stdout",
     "output_type": "stream",
     "text": [
      "Creating the cell patches\n",
      "Done\n",
      "Now let's do the prediction!\n"
     ]
    },
    {
     "name": "stderr",
     "output_type": "stream",
     "text": [
      "Using cache found in /home/aa-ssun2-cmp/.cache/torch/hub/pytorch_vision_v0.10.0\n",
      " 80%|███████▉  | 477/598 [33:59<08:05,  4.02s/it]Using cache found in /home/aa-ssun2-cmp/.cache/torch/hub/pytorch_vision_v0.10.0\n"
     ]
    },
    {
     "name": "stdout",
     "output_type": "stream",
     "text": [
      "Creating the cell patches\n",
      "Done\n",
      "Now let's do the prediction!\n"
     ]
    },
    {
     "name": "stderr",
     "output_type": "stream",
     "text": [
      " 80%|███████▉  | 478/598 [34:02<07:57,  3.98s/it]Using cache found in /home/aa-ssun2-cmp/.cache/torch/hub/pytorch_vision_v0.10.0\n"
     ]
    },
    {
     "name": "stdout",
     "output_type": "stream",
     "text": [
      "Creating the cell patches\n",
      "Done\n",
      "Now let's do the prediction!\n"
     ]
    },
    {
     "name": "stderr",
     "output_type": "stream",
     "text": [
      "\r",
      " 80%|████████  | 479/598 [34:08<08:36,  4.34s/it]"
     ]
    },
    {
     "name": "stdout",
     "output_type": "stream",
     "text": [
      "Creating the cell patches\n",
      "Done\n",
      "Now let's do the prediction!\n"
     ]
    },
    {
     "name": "stderr",
     "output_type": "stream",
     "text": [
      "Using cache found in /home/aa-ssun2-cmp/.cache/torch/hub/pytorch_vision_v0.10.0\n",
      " 80%|████████  | 480/598 [34:12<08:43,  4.43s/it]Using cache found in /home/aa-ssun2-cmp/.cache/torch/hub/pytorch_vision_v0.10.0\n"
     ]
    },
    {
     "name": "stdout",
     "output_type": "stream",
     "text": [
      "Creating the cell patches\n",
      "Done\n",
      "Now let's do the prediction!\n"
     ]
    },
    {
     "name": "stderr",
     "output_type": "stream",
     "text": [
      " 80%|████████  | 481/598 [34:17<08:40,  4.45s/it]Using cache found in /home/aa-ssun2-cmp/.cache/torch/hub/pytorch_vision_v0.10.0\n"
     ]
    },
    {
     "name": "stdout",
     "output_type": "stream",
     "text": [
      "Creating the cell patches\n",
      "Done\n",
      "Now let's do the prediction!\n"
     ]
    },
    {
     "name": "stderr",
     "output_type": "stream",
     "text": [
      " 81%|████████  | 482/598 [34:21<08:11,  4.24s/it]Using cache found in /home/aa-ssun2-cmp/.cache/torch/hub/pytorch_vision_v0.10.0\n"
     ]
    },
    {
     "name": "stdout",
     "output_type": "stream",
     "text": [
      "Creating the cell patches\n",
      "Done\n",
      "Now let's do the prediction!\n"
     ]
    },
    {
     "name": "stderr",
     "output_type": "stream",
     "text": [
      " 81%|████████  | 483/598 [34:25<08:01,  4.18s/it]Using cache found in /home/aa-ssun2-cmp/.cache/torch/hub/pytorch_vision_v0.10.0\n"
     ]
    },
    {
     "name": "stdout",
     "output_type": "stream",
     "text": [
      "Creating the cell patches\n",
      "Done\n",
      "Now let's do the prediction!\n"
     ]
    },
    {
     "name": "stderr",
     "output_type": "stream",
     "text": [
      " 81%|████████  | 484/598 [34:28<07:23,  3.89s/it]Using cache found in /home/aa-ssun2-cmp/.cache/torch/hub/pytorch_vision_v0.10.0\n"
     ]
    },
    {
     "name": "stdout",
     "output_type": "stream",
     "text": [
      "Creating the cell patches\n",
      "Done\n",
      "Now let's do the prediction!\n"
     ]
    },
    {
     "name": "stderr",
     "output_type": "stream",
     "text": [
      " 81%|████████  | 485/598 [34:31<07:02,  3.74s/it]Using cache found in /home/aa-ssun2-cmp/.cache/torch/hub/pytorch_vision_v0.10.0\n"
     ]
    },
    {
     "name": "stdout",
     "output_type": "stream",
     "text": [
      "Creating the cell patches\n",
      "Done\n",
      "Now let's do the prediction!\n"
     ]
    },
    {
     "name": "stderr",
     "output_type": "stream",
     "text": [
      "\r",
      " 81%|████████▏ | 486/598 [34:35<06:46,  3.63s/it]"
     ]
    },
    {
     "name": "stdout",
     "output_type": "stream",
     "text": [
      "Creating the cell patches\n",
      "Done\n",
      "Now let's do the prediction!\n"
     ]
    },
    {
     "name": "stderr",
     "output_type": "stream",
     "text": [
      "Using cache found in /home/aa-ssun2-cmp/.cache/torch/hub/pytorch_vision_v0.10.0\n",
      " 81%|████████▏ | 487/598 [34:39<07:16,  3.93s/it]"
     ]
    },
    {
     "name": "stdout",
     "output_type": "stream",
     "text": [
      "Creating the cell patches\n",
      "Done\n",
      "Now let's do the prediction!\n"
     ]
    },
    {
     "name": "stderr",
     "output_type": "stream",
     "text": [
      "Using cache found in /home/aa-ssun2-cmp/.cache/torch/hub/pytorch_vision_v0.10.0\n",
      " 82%|████████▏ | 488/598 [34:43<07:23,  4.03s/it]Using cache found in /home/aa-ssun2-cmp/.cache/torch/hub/pytorch_vision_v0.10.0\n"
     ]
    },
    {
     "name": "stdout",
     "output_type": "stream",
     "text": [
      "Creating the cell patches\n",
      "Done\n",
      "Now let's do the prediction!\n"
     ]
    },
    {
     "name": "stderr",
     "output_type": "stream",
     "text": [
      " 82%|████████▏ | 489/598 [34:47<07:17,  4.01s/it]Using cache found in /home/aa-ssun2-cmp/.cache/torch/hub/pytorch_vision_v0.10.0\n"
     ]
    },
    {
     "name": "stdout",
     "output_type": "stream",
     "text": [
      "Creating the cell patches\n",
      "Done\n",
      "Now let's do the prediction!\n"
     ]
    },
    {
     "name": "stderr",
     "output_type": "stream",
     "text": [
      " 82%|████████▏ | 490/598 [34:51<06:45,  3.75s/it]Using cache found in /home/aa-ssun2-cmp/.cache/torch/hub/pytorch_vision_v0.10.0\n"
     ]
    },
    {
     "name": "stdout",
     "output_type": "stream",
     "text": [
      "Creating the cell patches\n",
      "Done\n",
      "Now let's do the prediction!\n"
     ]
    },
    {
     "name": "stderr",
     "output_type": "stream",
     "text": [
      " 82%|████████▏ | 491/598 [34:54<06:47,  3.81s/it]Using cache found in /home/aa-ssun2-cmp/.cache/torch/hub/pytorch_vision_v0.10.0\n"
     ]
    },
    {
     "name": "stdout",
     "output_type": "stream",
     "text": [
      "Creating the cell patches\n",
      "Done\n",
      "Now let's do the prediction!\n"
     ]
    },
    {
     "name": "stderr",
     "output_type": "stream",
     "text": [
      " 82%|████████▏ | 492/598 [34:59<06:59,  3.96s/it]Using cache found in /home/aa-ssun2-cmp/.cache/torch/hub/pytorch_vision_v0.10.0\n"
     ]
    },
    {
     "name": "stdout",
     "output_type": "stream",
     "text": [
      "Creating the cell patches\n",
      "Done\n",
      "Now let's do the prediction!\n"
     ]
    },
    {
     "name": "stderr",
     "output_type": "stream",
     "text": [
      " 82%|████████▏ | 493/598 [35:03<06:58,  3.99s/it]Using cache found in /home/aa-ssun2-cmp/.cache/torch/hub/pytorch_vision_v0.10.0\n"
     ]
    },
    {
     "name": "stdout",
     "output_type": "stream",
     "text": [
      "Creating the cell patches\n",
      "Done\n",
      "Now let's do the prediction!\n"
     ]
    },
    {
     "name": "stderr",
     "output_type": "stream",
     "text": [
      "\r",
      " 83%|████████▎ | 494/598 [35:08<07:20,  4.23s/it]"
     ]
    },
    {
     "name": "stdout",
     "output_type": "stream",
     "text": [
      "Creating the cell patches\n",
      "Done\n",
      "Now let's do the prediction!\n"
     ]
    },
    {
     "name": "stderr",
     "output_type": "stream",
     "text": [
      "Using cache found in /home/aa-ssun2-cmp/.cache/torch/hub/pytorch_vision_v0.10.0\n",
      " 83%|████████▎ | 495/598 [35:12<07:04,  4.12s/it]Using cache found in /home/aa-ssun2-cmp/.cache/torch/hub/pytorch_vision_v0.10.0\n"
     ]
    },
    {
     "name": "stdout",
     "output_type": "stream",
     "text": [
      "Creating the cell patches\n",
      "Done\n",
      "Now let's do the prediction!\n"
     ]
    },
    {
     "name": "stderr",
     "output_type": "stream",
     "text": [
      " 83%|████████▎ | 496/598 [35:15<06:35,  3.88s/it]Using cache found in /home/aa-ssun2-cmp/.cache/torch/hub/pytorch_vision_v0.10.0\n"
     ]
    },
    {
     "name": "stdout",
     "output_type": "stream",
     "text": [
      "Creating the cell patches\n",
      "Done\n",
      "Now let's do the prediction!\n"
     ]
    },
    {
     "name": "stderr",
     "output_type": "stream",
     "text": [
      "\r",
      " 83%|████████▎ | 497/598 [35:19<06:36,  3.93s/it]"
     ]
    },
    {
     "name": "stdout",
     "output_type": "stream",
     "text": [
      "Creating the cell patches\n",
      "Done\n",
      "Now let's do the prediction!\n"
     ]
    },
    {
     "name": "stderr",
     "output_type": "stream",
     "text": [
      "Using cache found in /home/aa-ssun2-cmp/.cache/torch/hub/pytorch_vision_v0.10.0\n",
      " 83%|████████▎ | 498/598 [35:22<06:18,  3.78s/it]Using cache found in /home/aa-ssun2-cmp/.cache/torch/hub/pytorch_vision_v0.10.0\n"
     ]
    },
    {
     "name": "stdout",
     "output_type": "stream",
     "text": [
      "Creating the cell patches\n",
      "Done\n",
      "Now let's do the prediction!\n"
     ]
    },
    {
     "name": "stderr",
     "output_type": "stream",
     "text": [
      "\r",
      " 83%|████████▎ | 499/598 [35:27<06:41,  4.05s/it]"
     ]
    },
    {
     "name": "stdout",
     "output_type": "stream",
     "text": [
      "Creating the cell patches\n",
      "Done\n",
      "Now let's do the prediction!\n"
     ]
    },
    {
     "name": "stderr",
     "output_type": "stream",
     "text": [
      "Using cache found in /home/aa-ssun2-cmp/.cache/torch/hub/pytorch_vision_v0.10.0\n",
      " 84%|████████▎ | 500/598 [35:31<06:39,  4.07s/it]Using cache found in /home/aa-ssun2-cmp/.cache/torch/hub/pytorch_vision_v0.10.0\n"
     ]
    },
    {
     "name": "stdout",
     "output_type": "stream",
     "text": [
      "Creating the cell patches\n",
      "Done\n",
      "Now let's do the prediction!\n"
     ]
    },
    {
     "name": "stderr",
     "output_type": "stream",
     "text": [
      "\r",
      " 84%|████████▍ | 501/598 [35:34<06:14,  3.86s/it]"
     ]
    },
    {
     "name": "stdout",
     "output_type": "stream",
     "text": [
      "Creating the cell patches\n",
      "Done\n",
      "Now let's do the prediction!\n"
     ]
    },
    {
     "name": "stderr",
     "output_type": "stream",
     "text": [
      "Using cache found in /home/aa-ssun2-cmp/.cache/torch/hub/pytorch_vision_v0.10.0\n",
      " 84%|████████▍ | 502/598 [35:39<06:40,  4.18s/it]"
     ]
    },
    {
     "name": "stdout",
     "output_type": "stream",
     "text": [
      "Creating the cell patches\n",
      "Done\n",
      "Now let's do the prediction!\n"
     ]
    },
    {
     "name": "stderr",
     "output_type": "stream",
     "text": [
      "Using cache found in /home/aa-ssun2-cmp/.cache/torch/hub/pytorch_vision_v0.10.0\n",
      " 84%|████████▍ | 503/598 [35:43<06:26,  4.07s/it]Using cache found in /home/aa-ssun2-cmp/.cache/torch/hub/pytorch_vision_v0.10.0\n"
     ]
    },
    {
     "name": "stdout",
     "output_type": "stream",
     "text": [
      "Creating the cell patches\n",
      "Done\n",
      "Now let's do the prediction!\n"
     ]
    },
    {
     "name": "stderr",
     "output_type": "stream",
     "text": [
      " 84%|████████▍ | 504/598 [35:46<05:59,  3.82s/it]Using cache found in /home/aa-ssun2-cmp/.cache/torch/hub/pytorch_vision_v0.10.0\n"
     ]
    },
    {
     "name": "stdout",
     "output_type": "stream",
     "text": [
      "Creating the cell patches\n",
      "Done\n",
      "Now let's do the prediction!\n"
     ]
    },
    {
     "name": "stderr",
     "output_type": "stream",
     "text": [
      "\r",
      " 84%|████████▍ | 505/598 [35:51<06:28,  4.18s/it]"
     ]
    },
    {
     "name": "stdout",
     "output_type": "stream",
     "text": [
      "Creating the cell patches\n",
      "Done\n",
      "Now let's do the prediction!\n"
     ]
    },
    {
     "name": "stderr",
     "output_type": "stream",
     "text": [
      "Using cache found in /home/aa-ssun2-cmp/.cache/torch/hub/pytorch_vision_v0.10.0\n",
      " 85%|████████▍ | 506/598 [35:56<06:44,  4.40s/it]"
     ]
    },
    {
     "name": "stdout",
     "output_type": "stream",
     "text": [
      "Creating the cell patches\n",
      "Done\n",
      "Now let's do the prediction!\n"
     ]
    },
    {
     "name": "stderr",
     "output_type": "stream",
     "text": [
      "Using cache found in /home/aa-ssun2-cmp/.cache/torch/hub/pytorch_vision_v0.10.0\n",
      " 85%|████████▍ | 507/598 [36:01<06:37,  4.37s/it]Using cache found in /home/aa-ssun2-cmp/.cache/torch/hub/pytorch_vision_v0.10.0\n"
     ]
    },
    {
     "name": "stdout",
     "output_type": "stream",
     "text": [
      "Creating the cell patches\n",
      "Done\n",
      "Now let's do the prediction!\n"
     ]
    },
    {
     "name": "stderr",
     "output_type": "stream",
     "text": [
      " 85%|████████▍ | 508/598 [36:05<06:30,  4.34s/it]Using cache found in /home/aa-ssun2-cmp/.cache/torch/hub/pytorch_vision_v0.10.0\n"
     ]
    },
    {
     "name": "stdout",
     "output_type": "stream",
     "text": [
      "Creating the cell patches\n",
      "Done\n",
      "Now let's do the prediction!\n"
     ]
    },
    {
     "name": "stderr",
     "output_type": "stream",
     "text": [
      " 85%|████████▌ | 509/598 [36:09<06:17,  4.25s/it]Using cache found in /home/aa-ssun2-cmp/.cache/torch/hub/pytorch_vision_v0.10.0\n"
     ]
    },
    {
     "name": "stdout",
     "output_type": "stream",
     "text": [
      "Creating the cell patches\n",
      "Done\n",
      "Now let's do the prediction!\n"
     ]
    },
    {
     "name": "stderr",
     "output_type": "stream",
     "text": [
      " 85%|████████▌ | 510/598 [36:14<06:24,  4.37s/it]Using cache found in /home/aa-ssun2-cmp/.cache/torch/hub/pytorch_vision_v0.10.0\n"
     ]
    },
    {
     "name": "stdout",
     "output_type": "stream",
     "text": [
      "Creating the cell patches\n",
      "Done\n",
      "Now let's do the prediction!\n"
     ]
    },
    {
     "name": "stderr",
     "output_type": "stream",
     "text": [
      " 85%|████████▌ | 511/598 [36:18<06:25,  4.43s/it]Using cache found in /home/aa-ssun2-cmp/.cache/torch/hub/pytorch_vision_v0.10.0\n"
     ]
    },
    {
     "name": "stdout",
     "output_type": "stream",
     "text": [
      "Creating the cell patches\n",
      "Done\n",
      "Now let's do the prediction!\n"
     ]
    },
    {
     "name": "stderr",
     "output_type": "stream",
     "text": [
      "\r",
      " 86%|████████▌ | 512/598 [36:22<05:52,  4.10s/it]"
     ]
    },
    {
     "name": "stdout",
     "output_type": "stream",
     "text": [
      "Creating the cell patches\n",
      "Done\n",
      "Now let's do the prediction!\n"
     ]
    },
    {
     "name": "stderr",
     "output_type": "stream",
     "text": [
      "Using cache found in /home/aa-ssun2-cmp/.cache/torch/hub/pytorch_vision_v0.10.0\n",
      " 86%|████████▌ | 513/598 [36:27<06:24,  4.52s/it]"
     ]
    },
    {
     "name": "stdout",
     "output_type": "stream",
     "text": [
      "Creating the cell patches\n",
      "Done\n",
      "Now let's do the prediction!\n"
     ]
    },
    {
     "name": "stderr",
     "output_type": "stream",
     "text": [
      "Using cache found in /home/aa-ssun2-cmp/.cache/torch/hub/pytorch_vision_v0.10.0\n",
      " 86%|████████▌ | 514/598 [36:33<06:51,  4.90s/it]"
     ]
    },
    {
     "name": "stdout",
     "output_type": "stream",
     "text": [
      "Creating the cell patches\n",
      "Done\n",
      "Now let's do the prediction!\n"
     ]
    },
    {
     "name": "stderr",
     "output_type": "stream",
     "text": [
      "Using cache found in /home/aa-ssun2-cmp/.cache/torch/hub/pytorch_vision_v0.10.0\n",
      " 86%|████████▌ | 515/598 [36:38<06:47,  4.91s/it]Using cache found in /home/aa-ssun2-cmp/.cache/torch/hub/pytorch_vision_v0.10.0\n"
     ]
    },
    {
     "name": "stdout",
     "output_type": "stream",
     "text": [
      "Creating the cell patches\n",
      "Done\n",
      "Now let's do the prediction!\n"
     ]
    },
    {
     "name": "stderr",
     "output_type": "stream",
     "text": [
      "\r",
      " 86%|████████▋ | 516/598 [36:41<06:11,  4.53s/it]"
     ]
    },
    {
     "name": "stdout",
     "output_type": "stream",
     "text": [
      "Creating the cell patches\n",
      "Done\n",
      "Now let's do the prediction!\n"
     ]
    },
    {
     "name": "stderr",
     "output_type": "stream",
     "text": [
      "Using cache found in /home/aa-ssun2-cmp/.cache/torch/hub/pytorch_vision_v0.10.0\n",
      " 86%|████████▋ | 517/598 [36:47<06:32,  4.84s/it]Using cache found in /home/aa-ssun2-cmp/.cache/torch/hub/pytorch_vision_v0.10.0\n"
     ]
    },
    {
     "name": "stdout",
     "output_type": "stream",
     "text": [
      "Creating the cell patches\n",
      "Done\n",
      "Now let's do the prediction!\n"
     ]
    },
    {
     "name": "stderr",
     "output_type": "stream",
     "text": [
      " 87%|████████▋ | 518/598 [36:51<05:59,  4.49s/it]Using cache found in /home/aa-ssun2-cmp/.cache/torch/hub/pytorch_vision_v0.10.0\n"
     ]
    },
    {
     "name": "stdout",
     "output_type": "stream",
     "text": [
      "Creating the cell patches\n",
      "Done\n",
      "Now let's do the prediction!\n"
     ]
    },
    {
     "name": "stderr",
     "output_type": "stream",
     "text": [
      "\r",
      " 87%|████████▋ | 519/598 [36:55<05:54,  4.48s/it]"
     ]
    },
    {
     "name": "stdout",
     "output_type": "stream",
     "text": [
      "Creating the cell patches\n",
      "Done\n",
      "Now let's do the prediction!\n"
     ]
    },
    {
     "name": "stderr",
     "output_type": "stream",
     "text": [
      "Using cache found in /home/aa-ssun2-cmp/.cache/torch/hub/pytorch_vision_v0.10.0\n",
      " 87%|████████▋ | 520/598 [37:01<06:21,  4.89s/it]Using cache found in /home/aa-ssun2-cmp/.cache/torch/hub/pytorch_vision_v0.10.0\n"
     ]
    },
    {
     "name": "stdout",
     "output_type": "stream",
     "text": [
      "Creating the cell patches\n",
      "Done\n",
      "Now let's do the prediction!\n"
     ]
    },
    {
     "name": "stderr",
     "output_type": "stream",
     "text": [
      " 87%|████████▋ | 521/598 [37:05<05:56,  4.63s/it]Using cache found in /home/aa-ssun2-cmp/.cache/torch/hub/pytorch_vision_v0.10.0\n"
     ]
    },
    {
     "name": "stdout",
     "output_type": "stream",
     "text": [
      "Creating the cell patches\n",
      "Done\n",
      "Now let's do the prediction!\n"
     ]
    },
    {
     "name": "stderr",
     "output_type": "stream",
     "text": [
      "\r",
      " 87%|████████▋ | 522/598 [37:09<05:33,  4.39s/it]"
     ]
    },
    {
     "name": "stdout",
     "output_type": "stream",
     "text": [
      "Creating the cell patches\n",
      "Done\n",
      "Now let's do the prediction!\n"
     ]
    },
    {
     "name": "stderr",
     "output_type": "stream",
     "text": [
      "Using cache found in /home/aa-ssun2-cmp/.cache/torch/hub/pytorch_vision_v0.10.0\n",
      " 87%|████████▋ | 523/598 [37:14<05:38,  4.52s/it]"
     ]
    },
    {
     "name": "stdout",
     "output_type": "stream",
     "text": [
      "Creating the cell patches\n",
      "Done\n",
      "Now let's do the prediction!\n"
     ]
    },
    {
     "name": "stderr",
     "output_type": "stream",
     "text": [
      "Using cache found in /home/aa-ssun2-cmp/.cache/torch/hub/pytorch_vision_v0.10.0\n",
      " 88%|████████▊ | 524/598 [37:18<05:28,  4.44s/it]"
     ]
    },
    {
     "name": "stdout",
     "output_type": "stream",
     "text": [
      "Creating the cell patches\n",
      "Done\n",
      "Now let's do the prediction!\n"
     ]
    },
    {
     "name": "stderr",
     "output_type": "stream",
     "text": [
      "Using cache found in /home/aa-ssun2-cmp/.cache/torch/hub/pytorch_vision_v0.10.0\n",
      " 88%|████████▊ | 525/598 [37:22<05:07,  4.21s/it]"
     ]
    },
    {
     "name": "stdout",
     "output_type": "stream",
     "text": [
      "Creating the cell patches\n",
      "Done\n",
      "Now let's do the prediction!\n"
     ]
    },
    {
     "name": "stderr",
     "output_type": "stream",
     "text": [
      "Using cache found in /home/aa-ssun2-cmp/.cache/torch/hub/pytorch_vision_v0.10.0\n",
      " 88%|████████▊ | 526/598 [37:27<05:25,  4.52s/it]Using cache found in /home/aa-ssun2-cmp/.cache/torch/hub/pytorch_vision_v0.10.0\n"
     ]
    },
    {
     "name": "stdout",
     "output_type": "stream",
     "text": [
      "Creating the cell patches\n",
      "Done\n",
      "Now let's do the prediction!\n"
     ]
    },
    {
     "name": "stderr",
     "output_type": "stream",
     "text": [
      "\r",
      " 88%|████████▊ | 527/598 [37:32<05:36,  4.74s/it]"
     ]
    },
    {
     "name": "stdout",
     "output_type": "stream",
     "text": [
      "Creating the cell patches\n",
      "Done\n",
      "Now let's do the prediction!\n"
     ]
    },
    {
     "name": "stderr",
     "output_type": "stream",
     "text": [
      "Using cache found in /home/aa-ssun2-cmp/.cache/torch/hub/pytorch_vision_v0.10.0\n",
      " 88%|████████▊ | 528/598 [37:37<05:32,  4.74s/it]Using cache found in /home/aa-ssun2-cmp/.cache/torch/hub/pytorch_vision_v0.10.0\n"
     ]
    },
    {
     "name": "stdout",
     "output_type": "stream",
     "text": [
      "Creating the cell patches\n",
      "Done\n",
      "Now let's do the prediction!\n"
     ]
    },
    {
     "name": "stderr",
     "output_type": "stream",
     "text": [
      "\r",
      " 88%|████████▊ | 529/598 [37:42<05:28,  4.76s/it]"
     ]
    },
    {
     "name": "stdout",
     "output_type": "stream",
     "text": [
      "Creating the cell patches\n",
      "Done\n",
      "Now let's do the prediction!\n"
     ]
    },
    {
     "name": "stderr",
     "output_type": "stream",
     "text": [
      "Using cache found in /home/aa-ssun2-cmp/.cache/torch/hub/pytorch_vision_v0.10.0\n",
      " 89%|████████▊ | 530/598 [37:47<05:29,  4.84s/it]Using cache found in /home/aa-ssun2-cmp/.cache/torch/hub/pytorch_vision_v0.10.0\n"
     ]
    },
    {
     "name": "stdout",
     "output_type": "stream",
     "text": [
      "Creating the cell patches\n",
      "Done\n",
      "Now let's do the prediction!\n"
     ]
    },
    {
     "name": "stderr",
     "output_type": "stream",
     "text": [
      " 89%|████████▉ | 531/598 [37:51<05:11,  4.64s/it]Using cache found in /home/aa-ssun2-cmp/.cache/torch/hub/pytorch_vision_v0.10.0\n"
     ]
    },
    {
     "name": "stdout",
     "output_type": "stream",
     "text": [
      "Creating the cell patches\n",
      "Done\n",
      "Now let's do the prediction!\n"
     ]
    },
    {
     "name": "stderr",
     "output_type": "stream",
     "text": [
      "\r",
      " 89%|████████▉ | 532/598 [37:56<05:21,  4.86s/it]"
     ]
    },
    {
     "name": "stdout",
     "output_type": "stream",
     "text": [
      "Creating the cell patches\n",
      "Done\n",
      "Now let's do the prediction!\n"
     ]
    },
    {
     "name": "stderr",
     "output_type": "stream",
     "text": [
      "Using cache found in /home/aa-ssun2-cmp/.cache/torch/hub/pytorch_vision_v0.10.0\n",
      " 89%|████████▉ | 533/598 [38:01<05:23,  4.98s/it]"
     ]
    },
    {
     "name": "stdout",
     "output_type": "stream",
     "text": [
      "Creating the cell patches\n",
      "Done\n",
      "Now let's do the prediction!\n"
     ]
    },
    {
     "name": "stderr",
     "output_type": "stream",
     "text": [
      "Using cache found in /home/aa-ssun2-cmp/.cache/torch/hub/pytorch_vision_v0.10.0\n",
      " 89%|████████▉ | 534/598 [38:07<05:22,  5.04s/it]Using cache found in /home/aa-ssun2-cmp/.cache/torch/hub/pytorch_vision_v0.10.0\n"
     ]
    },
    {
     "name": "stdout",
     "output_type": "stream",
     "text": [
      "Creating the cell patches\n",
      "Done\n",
      "Now let's do the prediction!\n"
     ]
    },
    {
     "name": "stderr",
     "output_type": "stream",
     "text": [
      "\r",
      " 89%|████████▉ | 535/598 [38:12<05:25,  5.17s/it]"
     ]
    },
    {
     "name": "stdout",
     "output_type": "stream",
     "text": [
      "Creating the cell patches\n",
      "Done\n",
      "Now let's do the prediction!\n"
     ]
    },
    {
     "name": "stderr",
     "output_type": "stream",
     "text": [
      "Using cache found in /home/aa-ssun2-cmp/.cache/torch/hub/pytorch_vision_v0.10.0\n",
      " 90%|████████▉ | 536/598 [38:18<05:29,  5.32s/it]"
     ]
    },
    {
     "name": "stdout",
     "output_type": "stream",
     "text": [
      "Creating the cell patches\n",
      "Done\n",
      "Now let's do the prediction!\n"
     ]
    },
    {
     "name": "stderr",
     "output_type": "stream",
     "text": [
      "Using cache found in /home/aa-ssun2-cmp/.cache/torch/hub/pytorch_vision_v0.10.0\n",
      " 90%|████████▉ | 537/598 [38:23<05:16,  5.19s/it]"
     ]
    },
    {
     "name": "stdout",
     "output_type": "stream",
     "text": [
      "Creating the cell patches\n",
      "Done\n",
      "Now let's do the prediction!\n"
     ]
    },
    {
     "name": "stderr",
     "output_type": "stream",
     "text": [
      "Using cache found in /home/aa-ssun2-cmp/.cache/torch/hub/pytorch_vision_v0.10.0\n",
      " 90%|████████▉ | 538/598 [38:28<05:19,  5.33s/it]"
     ]
    },
    {
     "name": "stdout",
     "output_type": "stream",
     "text": [
      "Creating the cell patches\n",
      "Done\n",
      "Now let's do the prediction!\n"
     ]
    },
    {
     "name": "stderr",
     "output_type": "stream",
     "text": [
      "Using cache found in /home/aa-ssun2-cmp/.cache/torch/hub/pytorch_vision_v0.10.0\n",
      " 90%|█████████ | 539/598 [38:33<05:03,  5.15s/it]"
     ]
    },
    {
     "name": "stdout",
     "output_type": "stream",
     "text": [
      "Creating the cell patches\n",
      "Done\n",
      "Now let's do the prediction!\n"
     ]
    },
    {
     "name": "stderr",
     "output_type": "stream",
     "text": [
      "Using cache found in /home/aa-ssun2-cmp/.cache/torch/hub/pytorch_vision_v0.10.0\n",
      " 90%|█████████ | 540/598 [38:39<05:06,  5.29s/it]"
     ]
    },
    {
     "name": "stdout",
     "output_type": "stream",
     "text": [
      "Creating the cell patches\n",
      "Done\n",
      "Now let's do the prediction!\n"
     ]
    },
    {
     "name": "stderr",
     "output_type": "stream",
     "text": [
      "Using cache found in /home/aa-ssun2-cmp/.cache/torch/hub/pytorch_vision_v0.10.0\n",
      " 90%|█████████ | 541/598 [38:45<05:13,  5.50s/it]Using cache found in /home/aa-ssun2-cmp/.cache/torch/hub/pytorch_vision_v0.10.0\n"
     ]
    },
    {
     "name": "stdout",
     "output_type": "stream",
     "text": [
      "Creating the cell patches\n",
      "Done\n",
      "Now let's do the prediction!\n"
     ]
    },
    {
     "name": "stderr",
     "output_type": "stream",
     "text": [
      "\r",
      " 91%|█████████ | 542/598 [38:49<04:55,  5.28s/it]"
     ]
    },
    {
     "name": "stdout",
     "output_type": "stream",
     "text": [
      "Creating the cell patches\n",
      "Done\n",
      "Now let's do the prediction!\n"
     ]
    },
    {
     "name": "stderr",
     "output_type": "stream",
     "text": [
      "Using cache found in /home/aa-ssun2-cmp/.cache/torch/hub/pytorch_vision_v0.10.0\n",
      " 91%|█████████ | 543/598 [38:53<04:21,  4.75s/it]"
     ]
    },
    {
     "name": "stdout",
     "output_type": "stream",
     "text": [
      "Creating the cell patches\n",
      "Done\n",
      "Now let's do the prediction!\n"
     ]
    },
    {
     "name": "stderr",
     "output_type": "stream",
     "text": [
      "Using cache found in /home/aa-ssun2-cmp/.cache/torch/hub/pytorch_vision_v0.10.0\n",
      " 91%|█████████ | 544/598 [38:59<04:37,  5.14s/it]Using cache found in /home/aa-ssun2-cmp/.cache/torch/hub/pytorch_vision_v0.10.0\n"
     ]
    },
    {
     "name": "stdout",
     "output_type": "stream",
     "text": [
      "Creating the cell patches\n",
      "Done\n",
      "Now let's do the prediction!\n"
     ]
    },
    {
     "name": "stderr",
     "output_type": "stream",
     "text": [
      " 91%|█████████ | 545/598 [39:03<04:13,  4.78s/it]Using cache found in /home/aa-ssun2-cmp/.cache/torch/hub/pytorch_vision_v0.10.0\n"
     ]
    },
    {
     "name": "stdout",
     "output_type": "stream",
     "text": [
      "Creating the cell patches\n",
      "Done\n",
      "Now let's do the prediction!\n"
     ]
    },
    {
     "name": "stderr",
     "output_type": "stream",
     "text": [
      " 91%|█████████▏| 546/598 [39:06<03:49,  4.42s/it]Using cache found in /home/aa-ssun2-cmp/.cache/torch/hub/pytorch_vision_v0.10.0\n"
     ]
    },
    {
     "name": "stdout",
     "output_type": "stream",
     "text": [
      "Creating the cell patches\n",
      "Done\n",
      "Now let's do the prediction!\n"
     ]
    },
    {
     "name": "stderr",
     "output_type": "stream",
     "text": [
      " 91%|█████████▏| 547/598 [39:10<03:32,  4.16s/it]Using cache found in /home/aa-ssun2-cmp/.cache/torch/hub/pytorch_vision_v0.10.0\n"
     ]
    },
    {
     "name": "stdout",
     "output_type": "stream",
     "text": [
      "Creating the cell patches\n",
      "Done\n",
      "Now let's do the prediction!\n"
     ]
    },
    {
     "name": "stderr",
     "output_type": "stream",
     "text": [
      "\r",
      " 92%|█████████▏| 548/598 [39:14<03:17,  3.96s/it]"
     ]
    },
    {
     "name": "stdout",
     "output_type": "stream",
     "text": [
      "Creating the cell patches\n",
      "Done\n",
      "Now let's do the prediction!\n"
     ]
    },
    {
     "name": "stderr",
     "output_type": "stream",
     "text": [
      "Using cache found in /home/aa-ssun2-cmp/.cache/torch/hub/pytorch_vision_v0.10.0\n",
      " 92%|█████████▏| 549/598 [39:19<03:39,  4.47s/it]"
     ]
    },
    {
     "name": "stdout",
     "output_type": "stream",
     "text": [
      "Creating the cell patches\n",
      "Done\n",
      "Now let's do the prediction!\n"
     ]
    },
    {
     "name": "stderr",
     "output_type": "stream",
     "text": [
      "Using cache found in /home/aa-ssun2-cmp/.cache/torch/hub/pytorch_vision_v0.10.0\n",
      " 92%|█████████▏| 550/598 [39:24<03:39,  4.57s/it]"
     ]
    },
    {
     "name": "stdout",
     "output_type": "stream",
     "text": [
      "Creating the cell patches\n",
      "Done\n",
      "Now let's do the prediction!\n"
     ]
    },
    {
     "name": "stderr",
     "output_type": "stream",
     "text": [
      "Using cache found in /home/aa-ssun2-cmp/.cache/torch/hub/pytorch_vision_v0.10.0\n",
      " 92%|█████████▏| 551/598 [39:28<03:30,  4.48s/it]"
     ]
    },
    {
     "name": "stdout",
     "output_type": "stream",
     "text": [
      "Creating the cell patches\n",
      "Done\n",
      "Now let's do the prediction!\n"
     ]
    },
    {
     "name": "stderr",
     "output_type": "stream",
     "text": [
      "Using cache found in /home/aa-ssun2-cmp/.cache/torch/hub/pytorch_vision_v0.10.0\n",
      " 92%|█████████▏| 552/598 [39:32<03:18,  4.32s/it]"
     ]
    },
    {
     "name": "stdout",
     "output_type": "stream",
     "text": [
      "Creating the cell patches\n",
      "Done\n",
      "Now let's do the prediction!\n"
     ]
    },
    {
     "name": "stderr",
     "output_type": "stream",
     "text": [
      "Using cache found in /home/aa-ssun2-cmp/.cache/torch/hub/pytorch_vision_v0.10.0\n",
      " 92%|█████████▏| 553/598 [39:37<03:16,  4.36s/it]"
     ]
    },
    {
     "name": "stdout",
     "output_type": "stream",
     "text": [
      "Creating the cell patches\n",
      "Done\n",
      "Now let's do the prediction!\n"
     ]
    },
    {
     "name": "stderr",
     "output_type": "stream",
     "text": [
      "Using cache found in /home/aa-ssun2-cmp/.cache/torch/hub/pytorch_vision_v0.10.0\n",
      " 93%|█████████▎| 554/598 [39:41<03:16,  4.47s/it]"
     ]
    },
    {
     "name": "stdout",
     "output_type": "stream",
     "text": [
      "Creating the cell patches\n",
      "Done\n",
      "Now let's do the prediction!\n"
     ]
    },
    {
     "name": "stderr",
     "output_type": "stream",
     "text": [
      "Using cache found in /home/aa-ssun2-cmp/.cache/torch/hub/pytorch_vision_v0.10.0\n",
      " 93%|█████████▎| 555/598 [39:46<03:18,  4.62s/it]"
     ]
    },
    {
     "name": "stdout",
     "output_type": "stream",
     "text": [
      "Creating the cell patches\n",
      "Done\n",
      "Now let's do the prediction!\n"
     ]
    },
    {
     "name": "stderr",
     "output_type": "stream",
     "text": [
      "Using cache found in /home/aa-ssun2-cmp/.cache/torch/hub/pytorch_vision_v0.10.0\n",
      " 93%|█████████▎| 556/598 [39:52<03:23,  4.85s/it]"
     ]
    },
    {
     "name": "stdout",
     "output_type": "stream",
     "text": [
      "Creating the cell patches\n",
      "Done\n",
      "Now let's do the prediction!\n"
     ]
    },
    {
     "name": "stderr",
     "output_type": "stream",
     "text": [
      "Using cache found in /home/aa-ssun2-cmp/.cache/torch/hub/pytorch_vision_v0.10.0\n",
      " 93%|█████████▎| 557/598 [39:56<03:16,  4.78s/it]Using cache found in /home/aa-ssun2-cmp/.cache/torch/hub/pytorch_vision_v0.10.0\n"
     ]
    },
    {
     "name": "stdout",
     "output_type": "stream",
     "text": [
      "Creating the cell patches\n",
      "Done\n",
      "Now let's do the prediction!\n"
     ]
    },
    {
     "name": "stderr",
     "output_type": "stream",
     "text": [
      "\r",
      " 93%|█████████▎| 558/598 [40:02<03:17,  4.95s/it]"
     ]
    },
    {
     "name": "stdout",
     "output_type": "stream",
     "text": [
      "Creating the cell patches\n",
      "Done\n",
      "Now let's do the prediction!\n"
     ]
    },
    {
     "name": "stderr",
     "output_type": "stream",
     "text": [
      "Using cache found in /home/aa-ssun2-cmp/.cache/torch/hub/pytorch_vision_v0.10.0\n",
      " 93%|█████████▎| 559/598 [40:06<03:04,  4.72s/it]"
     ]
    },
    {
     "name": "stdout",
     "output_type": "stream",
     "text": [
      "Creating the cell patches\n",
      "Done\n",
      "Now let's do the prediction!\n"
     ]
    },
    {
     "name": "stderr",
     "output_type": "stream",
     "text": [
      "Using cache found in /home/aa-ssun2-cmp/.cache/torch/hub/pytorch_vision_v0.10.0\n",
      " 94%|█████████▎| 560/598 [40:10<02:53,  4.57s/it]"
     ]
    },
    {
     "name": "stdout",
     "output_type": "stream",
     "text": [
      "Creating the cell patches\n",
      "Done\n",
      "Now let's do the prediction!\n"
     ]
    },
    {
     "name": "stderr",
     "output_type": "stream",
     "text": [
      "Using cache found in /home/aa-ssun2-cmp/.cache/torch/hub/pytorch_vision_v0.10.0\n",
      " 94%|█████████▍| 561/598 [40:16<03:00,  4.88s/it]"
     ]
    },
    {
     "name": "stdout",
     "output_type": "stream",
     "text": [
      "Creating the cell patches\n",
      "Done\n",
      "Now let's do the prediction!\n"
     ]
    },
    {
     "name": "stderr",
     "output_type": "stream",
     "text": [
      "Using cache found in /home/aa-ssun2-cmp/.cache/torch/hub/pytorch_vision_v0.10.0\n",
      " 94%|█████████▍| 562/598 [40:21<02:59,  4.98s/it]"
     ]
    },
    {
     "name": "stdout",
     "output_type": "stream",
     "text": [
      "Creating the cell patches\n",
      "Done\n",
      "Now let's do the prediction!\n"
     ]
    },
    {
     "name": "stderr",
     "output_type": "stream",
     "text": [
      "Using cache found in /home/aa-ssun2-cmp/.cache/torch/hub/pytorch_vision_v0.10.0\n",
      " 94%|█████████▍| 563/598 [40:26<02:52,  4.94s/it]"
     ]
    },
    {
     "name": "stdout",
     "output_type": "stream",
     "text": [
      "Creating the cell patches\n",
      "Done\n",
      "Now let's do the prediction!\n"
     ]
    },
    {
     "name": "stderr",
     "output_type": "stream",
     "text": [
      "Using cache found in /home/aa-ssun2-cmp/.cache/torch/hub/pytorch_vision_v0.10.0\n",
      " 94%|█████████▍| 564/598 [40:29<02:33,  4.50s/it]"
     ]
    },
    {
     "name": "stdout",
     "output_type": "stream",
     "text": [
      "Creating the cell patches\n",
      "Done\n",
      "Now let's do the prediction!\n"
     ]
    },
    {
     "name": "stderr",
     "output_type": "stream",
     "text": [
      "Using cache found in /home/aa-ssun2-cmp/.cache/torch/hub/pytorch_vision_v0.10.0\n",
      " 94%|█████████▍| 565/598 [40:34<02:29,  4.53s/it]Using cache found in /home/aa-ssun2-cmp/.cache/torch/hub/pytorch_vision_v0.10.0\n"
     ]
    },
    {
     "name": "stdout",
     "output_type": "stream",
     "text": [
      "Creating the cell patches\n",
      "Done\n",
      "Now let's do the prediction!\n"
     ]
    },
    {
     "name": "stderr",
     "output_type": "stream",
     "text": [
      " 95%|█████████▍| 566/598 [40:38<02:25,  4.56s/it]Using cache found in /home/aa-ssun2-cmp/.cache/torch/hub/pytorch_vision_v0.10.0\n"
     ]
    },
    {
     "name": "stdout",
     "output_type": "stream",
     "text": [
      "Creating the cell patches\n",
      "Done\n",
      "Now let's do the prediction!\n"
     ]
    },
    {
     "name": "stderr",
     "output_type": "stream",
     "text": [
      "\r",
      " 95%|█████████▍| 567/598 [40:43<02:22,  4.61s/it]"
     ]
    },
    {
     "name": "stdout",
     "output_type": "stream",
     "text": [
      "Creating the cell patches\n",
      "Done\n",
      "Now let's do the prediction!\n"
     ]
    },
    {
     "name": "stderr",
     "output_type": "stream",
     "text": [
      "Using cache found in /home/aa-ssun2-cmp/.cache/torch/hub/pytorch_vision_v0.10.0\n",
      " 95%|█████████▍| 568/598 [40:48<02:18,  4.61s/it]Using cache found in /home/aa-ssun2-cmp/.cache/torch/hub/pytorch_vision_v0.10.0\n"
     ]
    },
    {
     "name": "stdout",
     "output_type": "stream",
     "text": [
      "Creating the cell patches\n",
      "Done\n",
      "Now let's do the prediction!\n"
     ]
    },
    {
     "name": "stderr",
     "output_type": "stream",
     "text": [
      " 95%|█████████▌| 569/598 [40:52<02:12,  4.56s/it]Using cache found in /home/aa-ssun2-cmp/.cache/torch/hub/pytorch_vision_v0.10.0\n"
     ]
    },
    {
     "name": "stdout",
     "output_type": "stream",
     "text": [
      "Creating the cell patches\n",
      "Done\n",
      "Now let's do the prediction!\n"
     ]
    },
    {
     "name": "stderr",
     "output_type": "stream",
     "text": [
      "\r",
      " 95%|█████████▌| 570/598 [40:56<02:02,  4.37s/it]"
     ]
    },
    {
     "name": "stdout",
     "output_type": "stream",
     "text": [
      "Creating the cell patches\n",
      "Done\n",
      "Now let's do the prediction!\n"
     ]
    },
    {
     "name": "stderr",
     "output_type": "stream",
     "text": [
      "Using cache found in /home/aa-ssun2-cmp/.cache/torch/hub/pytorch_vision_v0.10.0\n",
      " 95%|█████████▌| 571/598 [41:01<01:58,  4.38s/it]Using cache found in /home/aa-ssun2-cmp/.cache/torch/hub/pytorch_vision_v0.10.0\n"
     ]
    },
    {
     "name": "stdout",
     "output_type": "stream",
     "text": [
      "Creating the cell patches\n",
      "Done\n",
      "Now let's do the prediction!\n"
     ]
    },
    {
     "name": "stderr",
     "output_type": "stream",
     "text": [
      " 96%|█████████▌| 572/598 [41:04<01:43,  4.00s/it]Using cache found in /home/aa-ssun2-cmp/.cache/torch/hub/pytorch_vision_v0.10.0\n"
     ]
    },
    {
     "name": "stdout",
     "output_type": "stream",
     "text": [
      "Creating the cell patches\n",
      "Done\n",
      "Now let's do the prediction!\n"
     ]
    },
    {
     "name": "stderr",
     "output_type": "stream",
     "text": [
      " 96%|█████████▌| 573/598 [41:08<01:42,  4.11s/it]Using cache found in /home/aa-ssun2-cmp/.cache/torch/hub/pytorch_vision_v0.10.0\n"
     ]
    },
    {
     "name": "stdout",
     "output_type": "stream",
     "text": [
      "Creating the cell patches\n",
      "Done\n",
      "Now let's do the prediction!\n"
     ]
    },
    {
     "name": "stderr",
     "output_type": "stream",
     "text": [
      " 96%|█████████▌| 574/598 [41:13<01:41,  4.24s/it]Using cache found in /home/aa-ssun2-cmp/.cache/torch/hub/pytorch_vision_v0.10.0\n"
     ]
    },
    {
     "name": "stdout",
     "output_type": "stream",
     "text": [
      "Creating the cell patches\n",
      "Done\n",
      "Now let's do the prediction!\n"
     ]
    },
    {
     "name": "stderr",
     "output_type": "stream",
     "text": [
      " 96%|█████████▌| 575/598 [41:18<01:45,  4.59s/it]Using cache found in /home/aa-ssun2-cmp/.cache/torch/hub/pytorch_vision_v0.10.0\n"
     ]
    },
    {
     "name": "stdout",
     "output_type": "stream",
     "text": [
      "Creating the cell patches\n",
      "Done\n",
      "Now let's do the prediction!\n"
     ]
    },
    {
     "name": "stderr",
     "output_type": "stream",
     "text": [
      " 96%|█████████▋| 576/598 [41:21<01:32,  4.19s/it]Using cache found in /home/aa-ssun2-cmp/.cache/torch/hub/pytorch_vision_v0.10.0\n"
     ]
    },
    {
     "name": "stdout",
     "output_type": "stream",
     "text": [
      "Creating the cell patches\n",
      "Done\n",
      "Now let's do the prediction!\n"
     ]
    },
    {
     "name": "stderr",
     "output_type": "stream",
     "text": [
      " 96%|█████████▋| 577/598 [41:25<01:26,  4.13s/it]Using cache found in /home/aa-ssun2-cmp/.cache/torch/hub/pytorch_vision_v0.10.0\n"
     ]
    },
    {
     "name": "stdout",
     "output_type": "stream",
     "text": [
      "Creating the cell patches\n",
      "Done\n",
      "Now let's do the prediction!\n"
     ]
    },
    {
     "name": "stderr",
     "output_type": "stream",
     "text": [
      " 97%|█████████▋| 578/598 [41:30<01:25,  4.29s/it]Using cache found in /home/aa-ssun2-cmp/.cache/torch/hub/pytorch_vision_v0.10.0\n"
     ]
    },
    {
     "name": "stdout",
     "output_type": "stream",
     "text": [
      "Creating the cell patches\n",
      "Done\n",
      "Now let's do the prediction!\n"
     ]
    },
    {
     "name": "stderr",
     "output_type": "stream",
     "text": [
      " 97%|█████████▋| 579/598 [41:33<01:14,  3.93s/it]Using cache found in /home/aa-ssun2-cmp/.cache/torch/hub/pytorch_vision_v0.10.0\n"
     ]
    },
    {
     "name": "stdout",
     "output_type": "stream",
     "text": [
      "Creating the cell patches\n",
      "Done\n",
      "Now let's do the prediction!\n"
     ]
    },
    {
     "name": "stderr",
     "output_type": "stream",
     "text": [
      "\r",
      " 97%|█████████▋| 580/598 [41:37<01:11,  3.95s/it]"
     ]
    },
    {
     "name": "stdout",
     "output_type": "stream",
     "text": [
      "Creating the cell patches\n",
      "Done\n",
      "Now let's do the prediction!\n"
     ]
    },
    {
     "name": "stderr",
     "output_type": "stream",
     "text": [
      "Using cache found in /home/aa-ssun2-cmp/.cache/torch/hub/pytorch_vision_v0.10.0\n",
      " 97%|█████████▋| 581/598 [41:40<01:04,  3.79s/it]Using cache found in /home/aa-ssun2-cmp/.cache/torch/hub/pytorch_vision_v0.10.0\n"
     ]
    },
    {
     "name": "stdout",
     "output_type": "stream",
     "text": [
      "Creating the cell patches\n",
      "Done\n",
      "Now let's do the prediction!\n"
     ]
    },
    {
     "name": "stderr",
     "output_type": "stream",
     "text": [
      " 97%|█████████▋| 582/598 [41:44<01:01,  3.85s/it]Using cache found in /home/aa-ssun2-cmp/.cache/torch/hub/pytorch_vision_v0.10.0\n"
     ]
    },
    {
     "name": "stdout",
     "output_type": "stream",
     "text": [
      "Creating the cell patches\n",
      "Done\n",
      "Now let's do the prediction!\n"
     ]
    },
    {
     "name": "stderr",
     "output_type": "stream",
     "text": [
      " 97%|█████████▋| 583/598 [41:49<01:01,  4.12s/it]Using cache found in /home/aa-ssun2-cmp/.cache/torch/hub/pytorch_vision_v0.10.0\n"
     ]
    },
    {
     "name": "stdout",
     "output_type": "stream",
     "text": [
      "Creating the cell patches\n",
      "Done\n",
      "Now let's do the prediction!\n"
     ]
    },
    {
     "name": "stderr",
     "output_type": "stream",
     "text": [
      "\r",
      " 98%|█████████▊| 584/598 [41:53<00:57,  4.14s/it]"
     ]
    },
    {
     "name": "stdout",
     "output_type": "stream",
     "text": [
      "Creating the cell patches\n",
      "Done\n",
      "Now let's do the prediction!\n"
     ]
    },
    {
     "name": "stderr",
     "output_type": "stream",
     "text": [
      "Using cache found in /home/aa-ssun2-cmp/.cache/torch/hub/pytorch_vision_v0.10.0\n",
      " 98%|█████████▊| 585/598 [41:58<00:54,  4.19s/it]"
     ]
    },
    {
     "name": "stdout",
     "output_type": "stream",
     "text": [
      "Creating the cell patches\n",
      "Done\n",
      "Now let's do the prediction!\n"
     ]
    },
    {
     "name": "stderr",
     "output_type": "stream",
     "text": [
      "Using cache found in /home/aa-ssun2-cmp/.cache/torch/hub/pytorch_vision_v0.10.0\n",
      " 98%|█████████▊| 586/598 [42:01<00:47,  4.00s/it]Using cache found in /home/aa-ssun2-cmp/.cache/torch/hub/pytorch_vision_v0.10.0\n"
     ]
    },
    {
     "name": "stdout",
     "output_type": "stream",
     "text": [
      "Creating the cell patches\n",
      "Done\n",
      "Now let's do the prediction!\n"
     ]
    },
    {
     "name": "stderr",
     "output_type": "stream",
     "text": [
      " 98%|█████████▊| 587/598 [42:04<00:41,  3.75s/it]Using cache found in /home/aa-ssun2-cmp/.cache/torch/hub/pytorch_vision_v0.10.0\n"
     ]
    },
    {
     "name": "stdout",
     "output_type": "stream",
     "text": [
      "Creating the cell patches\n",
      "Done\n",
      "Now let's do the prediction!\n"
     ]
    },
    {
     "name": "stderr",
     "output_type": "stream",
     "text": [
      " 98%|█████████▊| 588/598 [42:08<00:37,  3.74s/it]Using cache found in /home/aa-ssun2-cmp/.cache/torch/hub/pytorch_vision_v0.10.0\n"
     ]
    },
    {
     "name": "stdout",
     "output_type": "stream",
     "text": [
      "Creating the cell patches\n",
      "Done\n",
      "Now let's do the prediction!\n"
     ]
    },
    {
     "name": "stderr",
     "output_type": "stream",
     "text": [
      "\r",
      " 98%|█████████▊| 589/598 [42:13<00:36,  4.09s/it]"
     ]
    },
    {
     "name": "stdout",
     "output_type": "stream",
     "text": [
      "Creating the cell patches\n",
      "Done\n",
      "Now let's do the prediction!\n"
     ]
    },
    {
     "name": "stderr",
     "output_type": "stream",
     "text": [
      "Using cache found in /home/aa-ssun2-cmp/.cache/torch/hub/pytorch_vision_v0.10.0\n",
      " 99%|█████████▊| 590/598 [42:18<00:35,  4.46s/it]Using cache found in /home/aa-ssun2-cmp/.cache/torch/hub/pytorch_vision_v0.10.0\n"
     ]
    },
    {
     "name": "stdout",
     "output_type": "stream",
     "text": [
      "Creating the cell patches\n",
      "Done\n",
      "Now let's do the prediction!\n"
     ]
    },
    {
     "name": "stderr",
     "output_type": "stream",
     "text": [
      " 99%|█████████▉| 591/598 [42:23<00:32,  4.60s/it]Using cache found in /home/aa-ssun2-cmp/.cache/torch/hub/pytorch_vision_v0.10.0\n"
     ]
    },
    {
     "name": "stdout",
     "output_type": "stream",
     "text": [
      "Creating the cell patches\n",
      "Done\n",
      "Now let's do the prediction!\n"
     ]
    },
    {
     "name": "stderr",
     "output_type": "stream",
     "text": [
      " 99%|█████████▉| 592/598 [42:27<00:25,  4.31s/it]Using cache found in /home/aa-ssun2-cmp/.cache/torch/hub/pytorch_vision_v0.10.0\n"
     ]
    },
    {
     "name": "stdout",
     "output_type": "stream",
     "text": [
      "Creating the cell patches\n",
      "Done\n",
      "Now let's do the prediction!\n"
     ]
    },
    {
     "name": "stderr",
     "output_type": "stream",
     "text": [
      " 99%|█████████▉| 593/598 [42:31<00:20,  4.20s/it]Using cache found in /home/aa-ssun2-cmp/.cache/torch/hub/pytorch_vision_v0.10.0\n"
     ]
    },
    {
     "name": "stdout",
     "output_type": "stream",
     "text": [
      "Creating the cell patches\n",
      "Done\n",
      "Now let's do the prediction!\n"
     ]
    },
    {
     "name": "stderr",
     "output_type": "stream",
     "text": [
      "\r",
      " 99%|█████████▉| 594/598 [42:35<00:17,  4.29s/it]"
     ]
    },
    {
     "name": "stdout",
     "output_type": "stream",
     "text": [
      "Creating the cell patches\n",
      "Done\n",
      "Now let's do the prediction!\n"
     ]
    },
    {
     "name": "stderr",
     "output_type": "stream",
     "text": [
      "Using cache found in /home/aa-ssun2-cmp/.cache/torch/hub/pytorch_vision_v0.10.0\n",
      " 99%|█████████▉| 595/598 [42:40<00:13,  4.43s/it]Using cache found in /home/aa-ssun2-cmp/.cache/torch/hub/pytorch_vision_v0.10.0\n"
     ]
    },
    {
     "name": "stdout",
     "output_type": "stream",
     "text": [
      "Creating the cell patches\n",
      "Done\n",
      "Now let's do the prediction!\n"
     ]
    },
    {
     "name": "stderr",
     "output_type": "stream",
     "text": [
      "100%|█████████▉| 596/598 [42:45<00:09,  4.55s/it]Using cache found in /home/aa-ssun2-cmp/.cache/torch/hub/pytorch_vision_v0.10.0\n"
     ]
    },
    {
     "name": "stdout",
     "output_type": "stream",
     "text": [
      "Creating the cell patches\n",
      "Done\n",
      "Now let's do the prediction!\n"
     ]
    },
    {
     "name": "stderr",
     "output_type": "stream",
     "text": [
      "100%|█████████▉| 597/598 [42:50<00:04,  4.66s/it]Using cache found in /home/aa-ssun2-cmp/.cache/torch/hub/pytorch_vision_v0.10.0\n"
     ]
    },
    {
     "name": "stdout",
     "output_type": "stream",
     "text": [
      "Creating the cell patches\n",
      "Done\n",
      "Now let's do the prediction!\n"
     ]
    },
    {
     "name": "stderr",
     "output_type": "stream",
     "text": [
      "100%|██████████| 598/598 [42:53<00:00,  4.30s/it]\n"
     ]
    }
   ],
   "source": [
    "string = '1082320221656223'\n",
    "for _dir in tqdm(glob.glob('./data/pre_selected_patches/'+string+'/*jpeg')):\n",
    "    _dir = _dir.split('/')[-1]\n",
    "    image = cv2.imread('./data/pre_selected_patches/'+string+'/'+ _dir)\n",
    "    # Convert OpenCV bgr to rgb\n",
    "    image = cv2.cvtColor(image, cv2.COLOR_BGR2RGB)\n",
    "    os.system('rm -rf ./Classification/outputs')\n",
    "    boxes = detect.detect_image(model, image, conf_thres=0.1, nms_thres=0.1)\n",
    "    try:\n",
    "        res_df = DeepHeme(img = image,\n",
    "                            boxes = boxes,\n",
    "                           save_dir ='./Classification/' )\n",
    "    except:\n",
    "        res_df = res_df.loc[:-1]\n",
    "    num1 = res_df.shape[0]\n",
    "    res_df = res_df[~res_df['prediction'].isin(['U1', 'PL2', 'PL3'])]\n",
    "    res_df_sub = res_df[res_df['prediction'].isin(['M1', 'M2', 'ER1','MO2'])]\n",
    "    for _img_dir in res_df_sub['dir'].tolist():\n",
    "        _id = _img_dir.split('/')[-1]\n",
    "        os.system('cp '+_img_dir +' ./data/monoblast/'+string+_id)\n",
    "    \n",
    "    #for images in res_df['dir']\n",
    "    \n",
    "    #for dirs in res_df"
   ]
  },
  {
   "cell_type": "code",
   "execution_count": 9,
   "id": "cba20980",
   "metadata": {},
   "outputs": [
    {
     "data": {
      "text/html": [
       "<div>\n",
       "<style scoped>\n",
       "    .dataframe tbody tr th:only-of-type {\n",
       "        vertical-align: middle;\n",
       "    }\n",
       "\n",
       "    .dataframe tbody tr th {\n",
       "        vertical-align: top;\n",
       "    }\n",
       "\n",
       "    .dataframe thead th {\n",
       "        text-align: right;\n",
       "    }\n",
       "</style>\n",
       "<table border=\"1\" class=\"dataframe\">\n",
       "  <thead>\n",
       "    <tr style=\"text-align: right;\">\n",
       "      <th></th>\n",
       "      <th>dir</th>\n",
       "      <th>x1</th>\n",
       "      <th>x2</th>\n",
       "      <th>y1</th>\n",
       "      <th>y2</th>\n",
       "      <th>center</th>\n",
       "      <th>prediction</th>\n",
       "    </tr>\n",
       "  </thead>\n",
       "  <tbody>\n",
       "    <tr>\n",
       "      <th>2</th>\n",
       "      <td>./Classification/outputs/x242y65.png</td>\n",
       "      <td>214</td>\n",
       "      <td>270</td>\n",
       "      <td>36</td>\n",
       "      <td>93</td>\n",
       "      <td>(242, 65)</td>\n",
       "      <td>M4</td>\n",
       "    </tr>\n",
       "    <tr>\n",
       "      <th>6</th>\n",
       "      <td>./Classification/outputs/x205y103.png</td>\n",
       "      <td>175</td>\n",
       "      <td>235</td>\n",
       "      <td>71</td>\n",
       "      <td>134</td>\n",
       "      <td>(205, 103)</td>\n",
       "      <td>M1</td>\n",
       "    </tr>\n",
       "    <tr>\n",
       "      <th>10</th>\n",
       "      <td>./Classification/outputs/x241y154.png</td>\n",
       "      <td>212</td>\n",
       "      <td>270</td>\n",
       "      <td>125</td>\n",
       "      <td>183</td>\n",
       "      <td>(241, 154)</td>\n",
       "      <td>L2</td>\n",
       "    </tr>\n",
       "  </tbody>\n",
       "</table>\n",
       "</div>"
      ],
      "text/plain": [
       "                                      dir   x1   x2   y1   y2      center  \\\n",
       "2    ./Classification/outputs/x242y65.png  214  270   36   93   (242, 65)   \n",
       "6   ./Classification/outputs/x205y103.png  175  235   71  134  (205, 103)   \n",
       "10  ./Classification/outputs/x241y154.png  212  270  125  183  (241, 154)   \n",
       "\n",
       "   prediction  \n",
       "2          M4  \n",
       "6          M1  \n",
       "10         L2  "
      ]
     },
     "execution_count": 9,
     "metadata": {},
     "output_type": "execute_result"
    }
   ],
   "source": [
    "res_df"
   ]
  },
  {
   "cell_type": "code",
   "execution_count": 7,
   "id": "af431e7d",
   "metadata": {},
   "outputs": [
    {
     "data": {
      "image/png": "[encoded data removed]",
      "text/plain": [
       "<PIL.PngImagePlugin.PngImageFile image mode=RGB size=96x96>"
      ]
     },
     "execution_count": 7,
     "metadata": {},
     "output_type": "execute_result"
    }
   ],
   "source": [
    "from PIL import Image\n",
    "Image.open('./Classification/outputs/x205y103.png')"
   ]
  },
  {
   "cell_type": "code",
   "execution_count": 10,
   "id": "aaa243ca",
   "metadata": {},
   "outputs": [
    {
     "data": {
      "text/plain": [
       "<matplotlib.image.AxesImage at 0x7ff3a4f35c10>"
      ]
     },
     "execution_count": 10,
     "metadata": {},
     "output_type": "execute_result"
    },
    {
     "data": {
      "image/png": "[encoded data removed]",
      "text/plain": [
       "<Figure size 480x480 with 1 Axes>"
      ]
     },
     "metadata": {},
     "output_type": "display_data"
    }
   ],
   "source": []
  }
 ],
 "metadata": {
  "kernelspec": {
   "display_name": "Python 3 (ipykernel)",
   "language": "python",
   "name": "python3"
  },
  "language_info": {
   "codemirror_mode": {
    "name": "ipython",
    "version": 3
   },
   "file_extension": ".py",
   "mimetype": "text/x-python",
   "name": "python",
   "nbconvert_exporter": "python",
   "pygments_lexer": "ipython3",
   "version": "3.8.13"
  }
 },
 "nbformat": 4,
 "nbformat_minor": 5
}
